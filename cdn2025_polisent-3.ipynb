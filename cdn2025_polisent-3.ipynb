{
  "cells": [
    {
      "cell_type": "markdown",
      "metadata": {
        "id": "TVKBhgF7FkGr"
      },
      "source": [
        "# Env"
      ]
    },
    {
      "cell_type": "code",
      "execution_count": null,
      "metadata": {
        "collapsed": true,
        "id": "-rmTYq9pHTON"
      },
      "outputs": [],
      "source": [
        "!pip install pandas numpy matplotlib torch torchmetrics transformers scikit-learn nltk seaborn praw bertopic hdbscan umap-learn sentence-transformers"
      ]
    },
    {
      "cell_type": "code",
      "execution_count": null,
      "metadata": {
        "id": "0UcQF2K7reCY"
      },
      "outputs": [],
      "source": [
        "!pip uninstall tensorflow\n",
        "!pip install tensorflow==2.12.0"
      ]
    },
    {
      "cell_type": "code",
      "execution_count": null,
      "metadata": {
        "id": "d2gWb4ujHKQB"
      },
      "outputs": [],
      "source": [
        "import pandas as pd\n",
        "import numpy as np\n",
        "import matplotlib.pyplot as plt\n",
        "from google.colab import drive, files\n",
        "\n",
        "import torch\n",
        "import torch.nn as nn\n",
        "from torch.utils.data import DataLoader\n",
        "\n",
        "from transformers import BertModel, BertTokenizer\n",
        "from bertopic import BERTopic\n",
        "from sentence_transformers import SentenceTransformer\n",
        "import hdbscan\n",
        "\n",
        "from sklearn.svm import LinearSVC\n",
        "from sklearn.feature_extraction.text import TfidfVectorizer\n",
        "from sklearn.svm import SVC\n",
        "from sklearn.pipeline import make_pipeline\n",
        "from sklearn.metrics import accuracy_score, confusion_matrix, precision_score, recall_score, f1_score\n",
        "from sklearn.model_selection import train_test_split\n",
        "from sklearn.preprocessing import OneHotEncoder\n",
        "\n",
        "import tensorflow as tf\n",
        "from tensorflow.keras.preprocessing.text import Tokenizer\n",
        "from tensorflow.keras.preprocessing.sequence import pad_sequences\n",
        "from tensorflow.keras.models import Sequential\n",
        "from tensorflow.keras.layers import Embedding, LSTM, Dropout, Dense, BatchNormalization, Bidirectional, SpatialDropout1D\n",
        "from tensorflow.keras.callbacks import EarlyStopping\n",
        "from tensorflow.keras.regularizers import l2\n",
        "\n",
        "import seaborn as sns\n",
        "\n",
        "import praw\n",
        "import datetime\n",
        "import time\n",
        "import csv\n",
        "import requests\n",
        "import json\n",
        "import multiprocessing\n",
        "import os\n",
        "from dateutil.relativedelta import relativedelta\n",
        "\n",
        "import re\n",
        "import string\n",
        "import nltk\n",
        "from nltk.corpus import stopwords, wordnet\n",
        "from nltk.stem import WordNetLemmatizer\n",
        "\n",
        "from tqdm import tqdm\n",
        "\n",
        "import warnings\n",
        "warnings.filterwarnings(\"ignore\", category=UserWarning, module=\"praw\")"
      ]
    },
    {
      "cell_type": "code",
      "execution_count": null,
      "metadata": {
        "colab": {
          "base_uri": "https://localhost:8080/"
        },
        "id": "ASJ-w395P9ua",
        "outputId": "3d0fc167-26d1-4115-d989-6a5851078486"
      },
      "outputs": [
        {
          "name": "stdout",
          "output_type": "stream",
          "text": [
            "Mounted at /content/drive\n"
          ]
        }
      ],
      "source": [
        "TRAIN_PATH = ''\n",
        "LOC = ''\n",
        "drive.mount('/content/drive', force_remount=True)"
      ]
    },
    {
      "cell_type": "code",
      "execution_count": null,
      "metadata": {
        "id": "3vg-Qt_M9Zyb"
      },
      "outputs": [],
      "source": [
        "def open_data(filepath):\n",
        "  df = pd.read_csv(filepath, sep='\\t')\n",
        "  return df"
      ]
    },
    {
      "cell_type": "code",
      "execution_count": null,
      "metadata": {
        "id": "HIKv1IafL3hu"
      },
      "outputs": [],
      "source": [
        "def store_data(data, loc, filename):\n",
        "  df = pd.DataFrame(data)\n",
        "  filepath = os.path.join(loc, filename)\n",
        "  df.to_csv(filepath, sep='\\t', index=False, mode='a', header=not os.path.exists(filepath))"
      ]
    },
    {
      "cell_type": "markdown",
      "metadata": {
        "id": "kvjcn2a__mgD"
      },
      "source": [
        "# Data Collection\n",
        "Using PullPushAPI to retrieve posts and PRAW for their comments from r/canada, r/OnGuardForThee and r/CanadaPolitics in the last year.\n"
      ]
    },
    {
      "cell_type": "code",
      "execution_count": null,
      "metadata": {
        "id": "VJKczeM7--lP"
      },
      "outputs": [],
      "source": [
        "DELAY_SEC = 2\n",
        "DELAY_FATAL = 60"
      ]
    },
    {
      "cell_type": "markdown",
      "metadata": {
        "id": "g6Kkl2kCsmu3"
      },
      "source": [
        "## Retrieve posts within last year"
      ]
    },
    {
      "cell_type": "markdown",
      "metadata": {
        "id": "S0JHgeeCzGpv"
      },
      "source": [
        "### Collect\n",
        "We collect posts with a minimum positive score to indicate posts with high engagement and, therefore, likely many comments."
      ]
    },
    {
      "cell_type": "code",
      "execution_count": null,
      "metadata": {
        "id": "HYW1yaNRbcYw"
      },
      "outputs": [],
      "source": [
        "SUBREDDITS = ['canada', 'onguardforthee', 'CanadianPolitics', 'ontario', 'alberta']\n",
        "SCORE = 100\n",
        "BEGIN_DATE_START = 1709251200\n",
        "BEGIN_DATE_SPAN = 1711843200\n",
        "END_DATE = 1740960000\n",
        "QUERIES= ['liberals', 'conservatives', 'ndp', 'poilievre', 'trudeau', 'carney', 'singh']\n",
        "SIZE = 100\n",
        "POSTS_FILENAME = 'posts.tsv'"
      ]
    },
    {
      "cell_type": "code",
      "execution_count": null,
      "metadata": {
        "id": "KFCeZmyl86Oz"
      },
      "outputs": [],
      "source": [
        "def get_posts(subreddit, score, start_date, end_date, query, size):\n",
        "    PULLPUSH_URL = (\n",
        "        f'https://api.pullpush.io/reddit/submission/search'\n",
        "        f'?html_decode=True&subreddit={subreddit}&score=%3E{score}'\n",
        "        f'&since={start_date}&until={end_date}&q={query}&size={size}'\n",
        "    )\n",
        "    response = requests.get(PULLPUSH_URL)\n",
        "\n",
        "    if response.status_code == 200:\n",
        "      return response.json()\n",
        "    else:\n",
        "      print(f'Request failed with status code {response.status_code}')\n",
        "      print(response.text)\n",
        "      return -1\n",
        "\n",
        "def parse_posts(data):\n",
        "  parsed = []\n",
        "  data = data[\"data\"]\n",
        "  for post in data:\n",
        "    parsed.append({\n",
        "      \"id\": post[\"id\"],\n",
        "      \"created_utc\": datetime.datetime.utcfromtimestamp(post[\"created_utc\"]).strftime('%Y-%m'),\n",
        "      \"subreddit\": post[\"subreddit\"],\n",
        "      \"title\": post[\"title\"],\n",
        "    })\n",
        "  return parsed\n",
        "\n",
        "def update_timestamp(timestamp):\n",
        "  dt = datetime.datetime.utcfromtimestamp(timestamp)\n",
        "  updated_dt = dt + relativedelta(months=1)\n",
        "  return int(updated_dt.timestamp())\n",
        "\n",
        "total_tasks = len(SUBREDDITS) * len(QUERIES)\n",
        "with tqdm(total=total_tasks, desc=\"Processing Subreddits and Queries\") as pbar:\n",
        "  current_date = BEGIN_DATE_START\n",
        "  curr_span = BEGIN_DATE_SPAN\n",
        "  while curr_span < END_DATE:\n",
        "    for subreddit in SUBREDDITS:\n",
        "      for query in QUERIES:\n",
        "        data = get_posts(subreddit, SCORE, current_date, curr_span, query, SIZE)\n",
        "        time.sleep(DELAY_SEC)\n",
        "        if data == -1:\n",
        "          print('Taking a 1 min break...')\n",
        "          time.sleep(DELAY_FATAL)\n",
        "          print('Trying again...')\n",
        "          data = get_posts(subreddit, SCORE, current_date, curr_span, query, SIZE)\n",
        "          if data == -1:\n",
        "            break\n",
        "        parsed = parse_posts(data)\n",
        "        store_data(parsed, LOC, POSTS_FILENAME)\n",
        "    current_date = update_timestamp(current_date)\n",
        "    curr_span = update_timestamp(curr_span)\n",
        "    pbar.update(1)\n",
        "  print(\"Data collection completed.\")"
      ]
    },
    {
      "cell_type": "markdown",
      "metadata": {
        "id": "-iAIz-zgzJch"
      },
      "source": [
        "### Pre-clean\n",
        "We rmove duplicate posts by ID. Posts with the same title in different subreddits are inherently unqiue so are kept. We then filter out unrelated posts with a rejection list as the subreddits may contain provincial-related data."
      ]
    },
    {
      "cell_type": "code",
      "execution_count": null,
      "metadata": {
        "id": "EcJI0UGMj4Ye"
      },
      "outputs": [],
      "source": [
        "REJECT_FILTERS = [\n",
        "    'alberta', 'calgary', 'smith',\n",
        "    'british', 'columbia', 'BC', 'eby',\n",
        "    'manitoba', 'gill',\n",
        "    'new', 'brunswick', 'NB', 'arisman',\n",
        "    'newfoundland', 'labrador', 'furey',\n",
        "    'nova', 'scotia', 'mcneil',\n",
        "    'ontario', 'toronto', 'ford',\n",
        "    'prince', 'edward', 'island', 'king',\n",
        "    'quebec', 'QC', 'leger',\n",
        "    'saskatchewan', 'moe',\n",
        "    'northwest', 'territories', 'mcneal',\n",
        "    'nunavut', 'ivens',\n",
        "    'yukon', 'frost'\n",
        "]"
      ]
    },
    {
      "cell_type": "code",
      "execution_count": null,
      "metadata": {
        "colab": {
          "base_uri": "https://localhost:8080/"
        },
        "id": "cADed_BSzrG7",
        "outputId": "9df41cbb-c873-469a-c6f2-71d42cfefa6a"
      },
      "outputs": [
        {
          "name": "stdout",
          "output_type": "stream",
          "text": [
            "Number of duplicates removed: 1206\n"
          ]
        }
      ],
      "source": [
        "# Remove duplicates\n",
        "filepath = os.path.join(LOC, 'posts.tsv')\n",
        "df = open_data(filepath)\n",
        "df_clean = df.drop_duplicates(subset=['id'])\n",
        "df_clean.to_csv(filepath, sep='\\t', index=False)\n",
        "print(f\"Number of duplicates removed: {len(df) - len(df_clean)}\")"
      ]
    },
    {
      "cell_type": "code",
      "execution_count": null,
      "metadata": {
        "colab": {
          "base_uri": "https://localhost:8080/"
        },
        "id": "1r1yqnsRVM5V",
        "outputId": "c80752c7-449d-42fc-f35e-bd38a1d99b03"
      },
      "outputs": [
        {
          "name": "stdout",
          "output_type": "stream",
          "text": [
            "Number of rejects removed: 1093\n"
          ]
        }
      ],
      "source": [
        "# Filter rejects\n",
        "filepath = os.path.join(LOC, 'posts.tsv')\n",
        "df = open_data(filepath)\n",
        "df_clean = df[~df[\"title\"].str.contains('|'.join(REJECT_FILTERS), case=False, na=False)]\n",
        "df_clean.to_csv(filepath, sep='\\t', index=False)\n",
        "print(f\"Number of rejects removed: {len(df) - len(df_clean)}\")"
      ]
    },
    {
      "cell_type": "markdown",
      "metadata": {
        "id": "RKIScQWdsrWB"
      },
      "source": [
        "## Retrieve comments for each post"
      ]
    },
    {
      "cell_type": "markdown",
      "metadata": {
        "id": "sF_wiijUPUQd"
      },
      "source": [
        "### Collect\n",
        "We collect all top-level comments from each post or the most upvoted 1000 comments, whichever comes first.  "
      ]
    },
    {
      "cell_type": "code",
      "execution_count": null,
      "metadata": {
        "id": "IDHwYrmTPaV8"
      },
      "outputs": [],
      "source": [
        "reddit = praw.Reddit(\n",
        "  client_id=\"\",\n",
        "  client_secret=\"\",\n",
        "  user_agent=\"\",\n",
        "  check_for_async=False\n",
        ")"
      ]
    },
    {
      "cell_type": "code",
      "execution_count": null,
      "metadata": {
        "colab": {
          "base_uri": "https://localhost:8080/"
        },
        "id": "GDI2hTSD92wE",
        "outputId": "413eecfc-f17c-466e-c3dd-8539e4264197"
      },
      "outputs": [
        {
          "name": "stderr",
          "output_type": "stream",
          "text": [
            "Collecting comments::  74%|███████▍  | 1903/2576 [13:52<08:06,  1.38it/s]"
          ]
        },
        {
          "name": "stdout",
          "output_type": "stream",
          "text": [
            "Error fetching comments for 1hx16u1: received 429 HTTP response\n",
            "Taking a 60 sec break...\n"
          ]
        },
        {
          "name": "stderr",
          "output_type": "stream",
          "text": [
            "\rCollecting comments::  74%|███████▍  | 1907/2576 [13:53<05:41,  1.96it/s]"
          ]
        },
        {
          "name": "stdout",
          "output_type": "stream",
          "text": [
            "Error fetching comments for 1hwr412: received 429 HTTP response\n",
            "Taking a 60 sec break...\n",
            "Error fetching comments for 1hxv7nd: received 429 HTTP response\n",
            "Taking a 60 sec break...\n"
          ]
        }
      ],
      "source": [
        "import concurrent.futures\n",
        "\n",
        "def get_comments(post_id):\n",
        "    try:\n",
        "        submission = reddit.submission(id=post_id)\n",
        "        submission.comment_sort = \"top\"\n",
        "        submission.comments.replace_more(limit=0)\n",
        "\n",
        "        comments = [\n",
        "            {\n",
        "                \"id\": comment.id,\n",
        "                \"associated_post\": post_id,\n",
        "                \"body\": comment.body,\n",
        "                \"score\": comment.score\n",
        "            }\n",
        "            for comment in submission.comments.list()\n",
        "        ]\n",
        "        return comments\n",
        "\n",
        "    except Exception as e:\n",
        "        print(f\"Error fetching comments for {post_id}: {e}\")\n",
        "        return -1\n",
        "\n",
        "def process_post(row):\n",
        "    post_id = row['id']\n",
        "    date = row['created_utc']\n",
        "\n",
        "    comments = get_comments(post_id)\n",
        "    if comments == -1:\n",
        "        print(f'Taking a {DELAY_FATAL} sec break...')\n",
        "        time.sleep(DELAY_FATAL)\n",
        "        print('Trying again...')\n",
        "        comments = get_comments(post_id)\n",
        "        if comments == -1:\n",
        "            return None  # Skip this post if it fails again\n",
        "\n",
        "    store_data(comments, f'{LOC}/comments', f'{date}.tsv')\n",
        "\n",
        "def main():\n",
        "    filepath = os.path.join(LOC, 'posts.tsv')\n",
        "    df = open_data(filepath)\n",
        "\n",
        "    with concurrent.futures.ThreadPoolExecutor(max_workers=5) as executor:\n",
        "        list(tqdm(executor.map(process_post, [row for _, row in df.iterrows()]), total=len(df), desc=\"Collecting comments:\"))\n",
        "\n",
        "    print(\"Data collection completed.\")\n",
        "\n",
        "if __name__ == \"__main__\":\n",
        "    main()"
      ]
    },
    {
      "cell_type": "code",
      "execution_count": null,
      "metadata": {
        "colab": {
          "base_uri": "https://localhost:8080/"
        },
        "id": "wLqWYi6TXRKp",
        "outputId": "535f97a6-92bd-4c39-a604-138478a9b0de"
      },
      "outputs": [
        {
          "name": "stdout",
          "output_type": "stream",
          "text": [
            "Total number of comments: 487658\n"
          ]
        }
      ],
      "source": [
        "filepath = os.path.join(LOC, 'comments')\n",
        "total_rows = 0\n",
        "for filename in os.listdir(filepath):\n",
        "  if filename.endswith('.tsv'):\n",
        "    df = open_data(os.path.join(filepath, filename))\n",
        "    df.to_csv(os.path.join(filepath, filename), sep='\\t', index=False)\n",
        "    total_rows += len(df)\n",
        "print(f\"Total number of comments: {total_rows}\")"
      ]
    },
    {
      "cell_type": "markdown",
      "metadata": {
        "id": "a3O1FAJsUYMs"
      },
      "source": [
        "### Pre-clean\n",
        "We utilize our keyword selection criteria to filter out unrelated comments. We remove null comments as well."
      ]
    },
    {
      "cell_type": "code",
      "execution_count": null,
      "metadata": {
        "id": "JrBfk-yRUa2v"
      },
      "outputs": [],
      "source": [
        "KEYWORDS = [\n",
        "    # Political leaders and parties\n",
        "    'justin', 'trudeau', 'pierre', 'poilievre', 'jagmeet', 'singh',\n",
        "    'mark', 'carney', 'ndp', 'new', 'democrats', 'party', 'new', 'democratic', 'party', 'ndp',\n",
        "    'liberal', 'party', 'of', 'canada', 'liberal', 'party', 'liberals', 'lpc', 'liberals', 'liberal',\n",
        "    'conservative', 'party', 'of', 'canada', 'conservative', 'party', 'conservatives', 'cpc', 'pc',\n",
        "    'bloc', 'quebecois', 'bloc', 'green', 'party', 'of', 'canada', 'greens', 'green', 'gpc', 'green', 'party',\n",
        "    'people’s', 'party', 'of', 'canada', 'ppc', 'peoples', 'party', 'socialist', 'socialism',\n",
        "\n",
        "    # Election-related terms\n",
        "    'election', 'polls', 'polling', 'campaign', 'voting', 'votes', 'voter', 'turnout', 'election', 'results',\n",
        "    'election', 'day', 'election', 'campaign', 'ballots', 'voter', 'suppression', 'election', 'fraud',\n",
        "    'polling', 'stations', 'early', 'voting', 'advance', 'polls', 'voter', 'registration', 'voter', 'id',\n",
        "\n",
        "    # Federal issues and policies\n",
        "    'carbon', 'tax', 'tax', 'carbon', 'climate', 'change', 'environment', 'greenhouse', 'gases', 'carbon', 'emissions',\n",
        "    'immigration', 'refugees', 'canadian', 'immigration', 'border', 'control', 'economic', 'policies',\n",
        "    'health', 'care', 'medicare', 'affordable', 'housing', 'indigenous', 'rights', 'reconciliation',\n",
        "    'infrastructure', 'tax', 'reform', 'budget', 'federal', 'budget', 'debt', 'deficit', 'balanced', 'budget',\n",
        "    'canadian', 'sovereignty', 'trade', 'policies', 'international', 'relations', 'foreign', 'policy', 'NAFTA', 'USMCA',\n",
        "\n",
        "    # General political terms\n",
        "    'policy', 'policies', 'platform', 'agenda', 'governance', 'government', 'leadership', 'political', 'party',\n",
        "    'partisan', 'partisanship', 'democracy', 'elections', 'canada', 'canadian', 'constitution', 'parliament',\n",
        "    'house', 'of', 'commons', 'senate', 'pm', 'prime', 'minister', 'opposition', 'backbencher', 'cabinet',\n",
        "    'minister', 'conservative', 'liberal', 'ndp', 'green', 'vote', 'splitting', 'majority', 'minority',\n",
        "\n",
        "    # Election events and dates\n",
        "    '2023', 'election', '2025', 'election', '2021', 'election', 'election', 'results', 'voter', 'turnout', 'election', 'day',\n",
        "\n",
        "    # Miscellaneous\n",
        "    'activism', 'political', 'campaigns', 'voting', 'rights', 'media', 'bias', 'fake', 'news', 'news', 'coverage', 'election', 'integrity',\n",
        "    'debates', 'town', 'halls', 'policy', 'speeches', 'election', 'strategy', 'campaign', 'trail', 'all-candidates', 'meeting'\n",
        "]"
      ]
    },
    {
      "cell_type": "code",
      "execution_count": null,
      "metadata": {
        "colab": {
          "base_uri": "https://localhost:8080/"
        },
        "id": "MVsXhK-RgNOq",
        "outputId": "db65a92a-1ec4-43fd-c81e-469580ddc635"
      },
      "outputs": [
        {
          "name": "stdout",
          "output_type": "stream",
          "text": [
            "Number of comments removed from 2024-03.tsv: 11586\n",
            "Number of comments removed from 2024-04.tsv: 12961\n",
            "Number of comments removed from 2024-05.tsv: 10669\n",
            "Number of comments removed from 2024-06.tsv: 8786\n",
            "Number of comments removed from 2024-07.tsv: 7367\n",
            "Number of comments removed from 2024-08.tsv: 9302\n",
            "Number of comments removed from 2024-09.tsv: 10643\n",
            "Number of comments removed from 2024-10.tsv: 12170\n",
            "Number of comments removed from 2024-11.tsv: 9185\n",
            "Number of comments removed from 2024-12.tsv: 15694\n",
            "Number of comments removed from 2025-01.tsv: 21842\n",
            "Number of comments removed from 2025-02.tsv: 25644\n",
            "Comments remaining: 331809\n"
          ]
        }
      ],
      "source": [
        "keywords_pattern = r'(?:' + '|'.join([re.escape(keyword) for keyword in KEYWORDS]) + r')\\b'\n",
        "\n",
        "filepath = os.path.join(LOC, 'comments')\n",
        "savepath = os.path.join(LOC, 'comments/preclean')\n",
        "total_remaining = 0\n",
        "\n",
        "for filename in os.listdir(filepath):\n",
        "  if filename.endswith('.tsv'):\n",
        "    df = open_data(os.path.join(filepath, filename))\n",
        "\n",
        "    # Remove duplicate IDs\n",
        "    df_clean = df.drop_duplicates(subset=['id'])\n",
        "\n",
        "    # Remove [deleted] and [removed] keywords\n",
        "    df_clean['body'] = df_clean['body'].astype(str)\n",
        "    df_clean = df_clean[~df_clean['body'].str.contains('\\[deleted\\]|\\[removed\\]', na=False)]\n",
        "\n",
        "    # Apply keyword matching via regex (vectorized operation)\n",
        "    df_clean = df_clean[df_clean['body'].str.contains(keywords_pattern, case=False, na=False)]\n",
        "\n",
        "    df_clean.to_csv(os.path.join(savepath, filename), sep='\\t', index=False)\n",
        "\n",
        "    removed_count = len(df) - len(df_clean)\n",
        "    print(f\"Number of comments removed from {filename}: {removed_count}\")\n",
        "\n",
        "    total_remaining += len(df_clean)\n",
        "\n",
        "print('Comments remaining:', total_remaining)"
      ]
    },
    {
      "cell_type": "markdown",
      "metadata": {
        "id": "n5S3gGYuF8Cd"
      },
      "source": [
        "# Data Sanitization and Preparation\n",
        "Removes stopwords, handles special characters, and applies stemming and lemmatization. Encodes numerically to make use of in NN. Tokenizes text into meaninful units and pads/truncates for uniform input length (max token: 512)."
      ]
    },
    {
      "cell_type": "markdown",
      "metadata": {
        "id": "eTW_3jg1E600"
      },
      "source": [
        "## Cleaning"
      ]
    },
    {
      "cell_type": "code",
      "execution_count": null,
      "metadata": {
        "colab": {
          "base_uri": "https://localhost:8080/"
        },
        "id": "jdIvrAl_F6p0",
        "outputId": "e1d61e0e-1da2-4d11-9a5e-45d2d2f0ffc2"
      },
      "outputs": [
        {
          "name": "stderr",
          "output_type": "stream",
          "text": [
            "[nltk_data] Downloading package stopwords to /root/nltk_data...\n",
            "[nltk_data]   Package stopwords is already up-to-date!\n",
            "[nltk_data] Downloading package wordnet to /root/nltk_data...\n",
            "[nltk_data]   Package wordnet is already up-to-date!\n"
          ]
        }
      ],
      "source": [
        "nltk.download('stopwords')\n",
        "nltk.download('wordnet')\n",
        "\n",
        "def remove_stopwords(text):\n",
        "    stop_words = stopwords.words('english')\n",
        "    words = text.split()\n",
        "    filtered_sentence = ''\n",
        "    for word in words:\n",
        "        if word not in stop_words:\n",
        "            filtered_sentence = filtered_sentence + word + ' '\n",
        "    return filtered_sentence\n",
        "\n",
        "def normalize_text(text):\n",
        "    text = text.lower()\n",
        "    text = re.sub('https?://\\S+|www\\.\\S+', '', text)\n",
        "    text = re.sub('\\\\W', ' ', text)\n",
        "    text = re.sub('\\n', '', text)\n",
        "    text = re.sub(' +', ' ', text)\n",
        "    text = re.sub('^ ', '', text)\n",
        "    text = re.sub(' $', '', text)\n",
        "    return text\n",
        "\n",
        "def remove_punctuation(text):\n",
        "    table = str.maketrans('','',string.punctuation)\n",
        "    words = text.split()\n",
        "    filtered_sentence = ''\n",
        "    for word in words:\n",
        "        word = word.translate(table)\n",
        "        filtered_sentence = filtered_sentence + word + ' '\n",
        "    return filtered_sentence\n",
        "\n",
        "def lemmatize(text):\n",
        "    lemmatizer = WordNetLemmatizer()\n",
        "    words = text.split()\n",
        "    filtered_sentence = ''\n",
        "    for word in words:\n",
        "        word = lemmatizer.lemmatize(word, wordnet.VERB)\n",
        "        filtered_sentence = filtered_sentence + word + ' '\n",
        "    return filtered_sentence\n",
        "\n",
        "def clean_text(text):\n",
        "    text = str(text)\n",
        "    text = text.replace(',',' , ')\n",
        "    text = text.replace('.',' . ')\n",
        "    text = text.replace('/',' / ')\n",
        "    text = text.replace('@',' @ ')\n",
        "    text = text.replace('#',' # ')\n",
        "    text = text.replace('?',' ? ')\n",
        "    text = normalize_text(text)\n",
        "    text = remove_punctuation(text)\n",
        "    text = remove_stopwords(text)\n",
        "    text = lemmatize(text)\n",
        "    return text\n",
        "\n",
        "def clean(df):\n",
        "    tqdm.pandas(desc='Cleaning text')\n",
        "    df['body'] = df['body'].progress_apply(clean_text)\n",
        "    print(df.head())\n",
        "    return df"
      ]
    },
    {
      "cell_type": "code",
      "execution_count": null,
      "metadata": {
        "colab": {
          "base_uri": "https://localhost:8080/"
        },
        "id": "A2Dr2Xq5STfW",
        "outputId": "dcfc1be0-c098-43b6-80fd-53059c9a3349"
      },
      "outputs": [
        {
          "name": "stderr",
          "output_type": "stream",
          "text": [
            "Cleaning text: 100%|██████████| 26069/26069 [00:14<00:00, 1763.79it/s]\n"
          ]
        },
        {
          "name": "stdout",
          "output_type": "stream",
          "text": [
            "        id associated_post                                               body  \\\n",
            "0  kx03jer         1bq1xzc  caf break every metric even throw bag money an...   \n",
            "1  kwzomlb         1bq1xzc  shock anyone trudeau tell vet lose leg serve a...   \n",
            "2  kwzuwr5         1bq1xzc  spend money defence something serious people r...   \n",
            "3  kwzs7h7         1bq1xzc  canada people tend hate objective reality henc...   \n",
            "4  kwzuoxs         1bq1xzc  vote national referendum necessary either pay ...   \n",
            "\n",
            "   score  \n",
            "0     80  \n",
            "1     77  \n",
            "2     24  \n",
            "3     23  \n",
            "4     13  \n"
          ]
        },
        {
          "name": "stderr",
          "output_type": "stream",
          "text": [
            "Cleaning text: 100%|██████████| 27575/27575 [00:15<00:00, 1744.36it/s]\n"
          ]
        },
        {
          "name": "stdout",
          "output_type": "stream",
          "text": [
            "        id associated_post                                               body  \\\n",
            "0  l1409ts         1ccacmf  lol jagmeet never die hill would require backb...   \n",
            "1  l141zyp         1ccacmf              hill jagmeet die mount saint pension    \n",
            "2  l141abo         1ccacmf  imagine jagmeet spineless body roll hill like ...   \n",
            "3  l14097k         1ccacmf  kinda shock singh would ok 200 amount whole po...   \n",
            "4  l1467sb         1ccacmf       ndp even pretend support work class anymore    \n",
            "\n",
            "   score  \n",
            "0     90  \n",
            "1     58  \n",
            "2     59  \n",
            "3     48  \n",
            "4     25  \n"
          ]
        },
        {
          "name": "stderr",
          "output_type": "stream",
          "text": [
            "Cleaning text: 100%|██████████| 21271/21271 [00:10<00:00, 2079.03it/s]\n"
          ]
        },
        {
          "name": "stdout",
          "output_type": "stream",
          "text": [
            "        id associated_post                                               body  \\\n",
            "0  l60s1zr         1d2je1x  post appear relate province territory canada r...   \n",
            "1  l60wxjn         1d2je1x  progressive conservative candidate lin paddock...   \n",
            "2  l61hkle         1d2je1x  snatch rather strong word liberals hand seat a...   \n",
            "3  l61q9ub         1d2je1x  newfoundlander settle b ys provincial election...   \n",
            "4  l61ofuo         1d2je1x             point cpc could campaign win election    \n",
            "\n",
            "   score  \n",
            "0      1  \n",
            "1     79  \n",
            "2     48  \n",
            "3     21  \n",
            "4     15  \n"
          ]
        },
        {
          "name": "stderr",
          "output_type": "stream",
          "text": [
            "Cleaning text: 100%|██████████| 19230/19230 [00:10<00:00, 1764.47it/s]\n"
          ]
        },
        {
          "name": "stdout",
          "output_type": "stream",
          "text": [
            "        id associated_post                                               body  \\\n",
            "0  laqm3qc         1dqu2qh                      double stupidity liberal way    \n",
            "1  laqmpfq         1dqu2qh              agree enough immigration yet problem    \n",
            "2  laqz0yn         1dqu2qh  yes young people still afford food house achie...   \n",
            "3  lar713w         1dqu2qh  see trudeau burn house type guy go create lot ...   \n",
            "4  laqnvj5         1dqu2qh  country scream feedback time plug ears scream ...   \n",
            "\n",
            "  score  \n",
            "0   297  \n",
            "1   110  \n",
            "2    34  \n",
            "3    28  \n",
            "4    22  \n"
          ]
        },
        {
          "name": "stderr",
          "output_type": "stream",
          "text": [
            "Cleaning text: 100%|██████████| 14931/14931 [00:08<00:00, 1694.93it/s]\n"
          ]
        },
        {
          "name": "stdout",
          "output_type": "stream",
          "text": [
            "        id associated_post                                               body  \\\n",
            "0  lep7f4m         1eb06wb  probably wont change course current cohort lib...   \n",
            "1  lep9lxe         1eb06wb  liberal crew elect complete bumfinger captain ...   \n",
            "2  lepcugt         1eb06wb  watch week steong party democrats oust sit pre...   \n",
            "3  lepmkab         1eb06wb  guy ship already crash rock time change course...   \n",
            "4  leqa3ov         1eb06wb  want 12 orange juice back oh days much simpler...   \n",
            "\n",
            "   score  \n",
            "0    146  \n",
            "1     39  \n",
            "2     15  \n",
            "3     13  \n",
            "4      6  \n"
          ]
        },
        {
          "name": "stderr",
          "output_type": "stream",
          "text": [
            "Cleaning text: 100%|██████████| 18552/18552 [00:09<00:00, 1920.01it/s]\n"
          ]
        },
        {
          "name": "stdout",
          "output_type": "stream",
          "text": [
            "        id associated_post                                               body  \\\n",
            "0  lkkh1a7         1f4bvgi  leader con pp gonna shit immigration sponsor l...   \n",
            "1  lkkhftt         1f4bvgi  pierre decrease immigration none major party c...   \n",
            "2  lkl38pt         1f4bvgi  protest indian international students want get...   \n",
            "3  lkk9agn         1f4bvgi  pierre never gonna win cpc make mistake vote p...   \n",
            "4  lklsvib         1f4bvgi  keep 70k international students protest deport...   \n",
            "\n",
            "   score  \n",
            "0    137  \n",
            "1     83  \n",
            "2     81  \n",
            "3     26  \n",
            "4     24  \n"
          ]
        },
        {
          "name": "stderr",
          "output_type": "stream",
          "text": [
            "Cleaning text: 100%|██████████| 24325/24325 [00:12<00:00, 1901.80it/s]\n"
          ]
        },
        {
          "name": "stdout",
          "output_type": "stream",
          "text": [
            "        id associated_post                                               body  \\\n",
            "0  lph9et6         1fs22p0  would enormous wealth transfer wealthiest gene...   \n",
            "1  lph8rbq         1fs22p0  liberals already explode deficit reckless susp...   \n",
            "2  lphyswn         1fs22p0  bloc go push push push things anticipation ele...   \n",
            "3  lpho506         1fs22p0  odds everything oas benefit system already mas...   \n",
            "4  lphdvy9         1fs22p0  dislike political conversations contain facts ...   \n",
            "\n",
            "   score  \n",
            "0    186  \n",
            "1     55  \n",
            "2     36  \n",
            "3     34  \n",
            "4     26  \n"
          ]
        },
        {
          "name": "stderr",
          "output_type": "stream",
          "text": [
            "Cleaning text: 100%|██████████| 25529/25529 [00:14<00:00, 1819.35it/s]\n"
          ]
        },
        {
          "name": "stdout",
          "output_type": "stream",
          "text": [
            "        id associated_post                                               body  \\\n",
            "0  luf8njf         1gf6pz9                              trudeau must go like    \n",
            "1  luf9bgz         1gf6pz9                        ample reason right get rid    \n",
            "2  lufqpyh         1gf6pz9  exactly like trump get upset biden drop poilie...   \n",
            "3  lufcdub         1gf6pz9  monkey could beat trudeau election pierre afra...   \n",
            "4  lufac71         1gf6pz9               pierre nothing besides anti trudeau    \n",
            "\n",
            "   score  \n",
            "0    849  \n",
            "1    471  \n",
            "2    270  \n",
            "3    167  \n",
            "4     67  \n"
          ]
        },
        {
          "name": "stderr",
          "output_type": "stream",
          "text": [
            "Cleaning text: 100%|██████████| 19002/19002 [00:09<00:00, 2071.12it/s]\n"
          ]
        },
        {
          "name": "stdout",
          "output_type": "stream",
          "text": [
            "        id associated_post                                               body  \\\n",
            "0  lzjuahg         1h2k803  curious kind nightmare would point sale update...   \n",
            "1  lzjtlh0         1h2k803  liberals ndp great issue help canadians look s...   \n",
            "2  lzjw0au         1h2k803  part pause spend lead start intentionally hold...   \n",
            "3  lzjw7fg         1h2k803  temporary tax break joke retailers go recover ...   \n",
            "4  lzjvlli         1h2k803  bs temp tax relief headaches store use tax fun...   \n",
            "\n",
            "   score  \n",
            "0    117  \n",
            "1     44  \n",
            "2     31  \n",
            "3     17  \n",
            "4     12  \n"
          ]
        },
        {
          "name": "stderr",
          "output_type": "stream",
          "text": [
            "Cleaning text: 100%|██████████| 33814/33814 [00:18<00:00, 1825.62it/s]\n"
          ]
        },
        {
          "name": "stdout",
          "output_type": "stream",
          "text": [
            "        id associated_post                                               body  \\\n",
            "0  m4eh0io         1hp3p2g  urgent year ago point lot merit let go ship su...   \n",
            "1  m4ehfw1         1hp3p2g  let election time national crisis lpc concern ...   \n",
            "2  m4eg08k         1hp3p2g  whole caucus need sweep support government 9 y...   \n",
            "3  m4eiofu         1hp3p2g  still hold blind hope win seat two flush leade...   \n",
            "4  m4ehf6q         1hp3p2g  surprise current projections show likely finis...   \n",
            "\n",
            "   score  \n",
            "0    149  \n",
            "1     98  \n",
            "2     88  \n",
            "3     65  \n",
            "4     55  \n"
          ]
        },
        {
          "name": "stderr",
          "output_type": "stream",
          "text": [
            "Cleaning text: 100%|██████████| 47148/47148 [00:23<00:00, 2027.42it/s]\n"
          ]
        },
        {
          "name": "stdout",
          "output_type": "stream",
          "text": [
            "        id associated_post                                               body  \\\n",
            "0  m9w0f9a         1id3sbs  bail businesses like covid fuck dollar go deva...   \n",
            "1  m9w8jku         1id3sbs  anyone curious even parliament reconvene today...   \n",
            "2  m9wepe9         1id3sbs  fuck everybody want election shut parliament s...   \n",
            "3  m9w0twu         1id3sbs  pretty much guarantee second tariff relief pas...   \n",
            "4  m9vyn8g         1id3sbs  would absolutely hilarious one two opposition ...   \n",
            "\n",
            "   score  \n",
            "0    308  \n",
            "1    140  \n",
            "2     85  \n",
            "3     67  \n",
            "4     33  \n"
          ]
        },
        {
          "name": "stderr",
          "output_type": "stream",
          "text": [
            "Cleaning text: 100%|██████████| 54363/54363 [00:28<00:00, 1881.06it/s]\n"
          ]
        },
        {
          "name": "stdout",
          "output_type": "stream",
          "text": [
            "        id associated_post                                               body  \\\n",
            "0  mf0p0dh         1iz6uwq  federalize health care combine union pension f...   \n",
            "1  mf0jwb0         1iz6uwq  well ford ontario sit billions feds covid days...   \n",
            "2  mf0kow6         1iz6uwq  provinces hold responsible elections feds fund...   \n",
            "3  mf0y7bx         1iz6uwq  medicare establish federal government share 50...   \n",
            "4  mf1pk6f         1iz6uwq  federal government start responsible endless u...   \n",
            "\n",
            "   score  \n",
            "0     51  \n",
            "1     30  \n",
            "2      7  \n",
            "3      7  \n",
            "4      3  \n"
          ]
        }
      ],
      "source": [
        "# Apply to precleaned comments\n",
        "filepath = os.path.join(LOC, 'comments/preclean')\n",
        "df_clean = pd.DataFrame()\n",
        "\n",
        "for filename in os.listdir(filepath):\n",
        "  if filename.endswith('.tsv'):\n",
        "    df = open_data(os.path.join(filepath, filename))\n",
        "    df_clean = clean(df)\n",
        "    store_data(df, f'{LOC}/processed', f'{filename}')"
      ]
    },
    {
      "cell_type": "markdown",
      "metadata": {
        "id": "-560HIP91dfl"
      },
      "source": [
        "## Splitting, Encoding, Tokenization\n",
        "For use by LSTM and BERT models."
      ]
    },
    {
      "cell_type": "code",
      "execution_count": null,
      "metadata": {
        "id": "n983MzovF5o2"
      },
      "outputs": [],
      "source": [
        "VOCAB_SIZE = 50000\n",
        "MAX_LEN = 512\n",
        "trunc_t = 'post'\n",
        "pad_t = 'post'\n",
        "oov_tok = '<OOV>'"
      ]
    },
    {
      "cell_type": "code",
      "execution_count": null,
      "metadata": {
        "id": "oxbZoseH1iL9"
      },
      "outputs": [],
      "source": [
        "def lsvc_split_encode(df):\n",
        "  x = df['text']\n",
        "  y = df['sentiment']\n",
        "\n",
        "  x_train, x_test, y_train, y_test = train_test_split(x, y, test_size=0.2, random_state=42, shuffle=True)\n",
        "\n",
        "  return x_train, x_test, y_train, y_test\n",
        "\n",
        "def lstm_split_encode(df):\n",
        "  x = df['text']\n",
        "  y = df['sentiment']\n",
        "  one = OneHotEncoder()\n",
        "  y = one.fit_transform(np.asarray(y).reshape(-1,1)).toarray()\n",
        "\n",
        "  x_train, x_test, y_train, y_test = train_test_split(x, y, test_size=0.2, random_state=42, shuffle=True)\n",
        "\n",
        "  return x_train, x_test, y_train, y_test\n",
        "\n",
        "def lstm_tok_pad(x_train, x_test):\n",
        "  tokenizer = Tokenizer(num_words=VOCAB_SIZE, oov_token=oov_tok)\n",
        "  tokenizer.fit_on_texts(x_train)\n",
        "\n",
        "  x_train_seq = tokenizer.texts_to_sequences(x_train)\n",
        "  x_test_seq = tokenizer.texts_to_sequences(x_test)\n",
        "\n",
        "  x_train_pad = pad_sequences(x_train_seq, maxlen=MAX_LEN, padding=pad_t, truncating=trunc_t)\n",
        "  x_test_pad = pad_sequences(x_test_seq, maxlen=MAX_LEN, padding=pad_t, truncating=trunc_t)\n",
        "\n",
        "  return x_train_pad, x_test_pad\n",
        "\n",
        "def bert_tok_pad(X_train, y_train):\n",
        "  tokenizer = BertTokenizer.from_pretrained('bert-base-uncased')\n",
        "  inputs = tokenizer(\n",
        "      list(X_train),\n",
        "      padding=True,\n",
        "      truncation=True,\n",
        "      max_length=128,\n",
        "      return_tensors='pt'\n",
        "  )\n",
        "  input_ids = inputs['input_ids']\n",
        "  attention_mask = inputs['attention_mask']\n",
        "  labels = torch.tensor(y_train)\n",
        "\n",
        "  return input_ids, attention_mask, labels"
      ]
    },
    {
      "cell_type": "markdown",
      "metadata": {
        "id": "YjS1pyS2GR6Z"
      },
      "source": [
        "# Define Sentiment Models\n",
        "We utilize LSVC, LSTM and BERT in comparison. LSVC acts as the base model in this case."
      ]
    },
    {
      "cell_type": "markdown",
      "metadata": {
        "id": "aozA8aV8NLwc"
      },
      "source": [
        "## LSVC"
      ]
    },
    {
      "cell_type": "code",
      "execution_count": null,
      "metadata": {
        "id": "P8tBtleZNK1A"
      },
      "outputs": [],
      "source": [
        "def LSVCModel(x_train, y_train):\n",
        "  vectorizer = TfidfVectorizer()\n",
        "  lsvc_model = LinearSVC()\n",
        "  model_pipeline = make_pipeline(vectorizer, lsvc_model)\n",
        "  model_pipeline.fit(x_train, y_train)\n",
        "  return model_pipeline"
      ]
    },
    {
      "cell_type": "markdown",
      "metadata": {
        "id": "uQcUO0lpIlwW"
      },
      "source": [
        "## RNN Model (LSTM)"
      ]
    },
    {
      "cell_type": "code",
      "execution_count": null,
      "metadata": {
        "id": "mvY70jk72gKf"
      },
      "outputs": [],
      "source": [
        "EMBEDDING_DIM = 32\n",
        "LSTM_UNITS_1 = 64\n",
        "LSTM_UNITS_2 = 64\n",
        "DROPOUT_RATE = 0.4\n",
        "LEARNING_RATE = 5e-07\n",
        "EPOCHS = 10"
      ]
    },
    {
      "cell_type": "code",
      "execution_count": null,
      "metadata": {
        "id": "m9wByBY_2C0q"
      },
      "outputs": [],
      "source": [
        "def LSTMModel():\n",
        "  model = Sequential()\n",
        "\n",
        "  model.add(Embedding(input_dim=VOCAB_SIZE, output_dim=EMBEDDING_DIM, name=\"Embedding_Layer\"))\n",
        "  model.add(LSTM_UNITS_1, return_sequences=True, name=\"LSTM_Layer_1\")\n",
        "  model.add(LSTM_UNITS_2, name=\"LSTM_Layer_2\")\n",
        "  model.add(Dropout(DROPOUT_RATE, name=\"Dropout_Layer\"))\n",
        "  model.add(Dense(3, activation='softmax', name=\"Output_Layer\"))\n",
        "\n",
        "  model.compile(optimizer = 'adam', loss = 'categorical_crossentropy', metrics = ['accuracy'])\n",
        "\n",
        "  early_stopping = EarlyStopping(monitor='val_loss', patience=3, restore_best_weights=True)\n",
        "\n",
        "  return model, early_stopping"
      ]
    },
    {
      "cell_type": "markdown",
      "metadata": {
        "id": "8E6yo48xDnPL"
      },
      "source": [
        "# Training / Eval"
      ]
    },
    {
      "cell_type": "code",
      "execution_count": null,
      "metadata": {
        "colab": {
          "base_uri": "https://localhost:8080/"
        },
        "id": "grR6Xx6mGCxc",
        "outputId": "b652e4f4-3349-4d0b-c065-71b876bca1d2"
      },
      "outputs": [
        {
          "name": "stdout",
          "output_type": "stream",
          "text": [
            "Drive already mounted at /content/drive; to attempt to forcibly remount, call drive.mount(\"/content/drive\", force_remount=True).\n"
          ]
        },
        {
          "name": "stderr",
          "output_type": "stream",
          "text": [
            "Cleaning text: 100%|██████████| 32745/32745 [01:53<00:00, 288.90it/s]\n"
          ]
        },
        {
          "name": "stdout",
          "output_type": "stream",
          "text": [
            "   sentiment                                               text\n",
            "0          1  realli slow catch movi like rocket fast enough...\n",
            "1          1  controversi movi high rate prais understand wa...\n",
            "2          1  movi tricki stori good actor done great act movi \n",
            "3          0  believ movi receiv award long slow move predic...\n",
            "4          2  usual debat wether godfath goodfella better mf...\n"
          ]
        }
      ],
      "source": [
        "df = pd.read_csv(TRAIN_PATH, sep='\\t')\n",
        "df.columns = [\"sentiment\", \"text\"]\n",
        "df = clean(df)"
      ]
    },
    {
      "cell_type": "markdown",
      "metadata": {
        "id": "rAoMSYGDQ9jK"
      },
      "source": [
        "## LSVC"
      ]
    },
    {
      "cell_type": "code",
      "execution_count": null,
      "metadata": {
        "id": "AOOUWJXnQ_9V"
      },
      "outputs": [],
      "source": [
        "x_train, x_test, y_train, y_test = lsvc_split_encode(df)\n",
        "model = LSVCModel(x_train, y_train)"
      ]
    },
    {
      "cell_type": "code",
      "execution_count": null,
      "metadata": {
        "colab": {
          "base_uri": "https://localhost:8080/",
          "height": 629
        },
        "id": "TokVl4beXBk0",
        "outputId": "a08b7717-a610-4da0-b2aa-d626fb438251"
      },
      "outputs": [
        {
          "data": {
            "image/png": "[encoded data removed]",
            "text/plain": [
              "<Figure size 800x600 with 2 Axes>"
            ]
          },
          "metadata": {},
          "output_type": "display_data"
        },
        {
          "name": "stdout",
          "output_type": "stream",
          "text": [
            "Accuracy: 0.6183\n",
            "Precision: 0.6131\n",
            "Recall: 0.6183\n",
            "F1-Score: 0.6149\n"
          ]
        }
      ],
      "source": [
        "y_pred = model.predict(x_test)\n",
        "cm = confusion_matrix(y_test, y_pred)\n",
        "\n",
        "plt.figure(figsize=(8, 6))\n",
        "sns.heatmap(cm, annot=True, fmt='d', cmap='Blues',\n",
        "            xticklabels=['Negative', 'Neutral', 'Positive'],\n",
        "            yticklabels=['Negative', 'Neutral', 'Positive'])\n",
        "plt.xlabel('Predicted Label')\n",
        "plt.ylabel('True Label')\n",
        "plt.title('Confusion Matrix')\n",
        "plt.show()\n",
        "\n",
        "accuracy = accuracy_score(y_test, y_pred)\n",
        "precision = precision_score(y_test, y_pred, average='weighted')\n",
        "recall = recall_score(y_test, y_pred, average='weighted')\n",
        "f1 = f1_score(y_test, y_pred, average='weighted')\n",
        "\n",
        "print(f\"Accuracy: {accuracy:.4f}\")\n",
        "print(f\"Precision: {precision:.4f}\")\n",
        "print(f\"Recall: {recall:.4f}\")\n",
        "print(f\"F1-Score: {f1:.4f}\")"
      ]
    },
    {
      "cell_type": "markdown",
      "metadata": {
        "id": "tCi7jRe4FZh4"
      },
      "source": [
        "## LSTM"
      ]
    },
    {
      "cell_type": "code",
      "execution_count": null,
      "metadata": {
        "colab": {
          "base_uri": "https://localhost:8080/",
          "height": 494
        },
        "id": "Xy7wJSDjqd6c",
        "outputId": "346a045f-beb4-4920-81f2-a80fa0bf6bea"
      },
      "outputs": [
        {
          "name": "stderr",
          "output_type": "stream",
          "text": [
            "/usr/local/lib/python3.11/dist-packages/keras/src/layers/core/embedding.py:90: UserWarning: Argument `input_length` is deprecated. Just remove it.\n",
            "  warnings.warn(\n"
          ]
        },
        {
          "data": {
            "text/html": [
              "<pre style=\"white-space:pre;overflow-x:auto;line-height:normal;font-family:Menlo,'DejaVu Sans Mono',consolas,'Courier New',monospace\"><span style=\"font-weight: bold\">Model: \"sequential_19\"</span>\n",
              "</pre>\n"
            ],
            "text/plain": [
              "\u001b[1mModel: \"sequential_19\"\u001b[0m\n"
            ]
          },
          "metadata": {},
          "output_type": "display_data"
        },
        {
          "data": {
            "text/html": [
              "<pre style=\"white-space:pre;overflow-x:auto;line-height:normal;font-family:Menlo,'DejaVu Sans Mono',consolas,'Courier New',monospace\">┏━━━━━━━━━━━━━━━━━━━━━━━━━━━━━━━━━━━━━━┳━━━━━━━━━━━━━━━━━━━━━━━━━━━━━┳━━━━━━━━━━━━━━━━━┓\n",
              "┃<span style=\"font-weight: bold\"> Layer (type)                         </span>┃<span style=\"font-weight: bold\"> Output Shape                </span>┃<span style=\"font-weight: bold\">         Param # </span>┃\n",
              "┡━━━━━━━━━━━━━━━━━━━━━━━━━━━━━━━━━━━━━━╇━━━━━━━━━━━━━━━━━━━━━━━━━━━━━╇━━━━━━━━━━━━━━━━━┩\n",
              "│ embedding_18 (<span style=\"color: #0087ff; text-decoration-color: #0087ff\">Embedding</span>)             │ (<span style=\"color: #00d7ff; text-decoration-color: #00d7ff\">None</span>, <span style=\"color: #00af00; text-decoration-color: #00af00\">50</span>, <span style=\"color: #00af00; text-decoration-color: #00af00\">32</span>)              │         <span style=\"color: #00af00; text-decoration-color: #00af00\">320,000</span> │\n",
              "├──────────────────────────────────────┼─────────────────────────────┼─────────────────┤\n",
              "│ lstm_22 (<span style=\"color: #0087ff; text-decoration-color: #0087ff\">LSTM</span>)                       │ (<span style=\"color: #00d7ff; text-decoration-color: #00d7ff\">None</span>, <span style=\"color: #00af00; text-decoration-color: #00af00\">64</span>)                  │          <span style=\"color: #00af00; text-decoration-color: #00af00\">24,832</span> │\n",
              "├──────────────────────────────────────┼─────────────────────────────┼─────────────────┤\n",
              "│ dropout_15 (<span style=\"color: #0087ff; text-decoration-color: #0087ff\">Dropout</span>)                 │ (<span style=\"color: #00d7ff; text-decoration-color: #00d7ff\">None</span>, <span style=\"color: #00af00; text-decoration-color: #00af00\">64</span>)                  │               <span style=\"color: #00af00; text-decoration-color: #00af00\">0</span> │\n",
              "├──────────────────────────────────────┼─────────────────────────────┼─────────────────┤\n",
              "│ dense_18 (<span style=\"color: #0087ff; text-decoration-color: #0087ff\">Dense</span>)                     │ (<span style=\"color: #00d7ff; text-decoration-color: #00d7ff\">None</span>, <span style=\"color: #00af00; text-decoration-color: #00af00\">3</span>)                   │             <span style=\"color: #00af00; text-decoration-color: #00af00\">195</span> │\n",
              "└──────────────────────────────────────┴─────────────────────────────┴─────────────────┘\n",
              "</pre>\n"
            ],
            "text/plain": [
              "┏━━━━━━━━━━━━━━━━━━━━━━━━━━━━━━━━━━━━━━┳━━━━━━━━━━━━━━━━━━━━━━━━━━━━━┳━━━━━━━━━━━━━━━━━┓\n",
              "┃\u001b[1m \u001b[0m\u001b[1mLayer (type)                        \u001b[0m\u001b[1m \u001b[0m┃\u001b[1m \u001b[0m\u001b[1mOutput Shape               \u001b[0m\u001b[1m \u001b[0m┃\u001b[1m \u001b[0m\u001b[1m        Param #\u001b[0m\u001b[1m \u001b[0m┃\n",
              "┡━━━━━━━━━━━━━━━━━━━━━━━━━━━━━━━━━━━━━━╇━━━━━━━━━━━━━━━━━━━━━━━━━━━━━╇━━━━━━━━━━━━━━━━━┩\n",
              "│ embedding_18 (\u001b[38;5;33mEmbedding\u001b[0m)             │ (\u001b[38;5;45mNone\u001b[0m, \u001b[38;5;34m50\u001b[0m, \u001b[38;5;34m32\u001b[0m)              │         \u001b[38;5;34m320,000\u001b[0m │\n",
              "├──────────────────────────────────────┼─────────────────────────────┼─────────────────┤\n",
              "│ lstm_22 (\u001b[38;5;33mLSTM\u001b[0m)                       │ (\u001b[38;5;45mNone\u001b[0m, \u001b[38;5;34m64\u001b[0m)                  │          \u001b[38;5;34m24,832\u001b[0m │\n",
              "├──────────────────────────────────────┼─────────────────────────────┼─────────────────┤\n",
              "│ dropout_15 (\u001b[38;5;33mDropout\u001b[0m)                 │ (\u001b[38;5;45mNone\u001b[0m, \u001b[38;5;34m64\u001b[0m)                  │               \u001b[38;5;34m0\u001b[0m │\n",
              "├──────────────────────────────────────┼─────────────────────────────┼─────────────────┤\n",
              "│ dense_18 (\u001b[38;5;33mDense\u001b[0m)                     │ (\u001b[38;5;45mNone\u001b[0m, \u001b[38;5;34m3\u001b[0m)                   │             \u001b[38;5;34m195\u001b[0m │\n",
              "└──────────────────────────────────────┴─────────────────────────────┴─────────────────┘\n"
            ]
          },
          "metadata": {},
          "output_type": "display_data"
        },
        {
          "data": {
            "text/html": [
              "<pre style=\"white-space:pre;overflow-x:auto;line-height:normal;font-family:Menlo,'DejaVu Sans Mono',consolas,'Courier New',monospace\"><span style=\"font-weight: bold\"> Total params: </span><span style=\"color: #00af00; text-decoration-color: #00af00\">1,035,083</span> (3.95 MB)\n",
              "</pre>\n"
            ],
            "text/plain": [
              "\u001b[1m Total params: \u001b[0m\u001b[38;5;34m1,035,083\u001b[0m (3.95 MB)\n"
            ]
          },
          "metadata": {},
          "output_type": "display_data"
        },
        {
          "data": {
            "text/html": [
              "<pre style=\"white-space:pre;overflow-x:auto;line-height:normal;font-family:Menlo,'DejaVu Sans Mono',consolas,'Courier New',monospace\"><span style=\"font-weight: bold\"> Trainable params: </span><span style=\"color: #00af00; text-decoration-color: #00af00\">345,027</span> (1.32 MB)\n",
              "</pre>\n"
            ],
            "text/plain": [
              "\u001b[1m Trainable params: \u001b[0m\u001b[38;5;34m345,027\u001b[0m (1.32 MB)\n"
            ]
          },
          "metadata": {},
          "output_type": "display_data"
        },
        {
          "data": {
            "text/html": [
              "<pre style=\"white-space:pre;overflow-x:auto;line-height:normal;font-family:Menlo,'DejaVu Sans Mono',consolas,'Courier New',monospace\"><span style=\"font-weight: bold\"> Non-trainable params: </span><span style=\"color: #00af00; text-decoration-color: #00af00\">0</span> (0.00 B)\n",
              "</pre>\n"
            ],
            "text/plain": [
              "\u001b[1m Non-trainable params: \u001b[0m\u001b[38;5;34m0\u001b[0m (0.00 B)\n"
            ]
          },
          "metadata": {},
          "output_type": "display_data"
        },
        {
          "data": {
            "text/html": [
              "<pre style=\"white-space:pre;overflow-x:auto;line-height:normal;font-family:Menlo,'DejaVu Sans Mono',consolas,'Courier New',monospace\"><span style=\"font-weight: bold\"> Optimizer params: </span><span style=\"color: #00af00; text-decoration-color: #00af00\">690,056</span> (2.63 MB)\n",
              "</pre>\n"
            ],
            "text/plain": [
              "\u001b[1m Optimizer params: \u001b[0m\u001b[38;5;34m690,056\u001b[0m (2.63 MB)\n"
            ]
          },
          "metadata": {},
          "output_type": "display_data"
        },
        {
          "name": "stdout",
          "output_type": "stream",
          "text": [
            "None\n",
            "Epoch 1/15\n",
            "\u001b[1m737/737\u001b[0m \u001b[32m━━━━━━━━━━━━━━━━━━━━\u001b[0m\u001b[37m\u001b[0m \u001b[1m8s\u001b[0m 8ms/step - accuracy: 0.4153 - loss: 1.0408 - val_accuracy: 0.5683 - val_loss: 0.8754\n",
            "Epoch 2/15\n",
            "\u001b[1m737/737\u001b[0m \u001b[32m━━━━━━━━━━━━━━━━━━━━\u001b[0m\u001b[37m\u001b[0m \u001b[1m5s\u001b[0m 6ms/step - accuracy: 0.6022 - loss: 0.8421 - val_accuracy: 0.5863 - val_loss: 0.8646\n",
            "Epoch 3/15\n",
            "\u001b[1m737/737\u001b[0m \u001b[32m━━━━━━━━━━━━━━━━━━━━\u001b[0m\u001b[37m\u001b[0m \u001b[1m6s\u001b[0m 8ms/step - accuracy: 0.6714 - loss: 0.7424 - val_accuracy: 0.5763 - val_loss: 0.9036\n",
            "Epoch 4/15\n",
            "\u001b[1m737/737\u001b[0m \u001b[32m━━━━━━━━━━━━━━━━━━━━\u001b[0m\u001b[37m\u001b[0m \u001b[1m5s\u001b[0m 7ms/step - accuracy: 0.7322 - loss: 0.6360 - val_accuracy: 0.5615 - val_loss: 0.9527\n",
            "Epoch 5/15\n",
            "\u001b[1m737/737\u001b[0m \u001b[32m━━━━━━━━━━━━━━━━━━━━\u001b[0m\u001b[37m\u001b[0m \u001b[1m5s\u001b[0m 6ms/step - accuracy: 0.7757 - loss: 0.5489 - val_accuracy: 0.5618 - val_loss: 1.0617\n"
          ]
        }
      ],
      "source": [
        "x_train, x_test, y_train, y_test = lstm_split_encode(df)\n",
        "x_train, x_test = lstm_tok_pad(x_train, x_test)\n",
        "\n",
        "x_train = np.array(x_train)\n",
        "x_test = np.array(x_test)\n",
        "y_train = np.array(y_train)\n",
        "y_test = np.array(y_test)\n",
        "\n",
        "lstm = LSTMModel()\n",
        "print(model.summary())\n",
        "\n",
        "model = lstm[0]\n",
        "early_stopping = lstm[1]\n",
        "history = model.fit(x_train,y_train,epochs=15,batch_size=32,validation_split=0.1,callbacks=[early_stopping])"
      ]
    },
    {
      "cell_type": "code",
      "execution_count": null,
      "metadata": {
        "colab": {
          "base_uri": "https://localhost:8080/",
          "height": 662
        },
        "id": "kzLdAAwkXOpd",
        "outputId": "1537c6d6-45c3-4bed-bfcc-2ab93481d18e"
      },
      "outputs": [
        {
          "name": "stdout",
          "output_type": "stream",
          "text": [
            "\u001b[1m205/205\u001b[0m \u001b[32m━━━━━━━━━━━━━━━━━━━━\u001b[0m\u001b[37m\u001b[0m \u001b[1m1s\u001b[0m 6ms/step - accuracy: 0.6087 - loss: 0.8523\n",
            "\u001b[1m205/205\u001b[0m \u001b[32m━━━━━━━━━━━━━━━━━━━━\u001b[0m\u001b[37m\u001b[0m \u001b[1m1s\u001b[0m 3ms/step\n"
          ]
        },
        {
          "data": {
            "image/png": "[encoded data removed]",
            "text/plain": [
              "<Figure size 800x600 with 2 Axes>"
            ]
          },
          "metadata": {},
          "output_type": "display_data"
        },
        {
          "name": "stdout",
          "output_type": "stream",
          "text": [
            "Accuracy: 0.5949\n",
            "Precision: 0.5815\n",
            "Recall: 0.5949\n",
            "F1-Score: 0.5821\n"
          ]
        }
      ],
      "source": [
        "score = model.evaluate(np.asarray(x_test),np.asarray(y_test))\n",
        "y_pred_probs = model.predict(x_test)\n",
        "y_pred = np.argmax(y_pred_probs, axis=1)\n",
        "y_test_labels = np.argmax(y_test, axis=1)\n",
        "cm = confusion_matrix(y_test_labels, y_pred)\n",
        "\n",
        "plt.figure(figsize=(8, 6))\n",
        "sns.heatmap(cm, annot=True, fmt='d', cmap='Blues',\n",
        "            xticklabels=['Negative', 'Neutral', 'Positive'],\n",
        "            yticklabels=['Negative', 'Neutral', 'Positive'])\n",
        "plt.xlabel('Predicted Label')\n",
        "plt.ylabel('True Label')\n",
        "plt.title('Confusion Matrix')\n",
        "plt.show()\n",
        "\n",
        "accuracy = accuracy_score(y_test_labels, y_pred)\n",
        "precision = precision_score(y_test_labels, y_pred, average='weighted')\n",
        "recall = recall_score(y_test_labels, y_pred, average='weighted')\n",
        "f1 = f1_score(y_test_labels, y_pred, average='weighted')\n",
        "\n",
        "print(f\"Accuracy: {accuracy:.4f}\")\n",
        "print(f\"Precision: {precision:.4f}\")\n",
        "print(f\"Recall: {recall:.4f}\")\n",
        "print(f\"F1-Score: {f1:.4f}\")"
      ]
    },
    {
      "cell_type": "markdown",
      "metadata": {
        "id": "8m63SU2BRDMm"
      },
      "source": [
        "# Analysis"
      ]
    },
    {
      "cell_type": "markdown",
      "metadata": {
        "id": "mNsHMwZRWitL"
      },
      "source": [
        "## Mentions of Candidates Over Time"
      ]
    },
    {
      "cell_type": "code",
      "execution_count": null,
      "metadata": {
        "colab": {
          "base_uri": "https://localhost:8080/",
          "height": 601
        },
        "id": "PQhXHbQAYX9m",
        "outputId": "8fbdc49b-66bd-4aa6-e88d-3e4a7f297b85"
      },
      "outputs": [
        {
          "data": {
            "image/png": "[encoded data removed]",
            "text/plain": [
              "<Figure size 1200x600 with 1 Axes>"
            ]
          },
          "metadata": {},
          "output_type": "display_data"
        }
      ],
      "source": [
        "# Define candidates and their alternative names\n",
        "CANDIDATE_KEYWORDS = {\n",
        "    'Trudeau': ['trudeau', 'justin', 'pm', 'trudope', 'jt', 'sockboy'],\n",
        "    'Carney': ['carney', 'mark'],\n",
        "    'Singh': ['singh', 'jagmeet'],\n",
        "    'Poilievre': ['poilievre', 'pierre', 'pp', 'skippy']\n",
        "}\n",
        "\n",
        "# Assign colors to each candidate\n",
        "COLORS = {\n",
        "    'Trudeau': 'red',  # Liberal\n",
        "    'Carney': 'darkred',  # Liberal (Alternative)\n",
        "    'Singh': 'orange',  # NDP\n",
        "    'Poilievre': 'blue'  # Conservative\n",
        "}\n",
        "\n",
        "filepath = os.path.join(LOC, 'processed')\n",
        "\n",
        "# Define the event date (YYYY-MM format)\n",
        "EVENT_DATE = '2025-01'\n",
        "EVENT_LABEL = \"Trudeau resigns\"\n",
        "\n",
        "# Store the mentions by date and candidate\n",
        "mentions = []\n",
        "\n",
        "for filename in os.listdir(filepath):\n",
        "    if filename.endswith('.tsv'):\n",
        "        date_str = filename.split('.')[0]  # Extract date part\n",
        "        date = datetime.datetime.strptime(date_str, '%Y-%m')  # Parse date as YYYY-MM\n",
        "\n",
        "        df = open_data(os.path.join(filepath, filename))  # Load data\n",
        "\n",
        "        # Check for mentions of each candidate using all their alternative names\n",
        "        for candidate, keywords in CANDIDATE_KEYWORDS.items():\n",
        "            pattern = r'\\b(?:' + '|'.join(map(re.escape, keywords)) + r')\\b'\n",
        "            mentions_count = df['body'].str.contains(pattern, case=False, na=False, regex=True).sum()\n",
        "            mentions.append({'date': date, 'candidate': candidate, 'mentions': mentions_count})\n",
        "\n",
        "# Convert mentions to a DataFrame\n",
        "mentions_df = pd.DataFrame(mentions)\n",
        "\n",
        "# Convert 'date' to a monthly period for grouping\n",
        "mentions_df['month'] = mentions_df['date'].dt.to_period('M')\n",
        "\n",
        "# Group by month and candidate, summing the mentions\n",
        "monthly_mentions = mentions_df.groupby(['month', 'candidate'])['mentions'].sum().reset_index()\n",
        "\n",
        "# Pivot table to make 'candidate' the columns for easy plotting\n",
        "pivot_df = monthly_mentions.pivot_table(index='month', columns='candidate', values='mentions', fill_value=0)\n",
        "\n",
        "# Plot each candidate's mentions over time with assigned colors\n",
        "plt.figure(figsize=(12, 6))\n",
        "for candidate in CANDIDATE_KEYWORDS.keys():\n",
        "    plt.plot(pivot_df.index.astype(str), pivot_df[candidate], label=candidate, color=COLORS[candidate])\n",
        "\n",
        "# Add a light gray dotted vertical line for the event\n",
        "plt.axvline(EVENT_DATE, color='gray', linestyle='dotted', linewidth=3, label=EVENT_LABEL)\n",
        "\n",
        "# Add text annotation for the event\n",
        "plt.text(EVENT_DATE, pivot_df.max().max() * 0.8, EVENT_LABEL, color='gray', fontsize=10, ha='right')\n",
        "\n",
        "plt.title('Mentions of Candidates Over Time')\n",
        "plt.xlabel('Month')\n",
        "plt.ylabel('Number of Mentions')\n",
        "plt.xticks(rotation=45)\n",
        "plt.legend()\n",
        "plt.grid(True)\n",
        "plt.show()"
      ]
    },
    {
      "cell_type": "markdown",
      "metadata": {
        "id": "OaTZ-XAbW521"
      },
      "source": [
        "## Mentions by Party Over Time"
      ]
    },
    {
      "cell_type": "code",
      "execution_count": null,
      "metadata": {
        "colab": {
          "base_uri": "https://localhost:8080/",
          "height": 601
        },
        "id": "2qJUo5GzBDiH",
        "outputId": "6fa38d24-6105-4c37-88d5-14b526983a68"
      },
      "outputs": [
        {
          "data": {
            "image/png": "[encoded data removed]",
            "text/plain": [
              "<Figure size 1200x600 with 1 Axes>"
            ]
          },
          "metadata": {},
          "output_type": "display_data"
        }
      ],
      "source": [
        "PARTY_KEYWORDS = {\n",
        "    'LPC': ['liberal', 'libs', 'lpc'],\n",
        "    'CPC': ['conservative', 'tory', 'tories', 'pc', 'cpc'],\n",
        "    'NDP': ['ndp', 'new democratic', 'new democrats']\n",
        "}\n",
        "\n",
        "# Assign colors to each party\n",
        "COLORS = {\n",
        "    'LPC': 'red',\n",
        "    'CPC': 'blue',\n",
        "    'NDP': 'orange'\n",
        "}\n",
        "\n",
        "filepath = os.path.join(LOC, 'processed')\n",
        "\n",
        "# Define the event date\n",
        "EVENT_DATE = '2025-01'\n",
        "EVENT_LABEL = \"Trudeau resigns\"\n",
        "\n",
        "# Store the mentions by date and party\n",
        "mentions = []\n",
        "\n",
        "for filename in os.listdir(filepath):\n",
        "    if filename.endswith('.tsv'):\n",
        "        date_str = filename.split('.')[0]  # Extract date part\n",
        "        date = datetime.datetime.strptime(date_str, '%Y-%m')  # Parse date as YYYY-MM\n",
        "\n",
        "        df = open_data(os.path.join(filepath, filename))  # Load data\n",
        "\n",
        "        # Check for mentions of each party using all its keywords\n",
        "        for party, keywords in PARTY_KEYWORDS.items():\n",
        "            # Create a regex pattern that matches any of the keywords\n",
        "            pattern = r'\\b(?:' + '|'.join(map(re.escape, keywords)) + r')\\b'\n",
        "            mentions_count = df['body'].str.contains(pattern, case=False, na=False, regex=True).sum()\n",
        "\n",
        "            mentions.append({'date': date, 'party': party, 'mentions': mentions_count})\n",
        "\n",
        "# Convert mentions to a DataFrame\n",
        "mentions_df = pd.DataFrame(mentions)\n",
        "\n",
        "# Convert 'date' to a monthly period for grouping\n",
        "mentions_df['month'] = mentions_df['date'].dt.to_period('M')\n",
        "\n",
        "# Group by month and party, summing the mentions\n",
        "monthly_mentions = mentions_df.groupby(['month', 'party'])['mentions'].sum().reset_index()\n",
        "\n",
        "# Pivot table to make 'party' the columns for easy plotting\n",
        "pivot_df = monthly_mentions.pivot_table(index='month', columns='party', values='mentions', fill_value=0)\n",
        "\n",
        "# Plot each party's mentions over time with assigned colors\n",
        "plt.figure(figsize=(12, 6))\n",
        "for party in PARTY_KEYWORDS.keys():\n",
        "    plt.plot(pivot_df.index.astype(str), pivot_df[party], label=party, color=COLORS[party])\n",
        "\n",
        "# Add a light gray dotted vertical line for the event\n",
        "plt.axvline(EVENT_DATE, color='gray', linestyle='dotted', linewidth=3, label=EVENT_LABEL)\n",
        "\n",
        "# Add text annotation for the event\n",
        "plt.text(EVENT_DATE, pivot_df.max().max() * 0.8, EVENT_LABEL, color='gray', fontsize=10, ha='right')\n",
        "\n",
        "plt.title('Mentions of Political Parties Within the Last Year')\n",
        "plt.xlabel('Month')\n",
        "plt.ylabel('Number of Mentions')\n",
        "plt.xticks(rotation=45)\n",
        "plt.legend()\n",
        "plt.grid(True)\n",
        "plt.show()"
      ]
    },
    {
      "cell_type": "markdown",
      "metadata": {
        "id": "MoVYvP6RS28w"
      },
      "source": [
        "## Topic Modelling Over Time\n",
        "We apply topic modelling to the posts to see which topics gather the greatest attention over each month."
      ]
    },
    {
      "cell_type": "code",
      "execution_count": null,
      "metadata": {
        "colab": {
          "base_uri": "https://localhost:8080/",
          "height": 1000,
          "referenced_widgets": [
            "646034c547354d46945d1df99c132029",
            "a58c2d58bdfd4eb5a4e5001738ee6269",
            "a01828ec8f0f4dccaa9c9f7e7ae0b427",
            "eed144af28eb4b16a4504bef0639ddb2",
            "4b8fb21b882e4fccae54ec234374b6fb",
            "1316239c97574f6ebc5df2d98ea507e2",
            "6daf40565115471fba47505bd68b98a5",
            "b03364c18e524e54ba691631c3f47c1a",
            "4c5aa126e4274ee1a04b8173feabacd4",
            "0561df25d2d648e48ead0e837ee485e1",
            "94a7a4b30bed4a7dab9a48d667312f04",
            "427e66c223fa4dd988b5e281cbe4d7a3",
            "59934f9b535a4bba8800ca117a4628ec",
            "e6d22ff474be41489316c01df33a69c0",
            "ec3ffd864b954a9889211baec4e493db",
            "67ded072cdb84442a9ed5c6c1782ec73",
            "b1b7317865a94768aacb615aa825d405",
            "6025749cb7f14b81848f83ff8c333e22",
            "bab943d4d998424389ca6b841177ea46",
            "8dd8c3981d77414cbb946869ffdabe4a",
            "e77d092c0f5147a2abcce2e02c348705",
            "3a577e126694458f9cd122532d958b23",
            "582e64defc934e97a8a33e0f7fcbaf25",
            "31ce679564954b4e8439bea6c318f2fd",
            "bf3aa8cdc90e449c88795929d02c144b",
            "b4a41e14394f4dd3b20b619b27daba48",
            "b6bdc7f8e1fb43e596c55e9fa690d8a5",
            "b8de0f8017ed4be0bbc66b0140c3780a",
            "513b634e597d4adeab8c61415e41a33c",
            "0dffee3604614697bcc669814d721a7b",
            "993522e3e407467baf2448505fbcbd7e",
            "b3094e1bbe614827bac7c1b77f105b79",
            "2d75e8ff443241959ac43d8c186208a9",
            "38fbf3972c6f4117bb6c76a6ee202969",
            "6cab066176864a4ba520cdc2f79aa1d9",
            "77c6a5d730724ac7a95ba511525b2fa5",
            "ac7031dca97248ff9be56ffaafa1fb34",
            "bf3b759b6db347589770b03dcef6ce21",
            "6504f13e9ed640e38b548f8e6f975fd5",
            "148fcfcf0a984a7ebf00bc26e82db136",
            "bd1f2dacef094405a60fecfe325aaa7a",
            "00ce1ee60cf441f08fddb2b02c775192",
            "f5a40dde782745c787a7668a24717321",
            "157e1950516c484ea70460afced71c45",
            "cc08e294c86e450c8d366cfd699f10b5",
            "79ac7efd936f4db9ad930543d87b84d5",
            "9936234276024c0e822afc4a6b4208f5",
            "0d0f4e2292bf4867842d46e7ab2e42be",
            "ffb8cc37564243bca75c12880a9791d3",
            "f2b9d40c949442b1968d04ba5d007e27",
            "06daf2a92ba0495b85db5345d7fc5439",
            "506aaeda663b4a04bbee96c6ca4b6fd2",
            "f03736df0b964d2cb045353536bca7d1",
            "aec6dea49e8f490aa6c813699bbd47b6",
            "25938534be5d42f5a6a173f2cedad065",
            "0be86316c8ec417398521af5e77532b7",
            "7baffbdef8cc4ffabef1a50fbdc98c23",
            "aba42b0d90554daa842dfe2433375875",
            "0c10401b490e428ca39a0ac2c39b3bc7",
            "8e1d1c7307d742c0ba091ede0cc76970",
            "0a7971e59e464bebacf33afad144ace0",
            "2095aa6bf95c415a927265647ae7338c",
            "50cf13e4385448afb320853257f9341a",
            "af93e8867f4b40509a2fb42d61394042",
            "d2f01c2239c94261955d1147ecc7fc44",
            "cac71a7525d643bd99a01c0dfd8ef16a",
            "35515ca504194b529e8d04de2e2e6c4f",
            "9f1cc6ac31554df992510d745805c59b",
            "d12b822d8b2541f2a5e167818ce489f4",
            "be57f842d26e40fd89b6e4147b9cbf56",
            "2111ab4599e04a33a8ace712e001555d",
            "ca2c7b743275491c8a39c5037ac740da",
            "192fa31e98d341ae872def39f97ce560",
            "39402b25b2a540c1931829127d0abc00",
            "eb9d3346457f476cb14ca662a0bc0b6e",
            "ea3d21a38a2b4d86acf5ce7db21149c3",
            "7d68fea4fa554c13b28765a525c943e3",
            "089dcdd419e04196be06d7003c54c746",
            "fcdb6140328d4b30a1f411d85f135484",
            "6b1f0c91d5c64ed7805aceee6b6df7eb",
            "c31a0426c89d4c73bda05a696d72b63e",
            "7d48fe36742c40e28f443f0cb77667f0",
            "2272f62e510a469e8fa84753c1851797",
            "67e87b6af2d844d88b20852bc9c748e8",
            "3995675ef0da4a3bb4dbbc81b206c1b9",
            "5dd8271d4ef64c6aa326b7d550bfff78",
            "97af29923f2d4979852892b67b554f42",
            "43cae231800c4265883cf0ffdadfcdd8",
            "36389db7f2c943588f636fb991d4831f",
            "13e11e179d524312be98ac25ede22a84",
            "cec9823186fb4e7799b1c49b72c4eada",
            "5d21e4b284ab449db57214cd23fa35d8",
            "b11ec13cbbcb46ce8b1f71fbb38414b8",
            "3d787d6690da4442a5abd86079436d62",
            "069cde1ea7774068afb9598b78a5505a",
            "649433e82b6948bb9237d667b8acf5ed",
            "6bbdd38ebbb94859bc2c681669a520f5",
            "f187896ac03b4eb9a513b167e1ad76ed",
            "0bf4bc3aa64c45a39a6c0adcd14dd7cc",
            "6d4b5a1d2a88466d83265b848405d514",
            "1fecc0e309294f98bcd889accd15f53e",
            "76bec4b1aa0c4739b282868c49e8eb18",
            "2a99f5a855a64fa4ba28cdf78a81e18c",
            "a1924c821a374bf5808df4fbcc5f5492",
            "941ed47f31764403852b586c6b6bd4fb",
            "426fe97cf5a04f5cabc32103d1d7747f",
            "6f25322382d646a8838845b8d8207ccf",
            "0be3aeca1e034d93a3472843a2e22db5",
            "a266e1e445ca4b0b85d1eb619fe6d57d",
            "d95f264b677044928b02bb5735a1e0b3",
            "5aa0d3699f0a4efcbef13899e39d7fb4",
            "280547d411d841d9b87989f116e5843e",
            "e07b3c4d91ad41e38ae6c3d0892922db",
            "7e23634e39fd44b69fe4d1f09ae8500c",
            "7f4cd6554329422b83562dd066773e06",
            "bfe570b3aa624f50b032344a42e003e7",
            "d6193b4091c94bc9b19dc597c335a0e5",
            "7a8b8c1a5afe433b8fcc35f397f3a558",
            "57d603afa94c4e18950abeeb28d000a6",
            "d1fa790ded9042de8e166d05e4e4073a",
            "5c13970966fa46f5ae63a24395437c55",
            "3a3c09eb964a447f946efddad4661991",
            "a63501b4ff6f45a0a907d89efd89674d",
            "6ed02450d58f49fbb2c4c52b95fb7b3d",
            "efd2f9dceab14dfa8d89995dd72ba93f",
            "9cb1db35c0ef4f3480d44f396bfcb5bc",
            "ac0a01e68cc6452e8ad0cc9c50e3b322",
            "98c5e516ff7b4da0bf6deb85223444a9",
            "4016759cb64e47c381be21376878f913",
            "afccfa2a3aba42f1a89fd2f1f1c27575",
            "03ef46af2d85446eaa87bd4825f77da7",
            "3de892e93f1e4aed8672520566aecba0"
          ]
        },
        "collapsed": true,
        "id": "C7IU9omJTMTk",
        "outputId": "fee02ca5-e894-41c4-91dd-46a2ac68eab1"
      },
      "outputs": [
        {
          "data": {
            "application/vnd.jupyter.widget-view+json": {
              "model_id": "646034c547354d46945d1df99c132029",
              "version_major": 2,
              "version_minor": 0
            },
            "text/plain": [
              "Batches:   0%|          | 0/815 [00:00<?, ?it/s]"
            ]
          },
          "metadata": {},
          "output_type": "display_data"
        },
        {
          "data": {
            "application/vnd.jupyter.widget-view+json": {
              "model_id": "427e66c223fa4dd988b5e281cbe4d7a3",
              "version_major": 2,
              "version_minor": 0
            },
            "text/plain": [
              "Batches:   0%|          | 0/1724 [00:00<?, ?it/s]"
            ]
          },
          "metadata": {},
          "output_type": "display_data"
        },
        {
          "data": {
            "application/vnd.jupyter.widget-view+json": {
              "model_id": "582e64defc934e97a8a33e0f7fcbaf25",
              "version_major": 2,
              "version_minor": 0
            },
            "text/plain": [
              "Batches:   0%|          | 0/1330 [00:00<?, ?it/s]"
            ]
          },
          "metadata": {},
          "output_type": "display_data"
        },
        {
          "data": {
            "application/vnd.jupyter.widget-view+json": {
              "model_id": "38fbf3972c6f4117bb6c76a6ee202969",
              "version_major": 2,
              "version_minor": 0
            },
            "text/plain": [
              "Batches:   0%|          | 0/1202 [00:00<?, ?it/s]"
            ]
          },
          "metadata": {},
          "output_type": "display_data"
        },
        {
          "data": {
            "application/vnd.jupyter.widget-view+json": {
              "model_id": "cc08e294c86e450c8d366cfd699f10b5",
              "version_major": 2,
              "version_minor": 0
            },
            "text/plain": [
              "Batches:   0%|          | 0/934 [00:00<?, ?it/s]"
            ]
          },
          "metadata": {},
          "output_type": "display_data"
        },
        {
          "data": {
            "application/vnd.jupyter.widget-view+json": {
              "model_id": "0be86316c8ec417398521af5e77532b7",
              "version_major": 2,
              "version_minor": 0
            },
            "text/plain": [
              "Batches:   0%|          | 0/1160 [00:00<?, ?it/s]"
            ]
          },
          "metadata": {},
          "output_type": "display_data"
        },
        {
          "data": {
            "application/vnd.jupyter.widget-view+json": {
              "model_id": "35515ca504194b529e8d04de2e2e6c4f",
              "version_major": 2,
              "version_minor": 0
            },
            "text/plain": [
              "Batches:   0%|          | 0/1521 [00:00<?, ?it/s]"
            ]
          },
          "metadata": {},
          "output_type": "display_data"
        },
        {
          "data": {
            "application/vnd.jupyter.widget-view+json": {
              "model_id": "089dcdd419e04196be06d7003c54c746",
              "version_major": 2,
              "version_minor": 0
            },
            "text/plain": [
              "Batches:   0%|          | 0/1596 [00:00<?, ?it/s]"
            ]
          },
          "metadata": {},
          "output_type": "display_data"
        },
        {
          "data": {
            "application/vnd.jupyter.widget-view+json": {
              "model_id": "36389db7f2c943588f636fb991d4831f",
              "version_major": 2,
              "version_minor": 0
            },
            "text/plain": [
              "Batches:   0%|          | 0/1188 [00:00<?, ?it/s]"
            ]
          },
          "metadata": {},
          "output_type": "display_data"
        },
        {
          "data": {
            "application/vnd.jupyter.widget-view+json": {
              "model_id": "6d4b5a1d2a88466d83265b848405d514",
              "version_major": 2,
              "version_minor": 0
            },
            "text/plain": [
              "Batches:   0%|          | 0/2114 [00:00<?, ?it/s]"
            ]
          },
          "metadata": {},
          "output_type": "display_data"
        },
        {
          "data": {
            "application/vnd.jupyter.widget-view+json": {
              "model_id": "5aa0d3699f0a4efcbef13899e39d7fb4",
              "version_major": 2,
              "version_minor": 0
            },
            "text/plain": [
              "Batches:   0%|          | 0/2947 [00:00<?, ?it/s]"
            ]
          },
          "metadata": {},
          "output_type": "display_data"
        },
        {
          "data": {
            "application/vnd.jupyter.widget-view+json": {
              "model_id": "3a3c09eb964a447f946efddad4661991",
              "version_major": 2,
              "version_minor": 0
            },
            "text/plain": [
              "Batches:   0%|          | 0/3398 [00:00<?, ?it/s]"
            ]
          },
          "metadata": {},
          "output_type": "display_data"
        },
        {
          "name": "stdout",
          "output_type": "stream",
          "text": [
            "\n",
            "2024-03:\n",
            "  - Topic 0: israel, hamas, palestinians, palestine, gaza, palestinian, jews, jewish, israeli, land (1384 occurrences)\n",
            "  - Topic 1: ndp, liberals, libs, voters, vote, party, liberal, coalition, chance, election (541 occurrences)\n",
            "  - Topic 2: conservatives, conservative, liberal, liberals, vote, blame, rid, worse, win, voters (466 occurrences)\n",
            "  - Topic 3: immigration, immigrants, students, visa, tfws, tie, number, population, immigrant, skilled (416 occurrences)\n",
            "\n",
            "2024-04:\n",
            "  - Topic 0: maker, linerals, wohld, wtaf, hezzbolah, catharines, backbone, hop, ndp, leftism (141 occurrences)\n",
            "  - Topic 1: poilievre, pointy, cockiness, gauche, gaine, kristi, preprogrammed, poiliever, noem, tryhard (133 occurrences)\n",
            "  - Topic 2: hamas, gaza, civilians, israel, innocent, qatar, surrender, palestinians, kill, israeli (128 occurrences)\n",
            "  - Topic 3: chf, tonne, revenues, murphy, cleaners, rex, increate, taxfoundation, eur, compensator (111 occurrences)\n",
            "\n",
            "2024-05:\n",
            "  - Topic 0: monsters, praise, commonsenserevolution, duplicity, beaker, rantings, username, mikeharris, finer, ppls (149 occurrences)\n",
            "  - Topic 1: lobbyists, lobby, meet, lobbyist, overpay, corporate, lobbiests, shopify, growers, regulatory (132 occurrences)\n",
            "  - Topic 2: gigs, gb, 20gb, 100gb, 50gb, 10gb, unlimited, data, 34, bundle (131 occurrences)\n",
            "  - Topic 3: singh, burnaby, accomplishments, orange, ndp, broomstick, spoilers, distaste, redrawn, morsel (120 occurrences)\n",
            "\n",
            "2024-06:\n",
            "  - Topic 0: singh, sixbuzz, davis, doer, furrow, brows, fkn, fidani, carlo, championship (136 occurrences)\n",
            "  - Topic 1: traitors, traitorous, traitor, cockass, musta, unmerciful, fked, nutella, mpossible, cowardice (88 occurrences)\n",
            "  - Topic 2: sarah, nbsp, call, jamooks, bandaid, soo, inundate, election, deadline, trudy (84 occurrences)\n",
            "  - Topic 3: socialists, bipartisan, 1b, mngp2fvqg0n1lj7p, tomtsec, resultinf, prettu, pk1ykn9rizjuducnwxcwta, jacket, intersectionalists (82 occurrences)\n",
            "\n",
            "2024-07:\n",
            "  - Topic 0: losers, othe, mindblowing, fountain, relevance, forfeit, ndp, unelectable, centric, undemocratic (81 occurrences)\n",
            "  - Topic 1: playground, school, elementary, neighbourhoods, site, parent, playgrounds, mall, needle, users (71 occurrences)\n",
            "  - Topic 2: macron, rn, france, ensemble, french, uxd, npf, menace, coalitions, concession (71 occurrences)\n",
            "  - Topic 3: prisons, homeless, mental, health, utilization, cus, surpass, contrarian, transportation, solve (70 occurrences)\n",
            "\n",
            "2024-08:\n",
            "  - Topic 0: ummm, womp, hemorrhoid, taint, 107, sophie, wheee, wiener, haul, twain (153 occurrences)\n",
            "  - Topic 1: cpc, reap, milk, parse, kitty, psychpant, bzzzzzz, foreheads, brainworms, stamina (131 occurrences)\n",
            "  - Topic 2: coverage, olympics, olympic, cbc, gem, bbc, sport, nbc, ceremony, commentary (126 occurrences)\n",
            "  - Topic 3: dental, pharmacare, dentalcare, dentists, pharma, childcare, antiscab, ndeb, certify, takers (126 occurrences)\n",
            "\n",
            "2024-09:\n",
            "  - Topic 0: dental, teeth, tooth, bone, preventative, emergency, strive, care, dentures, surgeries (161 occurrences)\n",
            "  - Topic 1: pierre, scheer, envious, holland, pierrepoilievremp, jagweed, wingman, ftf, gawwwd, shawinigan (159 occurrences)\n",
            "  - Topic 2: uhhh, punt, connotation, womanly, panama, quirky, mommy, donezo, commandant, revoir (95 occurrences)\n",
            "  - Topic 3: weapons, nato, ukraine, range, superpower, russia, deep, munition, arm, ip (89 occurrences)\n",
            "\n",
            "2024-10:\n",
            "  - Topic 0: oas, seniors, gi, cpp, retirement, age, 65, income, generation, young (174 occurrences)\n",
            "  - Topic 1: poilievre, pinky, situational, herbal, gargle, noone, crayfishes, vindictiveness, disabilites, sayings (150 occurrences)\n",
            "  - Topic 2: pierre, dunk, png, tf, carla, stead, chemistry, claude, connextion, qualtrough (139 occurrences)\n",
            "  - Topic 3: justin, coulda, q3, justine, overreactions, flation, woof, moralistic, la, justins (120 occurrences)\n",
            "\n",
            "2024-11:\n",
            "  - Topic 0: medicine, natural, products, cure, remedy, supplement, herbs, snake, crystals, health (110 occurrences)\n",
            "  - Topic 1: studio, idiot, 1992, scumbag, 2003, 1984, malonia, hazbollah, 2013leadership, ardern (102 occurrences)\n",
            "  - Topic 2: pregnancy, charitable, centre, abortion, pregnant, abortions, clinics, women, disclose, charity (92 occurrences)\n",
            "  - Topic 3: poilievre, streak, seamstress, sectional, loveseat, cringeworthy, pretendindian, nebbish, neverpoilievre, noramlly (90 occurrences)\n",
            "\n",
            "2024-12:\n",
            "  - Topic 0: feminism, feminist, women, sexist, jodie, feminists, diversity, female, misogyny, woman (145 occurrences)\n",
            "  - Topic 1: pierre, petty, immagration, retriever, rizzlers, suspense, peril, freebies, spectacle, bootlicker (131 occurrences)\n",
            "  - Topic 2: blq, catchment, bennifit, dipship, noping, referendum, fists, thebeaverton, forevermore, afterthought (127 occurrences)\n",
            "  - Topic 3: justin, illinformed, funky, comb, ingrown, suzuki, someway, crouch, dingle, ghgs (109 occurrences)\n",
            "\n",
            "2025-01:\n",
            "  - Topic 0: heinz, ketchup, leamington, kraft, tomatoes, sauce, primo, french, tomato, taste (284 occurrences)\n",
            "  - Topic 1: freeland, baggage, sandwich, gretzky, fray, commencement, surrogate, negotiators, kam, gikrzhbaoky (179 occurrences)\n",
            "  - Topic 2: oppress, cpc, wokester, bafoonery, modhi, mod, prepay, romper, brrrrrrrrrrrrrrr, slaahed (127 occurrences)\n",
            "  - Topic 3: diagolon, poilievre, meaty, kip, dynamite, piere, beefcake, napoleon, scenerios, avereage (125 occurrences)\n",
            "\n",
            "2025-02:\n",
            "  - Topic 0: gun, owners, firearms, owner, firearm, registry, crimes, license, crime, legally (169 occurrences)\n",
            "  - Topic 1: beware, crowder, pierre, nt, vysq5a7qgd7kjlc5, 9hitwg0, polyliar, c86, pies, dye (162 occurrences)\n",
            "  - Topic 2: jagmeet, gene, vvin, tribalist, jagoff, adios, segall, seeth, lebell, schmendrik (139 occurrences)\n",
            "  - Topic 3: alberta, albertan, calgary, albertans, forginer, 20years, creamsicle, figureheads, daniele, cardston (114 occurrences)\n"
          ]
        }
      ],
      "source": [
        "embedding_model = SentenceTransformer(\"all-MiniLM-L6-v2\")\n",
        "hdbscan_cluster = hdbscan.HDBSCAN(min_cluster_size=5, metric='euclidean', cluster_selection_method='eom')\n",
        "monthly_topics = {}\n",
        "\n",
        "filepath = os.path.join(LOC, 'processed')\n",
        "for filename in os.listdir(filepath):\n",
        "    if filename.endswith('.tsv'):\n",
        "        date_str = filename.split('.')[0]\n",
        "        date = datetime.datetime.strptime(date_str, '%Y-%m')\n",
        "\n",
        "        df = open_data(os.path.join(filepath, filename))\n",
        "        comments = df['body'].astype(str).tolist()\n",
        "        embeddings = embedding_model.encode(comments, show_progress_bar=True)\n",
        "\n",
        "        topic_model = BERTopic(embedding_model=embedding_model, hdbscan_model=hdbscan_cluster)\n",
        "        topics, _ = topic_model.fit_transform(comments, embeddings)\n",
        "\n",
        "        topic_freq = topic_model.get_topic_freq()\n",
        "        top_topics = topic_freq.iloc[1:5]  # Get top 5 topics (exclude -1 if it's the outlier)\n",
        "\n",
        "        topic_labels = {}\n",
        "        for topic in top_topics['Topic']:\n",
        "            top_words = topic_model.get_topic(topic)[:10]  # Top 10 words for the topic\n",
        "            topic_label = \", \".join([word[0] for word in top_words])  # Inferred label from top words\n",
        "            topic_labels[topic] = topic_label\n",
        "\n",
        "        # Store monthly data with topic frequency and inferred labels\n",
        "        monthly_topics[date_str] = []\n",
        "        for topic in top_topics[['Topic', 'Count']].to_dict(orient='records'):\n",
        "            topic_info = topic.copy()\n",
        "            topic_info['Label'] = topic_labels[topic['Topic']]\n",
        "            monthly_topics[date_str].append(topic_info)\n",
        "\n",
        "for month, topics in sorted(monthly_topics.items()):\n",
        "    print(f\"\\n{month}:\")\n",
        "    for topic in topics:\n",
        "        print(f\"  - Topic {topic['Topic']}: {topic['Label']} ({topic['Count']} occurrences)\")"
      ]
    },
    {
      "cell_type": "code",
      "execution_count": null,
      "metadata": {
        "colab": {
          "base_uri": "https://localhost:8080/",
          "height": 1000
        },
        "id": "hd3r1ap8WJpG",
        "outputId": "5a84d1b9-dc05-443b-d99f-99c1cf313bc1"
      },
      "outputs": [
        {
          "data": {
            "image/png": "[encoded data removed]",
            "text/plain": [
              "<Figure size 1200x1000 with 1 Axes>"
            ]
          },
          "metadata": {},
          "output_type": "display_data"
        }
      ],
      "source": [
        "months = []\n",
        "topic_labels = []\n",
        "topic_counts = []\n",
        "\n",
        "for month, topics in sorted(monthly_topics.items()):\n",
        "    months.append(month)\n",
        "\n",
        "    for topic in topics:\n",
        "        truncated_label = ' '.join(topic['Label'].split()[:5])\n",
        "        topic_labels.append(truncated_label)\n",
        "        topic_counts.append(topic['Count'])\n",
        "\n",
        "fig, ax = plt.subplots(figsize=(12, 10))\n",
        "ax.spines['top'].set_visible(False)\n",
        "ax.spines['right'].set_visible(False)\n",
        "\n",
        "topics_per_month = 4\n",
        "bar_width = 0.2\n",
        "index = np.arange(len(months))\n",
        "\n",
        "for i, month in enumerate(sorted(monthly_topics.keys())):\n",
        "    month_topics = monthly_topics[month]\n",
        "    for j, topic in enumerate(month_topics):\n",
        "        ax.bar(index[i] + j * bar_width, topic['Count'], bar_width, label=topic['Label'])\n",
        "\n",
        "for i, month in enumerate(sorted(monthly_topics.keys())):\n",
        "    for j, topic in enumerate(monthly_topics[month]):\n",
        "        ax.text(\n",
        "            index[i] + j * bar_width,\n",
        "            topic['Count'] + 40,\n",
        "            topic_labels[i * len(monthly_topics[month]) + j],\n",
        "            ha='center',\n",
        "            rotation=90,\n",
        "            fontsize=8,\n",
        "        )\n",
        "\n",
        "ax.set_xlabel('Months')\n",
        "ax.set_ylabel('Occurrences')\n",
        "ax.set_title('Top Topics per Month', pad=200)\n",
        "ax.set_xticks(index + bar_width * (topics_per_month / 2 - 1))\n",
        "ax.set_xticklabels(months, rotation=45)\n",
        "plt.subplots_adjust(bottom=0.15, top=0.9)\n",
        "\n",
        "plt.tight_layout()\n",
        "plt.show()"
      ]
    },
    {
      "cell_type": "markdown",
      "metadata": {
        "id": "zKB8mukgYb2z"
      },
      "source": [
        "## Sentiment Impressions Over Time"
      ]
    },
    {
      "cell_type": "code",
      "execution_count": null,
      "metadata": {
        "id": "WQFZvsRvhb3M"
      },
      "outputs": [],
      "source": []
    },
    {
      "cell_type": "markdown",
      "metadata": {
        "id": "8eyyGgJRXLo6"
      },
      "source": [
        "## Topic-to-Candidate Sentiment Over Time"
      ]
    }
  ],
  "metadata": {
    "accelerator": "GPU",
    "colab": {
      "collapsed_sections": [
        "TVKBhgF7FkGr",
        "kvjcn2a__mgD",
        "-iAIz-zgzJch",
        "sF_wiijUPUQd",
        "eTW_3jg1E600",
        "-560HIP91dfl",
        "YjS1pyS2GR6Z",
        "aozA8aV8NLwc",
        "8E6yo48xDnPL",
        "rAoMSYGDQ9jK"
      ],
      "gpuType": "T4",
      "provenance": []
    },
    "kernelspec": {
      "display_name": "Python 3",
      "name": "python3"
    },
    "language_info": {
      "name": "python"
    },
    "widgets": {
      "application/vnd.jupyter.widget-state+json": {
        "00ce1ee60cf441f08fddb2b02c775192": {
          "model_module": "@jupyter-widgets/controls",
          "model_module_version": "1.5.0",
          "model_name": "ProgressStyleModel",
          "state": {
            "_model_module": "@jupyter-widgets/controls",
            "_model_module_version": "1.5.0",
            "_model_name": "ProgressStyleModel",
            "_view_count": null,
            "_view_module": "@jupyter-widgets/base",
            "_view_module_version": "1.2.0",
            "_view_name": "StyleView",
            "bar_color": null,
            "description_width": ""
          }
        },
        "03ef46af2d85446eaa87bd4825f77da7": {
          "model_module": "@jupyter-widgets/base",
          "model_module_version": "1.2.0",
          "model_name": "LayoutModel",
          "state": {
            "_model_module": "@jupyter-widgets/base",
            "_model_module_version": "1.2.0",
            "_model_name": "LayoutModel",
            "_view_count": null,
            "_view_module": "@jupyter-widgets/base",
            "_view_module_version": "1.2.0",
            "_view_name": "LayoutView",
            "align_content": null,
            "align_items": null,
            "align_self": null,
            "border": null,
            "bottom": null,
            "display": null,
            "flex": null,
            "flex_flow": null,
            "grid_area": null,
            "grid_auto_columns": null,
            "grid_auto_flow": null,
            "grid_auto_rows": null,
            "grid_column": null,
            "grid_gap": null,
            "grid_row": null,
            "grid_template_areas": null,
            "grid_template_columns": null,
            "grid_template_rows": null,
            "height": null,
            "justify_content": null,
            "justify_items": null,
            "left": null,
            "margin": null,
            "max_height": null,
            "max_width": null,
            "min_height": null,
            "min_width": null,
            "object_fit": null,
            "object_position": null,
            "order": null,
            "overflow": null,
            "overflow_x": null,
            "overflow_y": null,
            "padding": null,
            "right": null,
            "top": null,
            "visibility": null,
            "width": null
          }
        },
        "0561df25d2d648e48ead0e837ee485e1": {
          "model_module": "@jupyter-widgets/base",
          "model_module_version": "1.2.0",
          "model_name": "LayoutModel",
          "state": {
            "_model_module": "@jupyter-widgets/base",
            "_model_module_version": "1.2.0",
            "_model_name": "LayoutModel",
            "_view_count": null,
            "_view_module": "@jupyter-widgets/base",
            "_view_module_version": "1.2.0",
            "_view_name": "LayoutView",
            "align_content": null,
            "align_items": null,
            "align_self": null,
            "border": null,
            "bottom": null,
            "display": null,
            "flex": null,
            "flex_flow": null,
            "grid_area": null,
            "grid_auto_columns": null,
            "grid_auto_flow": null,
            "grid_auto_rows": null,
            "grid_column": null,
            "grid_gap": null,
            "grid_row": null,
            "grid_template_areas": null,
            "grid_template_columns": null,
            "grid_template_rows": null,
            "height": null,
            "justify_content": null,
            "justify_items": null,
            "left": null,
            "margin": null,
            "max_height": null,
            "max_width": null,
            "min_height": null,
            "min_width": null,
            "object_fit": null,
            "object_position": null,
            "order": null,
            "overflow": null,
            "overflow_x": null,
            "overflow_y": null,
            "padding": null,
            "right": null,
            "top": null,
            "visibility": null,
            "width": null
          }
        },
        "069cde1ea7774068afb9598b78a5505a": {
          "model_module": "@jupyter-widgets/controls",
          "model_module_version": "1.5.0",
          "model_name": "DescriptionStyleModel",
          "state": {
            "_model_module": "@jupyter-widgets/controls",
            "_model_module_version": "1.5.0",
            "_model_name": "DescriptionStyleModel",
            "_view_count": null,
            "_view_module": "@jupyter-widgets/base",
            "_view_module_version": "1.2.0",
            "_view_name": "StyleView",
            "description_width": ""
          }
        },
        "06daf2a92ba0495b85db5345d7fc5439": {
          "model_module": "@jupyter-widgets/controls",
          "model_module_version": "1.5.0",
          "model_name": "DescriptionStyleModel",
          "state": {
            "_model_module": "@jupyter-widgets/controls",
            "_model_module_version": "1.5.0",
            "_model_name": "DescriptionStyleModel",
            "_view_count": null,
            "_view_module": "@jupyter-widgets/base",
            "_view_module_version": "1.2.0",
            "_view_name": "StyleView",
            "description_width": ""
          }
        },
        "089dcdd419e04196be06d7003c54c746": {
          "model_module": "@jupyter-widgets/controls",
          "model_module_version": "1.5.0",
          "model_name": "HBoxModel",
          "state": {
            "_dom_classes": [],
            "_model_module": "@jupyter-widgets/controls",
            "_model_module_version": "1.5.0",
            "_model_name": "HBoxModel",
            "_view_count": null,
            "_view_module": "@jupyter-widgets/controls",
            "_view_module_version": "1.5.0",
            "_view_name": "HBoxView",
            "box_style": "",
            "children": [
              "IPY_MODEL_fcdb6140328d4b30a1f411d85f135484",
              "IPY_MODEL_6b1f0c91d5c64ed7805aceee6b6df7eb",
              "IPY_MODEL_c31a0426c89d4c73bda05a696d72b63e"
            ],
            "layout": "IPY_MODEL_7d48fe36742c40e28f443f0cb77667f0"
          }
        },
        "0a7971e59e464bebacf33afad144ace0": {
          "model_module": "@jupyter-widgets/base",
          "model_module_version": "1.2.0",
          "model_name": "LayoutModel",
          "state": {
            "_model_module": "@jupyter-widgets/base",
            "_model_module_version": "1.2.0",
            "_model_name": "LayoutModel",
            "_view_count": null,
            "_view_module": "@jupyter-widgets/base",
            "_view_module_version": "1.2.0",
            "_view_name": "LayoutView",
            "align_content": null,
            "align_items": null,
            "align_self": null,
            "border": null,
            "bottom": null,
            "display": null,
            "flex": null,
            "flex_flow": null,
            "grid_area": null,
            "grid_auto_columns": null,
            "grid_auto_flow": null,
            "grid_auto_rows": null,
            "grid_column": null,
            "grid_gap": null,
            "grid_row": null,
            "grid_template_areas": null,
            "grid_template_columns": null,
            "grid_template_rows": null,
            "height": null,
            "justify_content": null,
            "justify_items": null,
            "left": null,
            "margin": null,
            "max_height": null,
            "max_width": null,
            "min_height": null,
            "min_width": null,
            "object_fit": null,
            "object_position": null,
            "order": null,
            "overflow": null,
            "overflow_x": null,
            "overflow_y": null,
            "padding": null,
            "right": null,
            "top": null,
            "visibility": null,
            "width": null
          }
        },
        "0be3aeca1e034d93a3472843a2e22db5": {
          "model_module": "@jupyter-widgets/controls",
          "model_module_version": "1.5.0",
          "model_name": "ProgressStyleModel",
          "state": {
            "_model_module": "@jupyter-widgets/controls",
            "_model_module_version": "1.5.0",
            "_model_name": "ProgressStyleModel",
            "_view_count": null,
            "_view_module": "@jupyter-widgets/base",
            "_view_module_version": "1.2.0",
            "_view_name": "StyleView",
            "bar_color": null,
            "description_width": ""
          }
        },
        "0be86316c8ec417398521af5e77532b7": {
          "model_module": "@jupyter-widgets/controls",
          "model_module_version": "1.5.0",
          "model_name": "HBoxModel",
          "state": {
            "_dom_classes": [],
            "_model_module": "@jupyter-widgets/controls",
            "_model_module_version": "1.5.0",
            "_model_name": "HBoxModel",
            "_view_count": null,
            "_view_module": "@jupyter-widgets/controls",
            "_view_module_version": "1.5.0",
            "_view_name": "HBoxView",
            "box_style": "",
            "children": [
              "IPY_MODEL_7baffbdef8cc4ffabef1a50fbdc98c23",
              "IPY_MODEL_aba42b0d90554daa842dfe2433375875",
              "IPY_MODEL_0c10401b490e428ca39a0ac2c39b3bc7"
            ],
            "layout": "IPY_MODEL_8e1d1c7307d742c0ba091ede0cc76970"
          }
        },
        "0bf4bc3aa64c45a39a6c0adcd14dd7cc": {
          "model_module": "@jupyter-widgets/controls",
          "model_module_version": "1.5.0",
          "model_name": "DescriptionStyleModel",
          "state": {
            "_model_module": "@jupyter-widgets/controls",
            "_model_module_version": "1.5.0",
            "_model_name": "DescriptionStyleModel",
            "_view_count": null,
            "_view_module": "@jupyter-widgets/base",
            "_view_module_version": "1.2.0",
            "_view_name": "StyleView",
            "description_width": ""
          }
        },
        "0c10401b490e428ca39a0ac2c39b3bc7": {
          "model_module": "@jupyter-widgets/controls",
          "model_module_version": "1.5.0",
          "model_name": "HTMLModel",
          "state": {
            "_dom_classes": [],
            "_model_module": "@jupyter-widgets/controls",
            "_model_module_version": "1.5.0",
            "_model_name": "HTMLModel",
            "_view_count": null,
            "_view_module": "@jupyter-widgets/controls",
            "_view_module_version": "1.5.0",
            "_view_name": "HTMLView",
            "description": "",
            "description_tooltip": null,
            "layout": "IPY_MODEL_d2f01c2239c94261955d1147ecc7fc44",
            "placeholder": "​",
            "style": "IPY_MODEL_cac71a7525d643bd99a01c0dfd8ef16a",
            "value": " 1160/1160 [00:16&lt;00:00, 143.82it/s]"
          }
        },
        "0d0f4e2292bf4867842d46e7ab2e42be": {
          "model_module": "@jupyter-widgets/controls",
          "model_module_version": "1.5.0",
          "model_name": "HTMLModel",
          "state": {
            "_dom_classes": [],
            "_model_module": "@jupyter-widgets/controls",
            "_model_module_version": "1.5.0",
            "_model_name": "HTMLModel",
            "_view_count": null,
            "_view_module": "@jupyter-widgets/controls",
            "_view_module_version": "1.5.0",
            "_view_name": "HTMLView",
            "description": "",
            "description_tooltip": null,
            "layout": "IPY_MODEL_aec6dea49e8f490aa6c813699bbd47b6",
            "placeholder": "​",
            "style": "IPY_MODEL_25938534be5d42f5a6a173f2cedad065",
            "value": " 934/934 [00:14&lt;00:00, 99.81it/s]"
          }
        },
        "0dffee3604614697bcc669814d721a7b": {
          "model_module": "@jupyter-widgets/base",
          "model_module_version": "1.2.0",
          "model_name": "LayoutModel",
          "state": {
            "_model_module": "@jupyter-widgets/base",
            "_model_module_version": "1.2.0",
            "_model_name": "LayoutModel",
            "_view_count": null,
            "_view_module": "@jupyter-widgets/base",
            "_view_module_version": "1.2.0",
            "_view_name": "LayoutView",
            "align_content": null,
            "align_items": null,
            "align_self": null,
            "border": null,
            "bottom": null,
            "display": null,
            "flex": null,
            "flex_flow": null,
            "grid_area": null,
            "grid_auto_columns": null,
            "grid_auto_flow": null,
            "grid_auto_rows": null,
            "grid_column": null,
            "grid_gap": null,
            "grid_row": null,
            "grid_template_areas": null,
            "grid_template_columns": null,
            "grid_template_rows": null,
            "height": null,
            "justify_content": null,
            "justify_items": null,
            "left": null,
            "margin": null,
            "max_height": null,
            "max_width": null,
            "min_height": null,
            "min_width": null,
            "object_fit": null,
            "object_position": null,
            "order": null,
            "overflow": null,
            "overflow_x": null,
            "overflow_y": null,
            "padding": null,
            "right": null,
            "top": null,
            "visibility": null,
            "width": null
          }
        },
        "1316239c97574f6ebc5df2d98ea507e2": {
          "model_module": "@jupyter-widgets/base",
          "model_module_version": "1.2.0",
          "model_name": "LayoutModel",
          "state": {
            "_model_module": "@jupyter-widgets/base",
            "_model_module_version": "1.2.0",
            "_model_name": "LayoutModel",
            "_view_count": null,
            "_view_module": "@jupyter-widgets/base",
            "_view_module_version": "1.2.0",
            "_view_name": "LayoutView",
            "align_content": null,
            "align_items": null,
            "align_self": null,
            "border": null,
            "bottom": null,
            "display": null,
            "flex": null,
            "flex_flow": null,
            "grid_area": null,
            "grid_auto_columns": null,
            "grid_auto_flow": null,
            "grid_auto_rows": null,
            "grid_column": null,
            "grid_gap": null,
            "grid_row": null,
            "grid_template_areas": null,
            "grid_template_columns": null,
            "grid_template_rows": null,
            "height": null,
            "justify_content": null,
            "justify_items": null,
            "left": null,
            "margin": null,
            "max_height": null,
            "max_width": null,
            "min_height": null,
            "min_width": null,
            "object_fit": null,
            "object_position": null,
            "order": null,
            "overflow": null,
            "overflow_x": null,
            "overflow_y": null,
            "padding": null,
            "right": null,
            "top": null,
            "visibility": null,
            "width": null
          }
        },
        "13e11e179d524312be98ac25ede22a84": {
          "model_module": "@jupyter-widgets/controls",
          "model_module_version": "1.5.0",
          "model_name": "HTMLModel",
          "state": {
            "_dom_classes": [],
            "_model_module": "@jupyter-widgets/controls",
            "_model_module_version": "1.5.0",
            "_model_name": "HTMLModel",
            "_view_count": null,
            "_view_module": "@jupyter-widgets/controls",
            "_view_module_version": "1.5.0",
            "_view_name": "HTMLView",
            "description": "",
            "description_tooltip": null,
            "layout": "IPY_MODEL_3d787d6690da4442a5abd86079436d62",
            "placeholder": "​",
            "style": "IPY_MODEL_069cde1ea7774068afb9598b78a5505a",
            "value": "Batches: 100%"
          }
        },
        "148fcfcf0a984a7ebf00bc26e82db136": {
          "model_module": "@jupyter-widgets/controls",
          "model_module_version": "1.5.0",
          "model_name": "DescriptionStyleModel",
          "state": {
            "_model_module": "@jupyter-widgets/controls",
            "_model_module_version": "1.5.0",
            "_model_name": "DescriptionStyleModel",
            "_view_count": null,
            "_view_module": "@jupyter-widgets/base",
            "_view_module_version": "1.2.0",
            "_view_name": "StyleView",
            "description_width": ""
          }
        },
        "157e1950516c484ea70460afced71c45": {
          "model_module": "@jupyter-widgets/controls",
          "model_module_version": "1.5.0",
          "model_name": "DescriptionStyleModel",
          "state": {
            "_model_module": "@jupyter-widgets/controls",
            "_model_module_version": "1.5.0",
            "_model_name": "DescriptionStyleModel",
            "_view_count": null,
            "_view_module": "@jupyter-widgets/base",
            "_view_module_version": "1.2.0",
            "_view_name": "StyleView",
            "description_width": ""
          }
        },
        "192fa31e98d341ae872def39f97ce560": {
          "model_module": "@jupyter-widgets/controls",
          "model_module_version": "1.5.0",
          "model_name": "DescriptionStyleModel",
          "state": {
            "_model_module": "@jupyter-widgets/controls",
            "_model_module_version": "1.5.0",
            "_model_name": "DescriptionStyleModel",
            "_view_count": null,
            "_view_module": "@jupyter-widgets/base",
            "_view_module_version": "1.2.0",
            "_view_name": "StyleView",
            "description_width": ""
          }
        },
        "1fecc0e309294f98bcd889accd15f53e": {
          "model_module": "@jupyter-widgets/controls",
          "model_module_version": "1.5.0",
          "model_name": "HTMLModel",
          "state": {
            "_dom_classes": [],
            "_model_module": "@jupyter-widgets/controls",
            "_model_module_version": "1.5.0",
            "_model_name": "HTMLModel",
            "_view_count": null,
            "_view_module": "@jupyter-widgets/controls",
            "_view_module_version": "1.5.0",
            "_view_name": "HTMLView",
            "description": "",
            "description_tooltip": null,
            "layout": "IPY_MODEL_941ed47f31764403852b586c6b6bd4fb",
            "placeholder": "​",
            "style": "IPY_MODEL_426fe97cf5a04f5cabc32103d1d7747f",
            "value": "Batches: 100%"
          }
        },
        "2095aa6bf95c415a927265647ae7338c": {
          "model_module": "@jupyter-widgets/controls",
          "model_module_version": "1.5.0",
          "model_name": "DescriptionStyleModel",
          "state": {
            "_model_module": "@jupyter-widgets/controls",
            "_model_module_version": "1.5.0",
            "_model_name": "DescriptionStyleModel",
            "_view_count": null,
            "_view_module": "@jupyter-widgets/base",
            "_view_module_version": "1.2.0",
            "_view_name": "StyleView",
            "description_width": ""
          }
        },
        "2111ab4599e04a33a8ace712e001555d": {
          "model_module": "@jupyter-widgets/base",
          "model_module_version": "1.2.0",
          "model_name": "LayoutModel",
          "state": {
            "_model_module": "@jupyter-widgets/base",
            "_model_module_version": "1.2.0",
            "_model_name": "LayoutModel",
            "_view_count": null,
            "_view_module": "@jupyter-widgets/base",
            "_view_module_version": "1.2.0",
            "_view_name": "LayoutView",
            "align_content": null,
            "align_items": null,
            "align_self": null,
            "border": null,
            "bottom": null,
            "display": null,
            "flex": null,
            "flex_flow": null,
            "grid_area": null,
            "grid_auto_columns": null,
            "grid_auto_flow": null,
            "grid_auto_rows": null,
            "grid_column": null,
            "grid_gap": null,
            "grid_row": null,
            "grid_template_areas": null,
            "grid_template_columns": null,
            "grid_template_rows": null,
            "height": null,
            "justify_content": null,
            "justify_items": null,
            "left": null,
            "margin": null,
            "max_height": null,
            "max_width": null,
            "min_height": null,
            "min_width": null,
            "object_fit": null,
            "object_position": null,
            "order": null,
            "overflow": null,
            "overflow_x": null,
            "overflow_y": null,
            "padding": null,
            "right": null,
            "top": null,
            "visibility": null,
            "width": null
          }
        },
        "2272f62e510a469e8fa84753c1851797": {
          "model_module": "@jupyter-widgets/base",
          "model_module_version": "1.2.0",
          "model_name": "LayoutModel",
          "state": {
            "_model_module": "@jupyter-widgets/base",
            "_model_module_version": "1.2.0",
            "_model_name": "LayoutModel",
            "_view_count": null,
            "_view_module": "@jupyter-widgets/base",
            "_view_module_version": "1.2.0",
            "_view_name": "LayoutView",
            "align_content": null,
            "align_items": null,
            "align_self": null,
            "border": null,
            "bottom": null,
            "display": null,
            "flex": null,
            "flex_flow": null,
            "grid_area": null,
            "grid_auto_columns": null,
            "grid_auto_flow": null,
            "grid_auto_rows": null,
            "grid_column": null,
            "grid_gap": null,
            "grid_row": null,
            "grid_template_areas": null,
            "grid_template_columns": null,
            "grid_template_rows": null,
            "height": null,
            "justify_content": null,
            "justify_items": null,
            "left": null,
            "margin": null,
            "max_height": null,
            "max_width": null,
            "min_height": null,
            "min_width": null,
            "object_fit": null,
            "object_position": null,
            "order": null,
            "overflow": null,
            "overflow_x": null,
            "overflow_y": null,
            "padding": null,
            "right": null,
            "top": null,
            "visibility": null,
            "width": null
          }
        },
        "25938534be5d42f5a6a173f2cedad065": {
          "model_module": "@jupyter-widgets/controls",
          "model_module_version": "1.5.0",
          "model_name": "DescriptionStyleModel",
          "state": {
            "_model_module": "@jupyter-widgets/controls",
            "_model_module_version": "1.5.0",
            "_model_name": "DescriptionStyleModel",
            "_view_count": null,
            "_view_module": "@jupyter-widgets/base",
            "_view_module_version": "1.2.0",
            "_view_name": "StyleView",
            "description_width": ""
          }
        },
        "280547d411d841d9b87989f116e5843e": {
          "model_module": "@jupyter-widgets/controls",
          "model_module_version": "1.5.0",
          "model_name": "HTMLModel",
          "state": {
            "_dom_classes": [],
            "_model_module": "@jupyter-widgets/controls",
            "_model_module_version": "1.5.0",
            "_model_name": "HTMLModel",
            "_view_count": null,
            "_view_module": "@jupyter-widgets/controls",
            "_view_module_version": "1.5.0",
            "_view_name": "HTMLView",
            "description": "",
            "description_tooltip": null,
            "layout": "IPY_MODEL_bfe570b3aa624f50b032344a42e003e7",
            "placeholder": "​",
            "style": "IPY_MODEL_d6193b4091c94bc9b19dc597c335a0e5",
            "value": "Batches: 100%"
          }
        },
        "2a99f5a855a64fa4ba28cdf78a81e18c": {
          "model_module": "@jupyter-widgets/controls",
          "model_module_version": "1.5.0",
          "model_name": "HTMLModel",
          "state": {
            "_dom_classes": [],
            "_model_module": "@jupyter-widgets/controls",
            "_model_module_version": "1.5.0",
            "_model_name": "HTMLModel",
            "_view_count": null,
            "_view_module": "@jupyter-widgets/controls",
            "_view_module_version": "1.5.0",
            "_view_name": "HTMLView",
            "description": "",
            "description_tooltip": null,
            "layout": "IPY_MODEL_a266e1e445ca4b0b85d1eb619fe6d57d",
            "placeholder": "​",
            "style": "IPY_MODEL_d95f264b677044928b02bb5735a1e0b3",
            "value": " 2114/2114 [00:29&lt;00:00, 146.51it/s]"
          }
        },
        "2d75e8ff443241959ac43d8c186208a9": {
          "model_module": "@jupyter-widgets/controls",
          "model_module_version": "1.5.0",
          "model_name": "DescriptionStyleModel",
          "state": {
            "_model_module": "@jupyter-widgets/controls",
            "_model_module_version": "1.5.0",
            "_model_name": "DescriptionStyleModel",
            "_view_count": null,
            "_view_module": "@jupyter-widgets/base",
            "_view_module_version": "1.2.0",
            "_view_name": "StyleView",
            "description_width": ""
          }
        },
        "31ce679564954b4e8439bea6c318f2fd": {
          "model_module": "@jupyter-widgets/controls",
          "model_module_version": "1.5.0",
          "model_name": "HTMLModel",
          "state": {
            "_dom_classes": [],
            "_model_module": "@jupyter-widgets/controls",
            "_model_module_version": "1.5.0",
            "_model_name": "HTMLModel",
            "_view_count": null,
            "_view_module": "@jupyter-widgets/controls",
            "_view_module_version": "1.5.0",
            "_view_name": "HTMLView",
            "description": "",
            "description_tooltip": null,
            "layout": "IPY_MODEL_b8de0f8017ed4be0bbc66b0140c3780a",
            "placeholder": "​",
            "style": "IPY_MODEL_513b634e597d4adeab8c61415e41a33c",
            "value": "Batches: 100%"
          }
        },
        "35515ca504194b529e8d04de2e2e6c4f": {
          "model_module": "@jupyter-widgets/controls",
          "model_module_version": "1.5.0",
          "model_name": "HBoxModel",
          "state": {
            "_dom_classes": [],
            "_model_module": "@jupyter-widgets/controls",
            "_model_module_version": "1.5.0",
            "_model_name": "HBoxModel",
            "_view_count": null,
            "_view_module": "@jupyter-widgets/controls",
            "_view_module_version": "1.5.0",
            "_view_name": "HBoxView",
            "box_style": "",
            "children": [
              "IPY_MODEL_9f1cc6ac31554df992510d745805c59b",
              "IPY_MODEL_d12b822d8b2541f2a5e167818ce489f4",
              "IPY_MODEL_be57f842d26e40fd89b6e4147b9cbf56"
            ],
            "layout": "IPY_MODEL_2111ab4599e04a33a8ace712e001555d"
          }
        },
        "36389db7f2c943588f636fb991d4831f": {
          "model_module": "@jupyter-widgets/controls",
          "model_module_version": "1.5.0",
          "model_name": "HBoxModel",
          "state": {
            "_dom_classes": [],
            "_model_module": "@jupyter-widgets/controls",
            "_model_module_version": "1.5.0",
            "_model_name": "HBoxModel",
            "_view_count": null,
            "_view_module": "@jupyter-widgets/controls",
            "_view_module_version": "1.5.0",
            "_view_name": "HBoxView",
            "box_style": "",
            "children": [
              "IPY_MODEL_13e11e179d524312be98ac25ede22a84",
              "IPY_MODEL_cec9823186fb4e7799b1c49b72c4eada",
              "IPY_MODEL_5d21e4b284ab449db57214cd23fa35d8"
            ],
            "layout": "IPY_MODEL_b11ec13cbbcb46ce8b1f71fbb38414b8"
          }
        },
        "38fbf3972c6f4117bb6c76a6ee202969": {
          "model_module": "@jupyter-widgets/controls",
          "model_module_version": "1.5.0",
          "model_name": "HBoxModel",
          "state": {
            "_dom_classes": [],
            "_model_module": "@jupyter-widgets/controls",
            "_model_module_version": "1.5.0",
            "_model_name": "HBoxModel",
            "_view_count": null,
            "_view_module": "@jupyter-widgets/controls",
            "_view_module_version": "1.5.0",
            "_view_name": "HBoxView",
            "box_style": "",
            "children": [
              "IPY_MODEL_6cab066176864a4ba520cdc2f79aa1d9",
              "IPY_MODEL_77c6a5d730724ac7a95ba511525b2fa5",
              "IPY_MODEL_ac7031dca97248ff9be56ffaafa1fb34"
            ],
            "layout": "IPY_MODEL_bf3b759b6db347589770b03dcef6ce21"
          }
        },
        "39402b25b2a540c1931829127d0abc00": {
          "model_module": "@jupyter-widgets/base",
          "model_module_version": "1.2.0",
          "model_name": "LayoutModel",
          "state": {
            "_model_module": "@jupyter-widgets/base",
            "_model_module_version": "1.2.0",
            "_model_name": "LayoutModel",
            "_view_count": null,
            "_view_module": "@jupyter-widgets/base",
            "_view_module_version": "1.2.0",
            "_view_name": "LayoutView",
            "align_content": null,
            "align_items": null,
            "align_self": null,
            "border": null,
            "bottom": null,
            "display": null,
            "flex": null,
            "flex_flow": null,
            "grid_area": null,
            "grid_auto_columns": null,
            "grid_auto_flow": null,
            "grid_auto_rows": null,
            "grid_column": null,
            "grid_gap": null,
            "grid_row": null,
            "grid_template_areas": null,
            "grid_template_columns": null,
            "grid_template_rows": null,
            "height": null,
            "justify_content": null,
            "justify_items": null,
            "left": null,
            "margin": null,
            "max_height": null,
            "max_width": null,
            "min_height": null,
            "min_width": null,
            "object_fit": null,
            "object_position": null,
            "order": null,
            "overflow": null,
            "overflow_x": null,
            "overflow_y": null,
            "padding": null,
            "right": null,
            "top": null,
            "visibility": null,
            "width": null
          }
        },
        "3995675ef0da4a3bb4dbbc81b206c1b9": {
          "model_module": "@jupyter-widgets/base",
          "model_module_version": "1.2.0",
          "model_name": "LayoutModel",
          "state": {
            "_model_module": "@jupyter-widgets/base",
            "_model_module_version": "1.2.0",
            "_model_name": "LayoutModel",
            "_view_count": null,
            "_view_module": "@jupyter-widgets/base",
            "_view_module_version": "1.2.0",
            "_view_name": "LayoutView",
            "align_content": null,
            "align_items": null,
            "align_self": null,
            "border": null,
            "bottom": null,
            "display": null,
            "flex": null,
            "flex_flow": null,
            "grid_area": null,
            "grid_auto_columns": null,
            "grid_auto_flow": null,
            "grid_auto_rows": null,
            "grid_column": null,
            "grid_gap": null,
            "grid_row": null,
            "grid_template_areas": null,
            "grid_template_columns": null,
            "grid_template_rows": null,
            "height": null,
            "justify_content": null,
            "justify_items": null,
            "left": null,
            "margin": null,
            "max_height": null,
            "max_width": null,
            "min_height": null,
            "min_width": null,
            "object_fit": null,
            "object_position": null,
            "order": null,
            "overflow": null,
            "overflow_x": null,
            "overflow_y": null,
            "padding": null,
            "right": null,
            "top": null,
            "visibility": null,
            "width": null
          }
        },
        "3a3c09eb964a447f946efddad4661991": {
          "model_module": "@jupyter-widgets/controls",
          "model_module_version": "1.5.0",
          "model_name": "HBoxModel",
          "state": {
            "_dom_classes": [],
            "_model_module": "@jupyter-widgets/controls",
            "_model_module_version": "1.5.0",
            "_model_name": "HBoxModel",
            "_view_count": null,
            "_view_module": "@jupyter-widgets/controls",
            "_view_module_version": "1.5.0",
            "_view_name": "HBoxView",
            "box_style": "",
            "children": [
              "IPY_MODEL_a63501b4ff6f45a0a907d89efd89674d",
              "IPY_MODEL_6ed02450d58f49fbb2c4c52b95fb7b3d",
              "IPY_MODEL_efd2f9dceab14dfa8d89995dd72ba93f"
            ],
            "layout": "IPY_MODEL_9cb1db35c0ef4f3480d44f396bfcb5bc"
          }
        },
        "3a577e126694458f9cd122532d958b23": {
          "model_module": "@jupyter-widgets/controls",
          "model_module_version": "1.5.0",
          "model_name": "DescriptionStyleModel",
          "state": {
            "_model_module": "@jupyter-widgets/controls",
            "_model_module_version": "1.5.0",
            "_model_name": "DescriptionStyleModel",
            "_view_count": null,
            "_view_module": "@jupyter-widgets/base",
            "_view_module_version": "1.2.0",
            "_view_name": "StyleView",
            "description_width": ""
          }
        },
        "3d787d6690da4442a5abd86079436d62": {
          "model_module": "@jupyter-widgets/base",
          "model_module_version": "1.2.0",
          "model_name": "LayoutModel",
          "state": {
            "_model_module": "@jupyter-widgets/base",
            "_model_module_version": "1.2.0",
            "_model_name": "LayoutModel",
            "_view_count": null,
            "_view_module": "@jupyter-widgets/base",
            "_view_module_version": "1.2.0",
            "_view_name": "LayoutView",
            "align_content": null,
            "align_items": null,
            "align_self": null,
            "border": null,
            "bottom": null,
            "display": null,
            "flex": null,
            "flex_flow": null,
            "grid_area": null,
            "grid_auto_columns": null,
            "grid_auto_flow": null,
            "grid_auto_rows": null,
            "grid_column": null,
            "grid_gap": null,
            "grid_row": null,
            "grid_template_areas": null,
            "grid_template_columns": null,
            "grid_template_rows": null,
            "height": null,
            "justify_content": null,
            "justify_items": null,
            "left": null,
            "margin": null,
            "max_height": null,
            "max_width": null,
            "min_height": null,
            "min_width": null,
            "object_fit": null,
            "object_position": null,
            "order": null,
            "overflow": null,
            "overflow_x": null,
            "overflow_y": null,
            "padding": null,
            "right": null,
            "top": null,
            "visibility": null,
            "width": null
          }
        },
        "3de892e93f1e4aed8672520566aecba0": {
          "model_module": "@jupyter-widgets/controls",
          "model_module_version": "1.5.0",
          "model_name": "DescriptionStyleModel",
          "state": {
            "_model_module": "@jupyter-widgets/controls",
            "_model_module_version": "1.5.0",
            "_model_name": "DescriptionStyleModel",
            "_view_count": null,
            "_view_module": "@jupyter-widgets/base",
            "_view_module_version": "1.2.0",
            "_view_name": "StyleView",
            "description_width": ""
          }
        },
        "4016759cb64e47c381be21376878f913": {
          "model_module": "@jupyter-widgets/base",
          "model_module_version": "1.2.0",
          "model_name": "LayoutModel",
          "state": {
            "_model_module": "@jupyter-widgets/base",
            "_model_module_version": "1.2.0",
            "_model_name": "LayoutModel",
            "_view_count": null,
            "_view_module": "@jupyter-widgets/base",
            "_view_module_version": "1.2.0",
            "_view_name": "LayoutView",
            "align_content": null,
            "align_items": null,
            "align_self": null,
            "border": null,
            "bottom": null,
            "display": null,
            "flex": null,
            "flex_flow": null,
            "grid_area": null,
            "grid_auto_columns": null,
            "grid_auto_flow": null,
            "grid_auto_rows": null,
            "grid_column": null,
            "grid_gap": null,
            "grid_row": null,
            "grid_template_areas": null,
            "grid_template_columns": null,
            "grid_template_rows": null,
            "height": null,
            "justify_content": null,
            "justify_items": null,
            "left": null,
            "margin": null,
            "max_height": null,
            "max_width": null,
            "min_height": null,
            "min_width": null,
            "object_fit": null,
            "object_position": null,
            "order": null,
            "overflow": null,
            "overflow_x": null,
            "overflow_y": null,
            "padding": null,
            "right": null,
            "top": null,
            "visibility": null,
            "width": null
          }
        },
        "426fe97cf5a04f5cabc32103d1d7747f": {
          "model_module": "@jupyter-widgets/controls",
          "model_module_version": "1.5.0",
          "model_name": "DescriptionStyleModel",
          "state": {
            "_model_module": "@jupyter-widgets/controls",
            "_model_module_version": "1.5.0",
            "_model_name": "DescriptionStyleModel",
            "_view_count": null,
            "_view_module": "@jupyter-widgets/base",
            "_view_module_version": "1.2.0",
            "_view_name": "StyleView",
            "description_width": ""
          }
        },
        "427e66c223fa4dd988b5e281cbe4d7a3": {
          "model_module": "@jupyter-widgets/controls",
          "model_module_version": "1.5.0",
          "model_name": "HBoxModel",
          "state": {
            "_dom_classes": [],
            "_model_module": "@jupyter-widgets/controls",
            "_model_module_version": "1.5.0",
            "_model_name": "HBoxModel",
            "_view_count": null,
            "_view_module": "@jupyter-widgets/controls",
            "_view_module_version": "1.5.0",
            "_view_name": "HBoxView",
            "box_style": "",
            "children": [
              "IPY_MODEL_59934f9b535a4bba8800ca117a4628ec",
              "IPY_MODEL_e6d22ff474be41489316c01df33a69c0",
              "IPY_MODEL_ec3ffd864b954a9889211baec4e493db"
            ],
            "layout": "IPY_MODEL_67ded072cdb84442a9ed5c6c1782ec73"
          }
        },
        "43cae231800c4265883cf0ffdadfcdd8": {
          "model_module": "@jupyter-widgets/controls",
          "model_module_version": "1.5.0",
          "model_name": "DescriptionStyleModel",
          "state": {
            "_model_module": "@jupyter-widgets/controls",
            "_model_module_version": "1.5.0",
            "_model_name": "DescriptionStyleModel",
            "_view_count": null,
            "_view_module": "@jupyter-widgets/base",
            "_view_module_version": "1.2.0",
            "_view_name": "StyleView",
            "description_width": ""
          }
        },
        "4b8fb21b882e4fccae54ec234374b6fb": {
          "model_module": "@jupyter-widgets/base",
          "model_module_version": "1.2.0",
          "model_name": "LayoutModel",
          "state": {
            "_model_module": "@jupyter-widgets/base",
            "_model_module_version": "1.2.0",
            "_model_name": "LayoutModel",
            "_view_count": null,
            "_view_module": "@jupyter-widgets/base",
            "_view_module_version": "1.2.0",
            "_view_name": "LayoutView",
            "align_content": null,
            "align_items": null,
            "align_self": null,
            "border": null,
            "bottom": null,
            "display": null,
            "flex": null,
            "flex_flow": null,
            "grid_area": null,
            "grid_auto_columns": null,
            "grid_auto_flow": null,
            "grid_auto_rows": null,
            "grid_column": null,
            "grid_gap": null,
            "grid_row": null,
            "grid_template_areas": null,
            "grid_template_columns": null,
            "grid_template_rows": null,
            "height": null,
            "justify_content": null,
            "justify_items": null,
            "left": null,
            "margin": null,
            "max_height": null,
            "max_width": null,
            "min_height": null,
            "min_width": null,
            "object_fit": null,
            "object_position": null,
            "order": null,
            "overflow": null,
            "overflow_x": null,
            "overflow_y": null,
            "padding": null,
            "right": null,
            "top": null,
            "visibility": null,
            "width": null
          }
        },
        "4c5aa126e4274ee1a04b8173feabacd4": {
          "model_module": "@jupyter-widgets/controls",
          "model_module_version": "1.5.0",
          "model_name": "ProgressStyleModel",
          "state": {
            "_model_module": "@jupyter-widgets/controls",
            "_model_module_version": "1.5.0",
            "_model_name": "ProgressStyleModel",
            "_view_count": null,
            "_view_module": "@jupyter-widgets/base",
            "_view_module_version": "1.2.0",
            "_view_name": "StyleView",
            "bar_color": null,
            "description_width": ""
          }
        },
        "506aaeda663b4a04bbee96c6ca4b6fd2": {
          "model_module": "@jupyter-widgets/base",
          "model_module_version": "1.2.0",
          "model_name": "LayoutModel",
          "state": {
            "_model_module": "@jupyter-widgets/base",
            "_model_module_version": "1.2.0",
            "_model_name": "LayoutModel",
            "_view_count": null,
            "_view_module": "@jupyter-widgets/base",
            "_view_module_version": "1.2.0",
            "_view_name": "LayoutView",
            "align_content": null,
            "align_items": null,
            "align_self": null,
            "border": null,
            "bottom": null,
            "display": null,
            "flex": null,
            "flex_flow": null,
            "grid_area": null,
            "grid_auto_columns": null,
            "grid_auto_flow": null,
            "grid_auto_rows": null,
            "grid_column": null,
            "grid_gap": null,
            "grid_row": null,
            "grid_template_areas": null,
            "grid_template_columns": null,
            "grid_template_rows": null,
            "height": null,
            "justify_content": null,
            "justify_items": null,
            "left": null,
            "margin": null,
            "max_height": null,
            "max_width": null,
            "min_height": null,
            "min_width": null,
            "object_fit": null,
            "object_position": null,
            "order": null,
            "overflow": null,
            "overflow_x": null,
            "overflow_y": null,
            "padding": null,
            "right": null,
            "top": null,
            "visibility": null,
            "width": null
          }
        },
        "50cf13e4385448afb320853257f9341a": {
          "model_module": "@jupyter-widgets/base",
          "model_module_version": "1.2.0",
          "model_name": "LayoutModel",
          "state": {
            "_model_module": "@jupyter-widgets/base",
            "_model_module_version": "1.2.0",
            "_model_name": "LayoutModel",
            "_view_count": null,
            "_view_module": "@jupyter-widgets/base",
            "_view_module_version": "1.2.0",
            "_view_name": "LayoutView",
            "align_content": null,
            "align_items": null,
            "align_self": null,
            "border": null,
            "bottom": null,
            "display": null,
            "flex": null,
            "flex_flow": null,
            "grid_area": null,
            "grid_auto_columns": null,
            "grid_auto_flow": null,
            "grid_auto_rows": null,
            "grid_column": null,
            "grid_gap": null,
            "grid_row": null,
            "grid_template_areas": null,
            "grid_template_columns": null,
            "grid_template_rows": null,
            "height": null,
            "justify_content": null,
            "justify_items": null,
            "left": null,
            "margin": null,
            "max_height": null,
            "max_width": null,
            "min_height": null,
            "min_width": null,
            "object_fit": null,
            "object_position": null,
            "order": null,
            "overflow": null,
            "overflow_x": null,
            "overflow_y": null,
            "padding": null,
            "right": null,
            "top": null,
            "visibility": null,
            "width": null
          }
        },
        "513b634e597d4adeab8c61415e41a33c": {
          "model_module": "@jupyter-widgets/controls",
          "model_module_version": "1.5.0",
          "model_name": "DescriptionStyleModel",
          "state": {
            "_model_module": "@jupyter-widgets/controls",
            "_model_module_version": "1.5.0",
            "_model_name": "DescriptionStyleModel",
            "_view_count": null,
            "_view_module": "@jupyter-widgets/base",
            "_view_module_version": "1.2.0",
            "_view_name": "StyleView",
            "description_width": ""
          }
        },
        "57d603afa94c4e18950abeeb28d000a6": {
          "model_module": "@jupyter-widgets/controls",
          "model_module_version": "1.5.0",
          "model_name": "ProgressStyleModel",
          "state": {
            "_model_module": "@jupyter-widgets/controls",
            "_model_module_version": "1.5.0",
            "_model_name": "ProgressStyleModel",
            "_view_count": null,
            "_view_module": "@jupyter-widgets/base",
            "_view_module_version": "1.2.0",
            "_view_name": "StyleView",
            "bar_color": null,
            "description_width": ""
          }
        },
        "582e64defc934e97a8a33e0f7fcbaf25": {
          "model_module": "@jupyter-widgets/controls",
          "model_module_version": "1.5.0",
          "model_name": "HBoxModel",
          "state": {
            "_dom_classes": [],
            "_model_module": "@jupyter-widgets/controls",
            "_model_module_version": "1.5.0",
            "_model_name": "HBoxModel",
            "_view_count": null,
            "_view_module": "@jupyter-widgets/controls",
            "_view_module_version": "1.5.0",
            "_view_name": "HBoxView",
            "box_style": "",
            "children": [
              "IPY_MODEL_31ce679564954b4e8439bea6c318f2fd",
              "IPY_MODEL_bf3aa8cdc90e449c88795929d02c144b",
              "IPY_MODEL_b4a41e14394f4dd3b20b619b27daba48"
            ],
            "layout": "IPY_MODEL_b6bdc7f8e1fb43e596c55e9fa690d8a5"
          }
        },
        "59934f9b535a4bba8800ca117a4628ec": {
          "model_module": "@jupyter-widgets/controls",
          "model_module_version": "1.5.0",
          "model_name": "HTMLModel",
          "state": {
            "_dom_classes": [],
            "_model_module": "@jupyter-widgets/controls",
            "_model_module_version": "1.5.0",
            "_model_name": "HTMLModel",
            "_view_count": null,
            "_view_module": "@jupyter-widgets/controls",
            "_view_module_version": "1.5.0",
            "_view_name": "HTMLView",
            "description": "",
            "description_tooltip": null,
            "layout": "IPY_MODEL_b1b7317865a94768aacb615aa825d405",
            "placeholder": "​",
            "style": "IPY_MODEL_6025749cb7f14b81848f83ff8c333e22",
            "value": "Batches: 100%"
          }
        },
        "5aa0d3699f0a4efcbef13899e39d7fb4": {
          "model_module": "@jupyter-widgets/controls",
          "model_module_version": "1.5.0",
          "model_name": "HBoxModel",
          "state": {
            "_dom_classes": [],
            "_model_module": "@jupyter-widgets/controls",
            "_model_module_version": "1.5.0",
            "_model_name": "HBoxModel",
            "_view_count": null,
            "_view_module": "@jupyter-widgets/controls",
            "_view_module_version": "1.5.0",
            "_view_name": "HBoxView",
            "box_style": "",
            "children": [
              "IPY_MODEL_280547d411d841d9b87989f116e5843e",
              "IPY_MODEL_e07b3c4d91ad41e38ae6c3d0892922db",
              "IPY_MODEL_7e23634e39fd44b69fe4d1f09ae8500c"
            ],
            "layout": "IPY_MODEL_7f4cd6554329422b83562dd066773e06"
          }
        },
        "5c13970966fa46f5ae63a24395437c55": {
          "model_module": "@jupyter-widgets/controls",
          "model_module_version": "1.5.0",
          "model_name": "DescriptionStyleModel",
          "state": {
            "_model_module": "@jupyter-widgets/controls",
            "_model_module_version": "1.5.0",
            "_model_name": "DescriptionStyleModel",
            "_view_count": null,
            "_view_module": "@jupyter-widgets/base",
            "_view_module_version": "1.2.0",
            "_view_name": "StyleView",
            "description_width": ""
          }
        },
        "5d21e4b284ab449db57214cd23fa35d8": {
          "model_module": "@jupyter-widgets/controls",
          "model_module_version": "1.5.0",
          "model_name": "HTMLModel",
          "state": {
            "_dom_classes": [],
            "_model_module": "@jupyter-widgets/controls",
            "_model_module_version": "1.5.0",
            "_model_name": "HTMLModel",
            "_view_count": null,
            "_view_module": "@jupyter-widgets/controls",
            "_view_module_version": "1.5.0",
            "_view_name": "HTMLView",
            "description": "",
            "description_tooltip": null,
            "layout": "IPY_MODEL_f187896ac03b4eb9a513b167e1ad76ed",
            "placeholder": "​",
            "style": "IPY_MODEL_0bf4bc3aa64c45a39a6c0adcd14dd7cc",
            "value": " 1188/1188 [00:16&lt;00:00, 140.38it/s]"
          }
        },
        "5dd8271d4ef64c6aa326b7d550bfff78": {
          "model_module": "@jupyter-widgets/controls",
          "model_module_version": "1.5.0",
          "model_name": "ProgressStyleModel",
          "state": {
            "_model_module": "@jupyter-widgets/controls",
            "_model_module_version": "1.5.0",
            "_model_name": "ProgressStyleModel",
            "_view_count": null,
            "_view_module": "@jupyter-widgets/base",
            "_view_module_version": "1.2.0",
            "_view_name": "StyleView",
            "bar_color": null,
            "description_width": ""
          }
        },
        "6025749cb7f14b81848f83ff8c333e22": {
          "model_module": "@jupyter-widgets/controls",
          "model_module_version": "1.5.0",
          "model_name": "DescriptionStyleModel",
          "state": {
            "_model_module": "@jupyter-widgets/controls",
            "_model_module_version": "1.5.0",
            "_model_name": "DescriptionStyleModel",
            "_view_count": null,
            "_view_module": "@jupyter-widgets/base",
            "_view_module_version": "1.2.0",
            "_view_name": "StyleView",
            "description_width": ""
          }
        },
        "646034c547354d46945d1df99c132029": {
          "model_module": "@jupyter-widgets/controls",
          "model_module_version": "1.5.0",
          "model_name": "HBoxModel",
          "state": {
            "_dom_classes": [],
            "_model_module": "@jupyter-widgets/controls",
            "_model_module_version": "1.5.0",
            "_model_name": "HBoxModel",
            "_view_count": null,
            "_view_module": "@jupyter-widgets/controls",
            "_view_module_version": "1.5.0",
            "_view_name": "HBoxView",
            "box_style": "",
            "children": [
              "IPY_MODEL_a58c2d58bdfd4eb5a4e5001738ee6269",
              "IPY_MODEL_a01828ec8f0f4dccaa9c9f7e7ae0b427",
              "IPY_MODEL_eed144af28eb4b16a4504bef0639ddb2"
            ],
            "layout": "IPY_MODEL_4b8fb21b882e4fccae54ec234374b6fb"
          }
        },
        "649433e82b6948bb9237d667b8acf5ed": {
          "model_module": "@jupyter-widgets/base",
          "model_module_version": "1.2.0",
          "model_name": "LayoutModel",
          "state": {
            "_model_module": "@jupyter-widgets/base",
            "_model_module_version": "1.2.0",
            "_model_name": "LayoutModel",
            "_view_count": null,
            "_view_module": "@jupyter-widgets/base",
            "_view_module_version": "1.2.0",
            "_view_name": "LayoutView",
            "align_content": null,
            "align_items": null,
            "align_self": null,
            "border": null,
            "bottom": null,
            "display": null,
            "flex": null,
            "flex_flow": null,
            "grid_area": null,
            "grid_auto_columns": null,
            "grid_auto_flow": null,
            "grid_auto_rows": null,
            "grid_column": null,
            "grid_gap": null,
            "grid_row": null,
            "grid_template_areas": null,
            "grid_template_columns": null,
            "grid_template_rows": null,
            "height": null,
            "justify_content": null,
            "justify_items": null,
            "left": null,
            "margin": null,
            "max_height": null,
            "max_width": null,
            "min_height": null,
            "min_width": null,
            "object_fit": null,
            "object_position": null,
            "order": null,
            "overflow": null,
            "overflow_x": null,
            "overflow_y": null,
            "padding": null,
            "right": null,
            "top": null,
            "visibility": null,
            "width": null
          }
        },
        "6504f13e9ed640e38b548f8e6f975fd5": {
          "model_module": "@jupyter-widgets/base",
          "model_module_version": "1.2.0",
          "model_name": "LayoutModel",
          "state": {
            "_model_module": "@jupyter-widgets/base",
            "_model_module_version": "1.2.0",
            "_model_name": "LayoutModel",
            "_view_count": null,
            "_view_module": "@jupyter-widgets/base",
            "_view_module_version": "1.2.0",
            "_view_name": "LayoutView",
            "align_content": null,
            "align_items": null,
            "align_self": null,
            "border": null,
            "bottom": null,
            "display": null,
            "flex": null,
            "flex_flow": null,
            "grid_area": null,
            "grid_auto_columns": null,
            "grid_auto_flow": null,
            "grid_auto_rows": null,
            "grid_column": null,
            "grid_gap": null,
            "grid_row": null,
            "grid_template_areas": null,
            "grid_template_columns": null,
            "grid_template_rows": null,
            "height": null,
            "justify_content": null,
            "justify_items": null,
            "left": null,
            "margin": null,
            "max_height": null,
            "max_width": null,
            "min_height": null,
            "min_width": null,
            "object_fit": null,
            "object_position": null,
            "order": null,
            "overflow": null,
            "overflow_x": null,
            "overflow_y": null,
            "padding": null,
            "right": null,
            "top": null,
            "visibility": null,
            "width": null
          }
        },
        "67ded072cdb84442a9ed5c6c1782ec73": {
          "model_module": "@jupyter-widgets/base",
          "model_module_version": "1.2.0",
          "model_name": "LayoutModel",
          "state": {
            "_model_module": "@jupyter-widgets/base",
            "_model_module_version": "1.2.0",
            "_model_name": "LayoutModel",
            "_view_count": null,
            "_view_module": "@jupyter-widgets/base",
            "_view_module_version": "1.2.0",
            "_view_name": "LayoutView",
            "align_content": null,
            "align_items": null,
            "align_self": null,
            "border": null,
            "bottom": null,
            "display": null,
            "flex": null,
            "flex_flow": null,
            "grid_area": null,
            "grid_auto_columns": null,
            "grid_auto_flow": null,
            "grid_auto_rows": null,
            "grid_column": null,
            "grid_gap": null,
            "grid_row": null,
            "grid_template_areas": null,
            "grid_template_columns": null,
            "grid_template_rows": null,
            "height": null,
            "justify_content": null,
            "justify_items": null,
            "left": null,
            "margin": null,
            "max_height": null,
            "max_width": null,
            "min_height": null,
            "min_width": null,
            "object_fit": null,
            "object_position": null,
            "order": null,
            "overflow": null,
            "overflow_x": null,
            "overflow_y": null,
            "padding": null,
            "right": null,
            "top": null,
            "visibility": null,
            "width": null
          }
        },
        "67e87b6af2d844d88b20852bc9c748e8": {
          "model_module": "@jupyter-widgets/controls",
          "model_module_version": "1.5.0",
          "model_name": "DescriptionStyleModel",
          "state": {
            "_model_module": "@jupyter-widgets/controls",
            "_model_module_version": "1.5.0",
            "_model_name": "DescriptionStyleModel",
            "_view_count": null,
            "_view_module": "@jupyter-widgets/base",
            "_view_module_version": "1.2.0",
            "_view_name": "StyleView",
            "description_width": ""
          }
        },
        "6b1f0c91d5c64ed7805aceee6b6df7eb": {
          "model_module": "@jupyter-widgets/controls",
          "model_module_version": "1.5.0",
          "model_name": "FloatProgressModel",
          "state": {
            "_dom_classes": [],
            "_model_module": "@jupyter-widgets/controls",
            "_model_module_version": "1.5.0",
            "_model_name": "FloatProgressModel",
            "_view_count": null,
            "_view_module": "@jupyter-widgets/controls",
            "_view_module_version": "1.5.0",
            "_view_name": "ProgressView",
            "bar_style": "success",
            "description": "",
            "description_tooltip": null,
            "layout": "IPY_MODEL_3995675ef0da4a3bb4dbbc81b206c1b9",
            "max": 1596,
            "min": 0,
            "orientation": "horizontal",
            "style": "IPY_MODEL_5dd8271d4ef64c6aa326b7d550bfff78",
            "value": 1596
          }
        },
        "6bbdd38ebbb94859bc2c681669a520f5": {
          "model_module": "@jupyter-widgets/controls",
          "model_module_version": "1.5.0",
          "model_name": "ProgressStyleModel",
          "state": {
            "_model_module": "@jupyter-widgets/controls",
            "_model_module_version": "1.5.0",
            "_model_name": "ProgressStyleModel",
            "_view_count": null,
            "_view_module": "@jupyter-widgets/base",
            "_view_module_version": "1.2.0",
            "_view_name": "StyleView",
            "bar_color": null,
            "description_width": ""
          }
        },
        "6cab066176864a4ba520cdc2f79aa1d9": {
          "model_module": "@jupyter-widgets/controls",
          "model_module_version": "1.5.0",
          "model_name": "HTMLModel",
          "state": {
            "_dom_classes": [],
            "_model_module": "@jupyter-widgets/controls",
            "_model_module_version": "1.5.0",
            "_model_name": "HTMLModel",
            "_view_count": null,
            "_view_module": "@jupyter-widgets/controls",
            "_view_module_version": "1.5.0",
            "_view_name": "HTMLView",
            "description": "",
            "description_tooltip": null,
            "layout": "IPY_MODEL_6504f13e9ed640e38b548f8e6f975fd5",
            "placeholder": "​",
            "style": "IPY_MODEL_148fcfcf0a984a7ebf00bc26e82db136",
            "value": "Batches: 100%"
          }
        },
        "6d4b5a1d2a88466d83265b848405d514": {
          "model_module": "@jupyter-widgets/controls",
          "model_module_version": "1.5.0",
          "model_name": "HBoxModel",
          "state": {
            "_dom_classes": [],
            "_model_module": "@jupyter-widgets/controls",
            "_model_module_version": "1.5.0",
            "_model_name": "HBoxModel",
            "_view_count": null,
            "_view_module": "@jupyter-widgets/controls",
            "_view_module_version": "1.5.0",
            "_view_name": "HBoxView",
            "box_style": "",
            "children": [
              "IPY_MODEL_1fecc0e309294f98bcd889accd15f53e",
              "IPY_MODEL_76bec4b1aa0c4739b282868c49e8eb18",
              "IPY_MODEL_2a99f5a855a64fa4ba28cdf78a81e18c"
            ],
            "layout": "IPY_MODEL_a1924c821a374bf5808df4fbcc5f5492"
          }
        },
        "6daf40565115471fba47505bd68b98a5": {
          "model_module": "@jupyter-widgets/controls",
          "model_module_version": "1.5.0",
          "model_name": "DescriptionStyleModel",
          "state": {
            "_model_module": "@jupyter-widgets/controls",
            "_model_module_version": "1.5.0",
            "_model_name": "DescriptionStyleModel",
            "_view_count": null,
            "_view_module": "@jupyter-widgets/base",
            "_view_module_version": "1.2.0",
            "_view_name": "StyleView",
            "description_width": ""
          }
        },
        "6ed02450d58f49fbb2c4c52b95fb7b3d": {
          "model_module": "@jupyter-widgets/controls",
          "model_module_version": "1.5.0",
          "model_name": "FloatProgressModel",
          "state": {
            "_dom_classes": [],
            "_model_module": "@jupyter-widgets/controls",
            "_model_module_version": "1.5.0",
            "_model_name": "FloatProgressModel",
            "_view_count": null,
            "_view_module": "@jupyter-widgets/controls",
            "_view_module_version": "1.5.0",
            "_view_name": "ProgressView",
            "bar_style": "success",
            "description": "",
            "description_tooltip": null,
            "layout": "IPY_MODEL_4016759cb64e47c381be21376878f913",
            "max": 3398,
            "min": 0,
            "orientation": "horizontal",
            "style": "IPY_MODEL_afccfa2a3aba42f1a89fd2f1f1c27575",
            "value": 3398
          }
        },
        "6f25322382d646a8838845b8d8207ccf": {
          "model_module": "@jupyter-widgets/base",
          "model_module_version": "1.2.0",
          "model_name": "LayoutModel",
          "state": {
            "_model_module": "@jupyter-widgets/base",
            "_model_module_version": "1.2.0",
            "_model_name": "LayoutModel",
            "_view_count": null,
            "_view_module": "@jupyter-widgets/base",
            "_view_module_version": "1.2.0",
            "_view_name": "LayoutView",
            "align_content": null,
            "align_items": null,
            "align_self": null,
            "border": null,
            "bottom": null,
            "display": null,
            "flex": null,
            "flex_flow": null,
            "grid_area": null,
            "grid_auto_columns": null,
            "grid_auto_flow": null,
            "grid_auto_rows": null,
            "grid_column": null,
            "grid_gap": null,
            "grid_row": null,
            "grid_template_areas": null,
            "grid_template_columns": null,
            "grid_template_rows": null,
            "height": null,
            "justify_content": null,
            "justify_items": null,
            "left": null,
            "margin": null,
            "max_height": null,
            "max_width": null,
            "min_height": null,
            "min_width": null,
            "object_fit": null,
            "object_position": null,
            "order": null,
            "overflow": null,
            "overflow_x": null,
            "overflow_y": null,
            "padding": null,
            "right": null,
            "top": null,
            "visibility": null,
            "width": null
          }
        },
        "76bec4b1aa0c4739b282868c49e8eb18": {
          "model_module": "@jupyter-widgets/controls",
          "model_module_version": "1.5.0",
          "model_name": "FloatProgressModel",
          "state": {
            "_dom_classes": [],
            "_model_module": "@jupyter-widgets/controls",
            "_model_module_version": "1.5.0",
            "_model_name": "FloatProgressModel",
            "_view_count": null,
            "_view_module": "@jupyter-widgets/controls",
            "_view_module_version": "1.5.0",
            "_view_name": "ProgressView",
            "bar_style": "success",
            "description": "",
            "description_tooltip": null,
            "layout": "IPY_MODEL_6f25322382d646a8838845b8d8207ccf",
            "max": 2114,
            "min": 0,
            "orientation": "horizontal",
            "style": "IPY_MODEL_0be3aeca1e034d93a3472843a2e22db5",
            "value": 2114
          }
        },
        "77c6a5d730724ac7a95ba511525b2fa5": {
          "model_module": "@jupyter-widgets/controls",
          "model_module_version": "1.5.0",
          "model_name": "FloatProgressModel",
          "state": {
            "_dom_classes": [],
            "_model_module": "@jupyter-widgets/controls",
            "_model_module_version": "1.5.0",
            "_model_name": "FloatProgressModel",
            "_view_count": null,
            "_view_module": "@jupyter-widgets/controls",
            "_view_module_version": "1.5.0",
            "_view_name": "ProgressView",
            "bar_style": "success",
            "description": "",
            "description_tooltip": null,
            "layout": "IPY_MODEL_bd1f2dacef094405a60fecfe325aaa7a",
            "max": 1202,
            "min": 0,
            "orientation": "horizontal",
            "style": "IPY_MODEL_00ce1ee60cf441f08fddb2b02c775192",
            "value": 1202
          }
        },
        "79ac7efd936f4db9ad930543d87b84d5": {
          "model_module": "@jupyter-widgets/controls",
          "model_module_version": "1.5.0",
          "model_name": "HTMLModel",
          "state": {
            "_dom_classes": [],
            "_model_module": "@jupyter-widgets/controls",
            "_model_module_version": "1.5.0",
            "_model_name": "HTMLModel",
            "_view_count": null,
            "_view_module": "@jupyter-widgets/controls",
            "_view_module_version": "1.5.0",
            "_view_name": "HTMLView",
            "description": "",
            "description_tooltip": null,
            "layout": "IPY_MODEL_f2b9d40c949442b1968d04ba5d007e27",
            "placeholder": "​",
            "style": "IPY_MODEL_06daf2a92ba0495b85db5345d7fc5439",
            "value": "Batches: 100%"
          }
        },
        "7a8b8c1a5afe433b8fcc35f397f3a558": {
          "model_module": "@jupyter-widgets/base",
          "model_module_version": "1.2.0",
          "model_name": "LayoutModel",
          "state": {
            "_model_module": "@jupyter-widgets/base",
            "_model_module_version": "1.2.0",
            "_model_name": "LayoutModel",
            "_view_count": null,
            "_view_module": "@jupyter-widgets/base",
            "_view_module_version": "1.2.0",
            "_view_name": "LayoutView",
            "align_content": null,
            "align_items": null,
            "align_self": null,
            "border": null,
            "bottom": null,
            "display": null,
            "flex": null,
            "flex_flow": null,
            "grid_area": null,
            "grid_auto_columns": null,
            "grid_auto_flow": null,
            "grid_auto_rows": null,
            "grid_column": null,
            "grid_gap": null,
            "grid_row": null,
            "grid_template_areas": null,
            "grid_template_columns": null,
            "grid_template_rows": null,
            "height": null,
            "justify_content": null,
            "justify_items": null,
            "left": null,
            "margin": null,
            "max_height": null,
            "max_width": null,
            "min_height": null,
            "min_width": null,
            "object_fit": null,
            "object_position": null,
            "order": null,
            "overflow": null,
            "overflow_x": null,
            "overflow_y": null,
            "padding": null,
            "right": null,
            "top": null,
            "visibility": null,
            "width": null
          }
        },
        "7baffbdef8cc4ffabef1a50fbdc98c23": {
          "model_module": "@jupyter-widgets/controls",
          "model_module_version": "1.5.0",
          "model_name": "HTMLModel",
          "state": {
            "_dom_classes": [],
            "_model_module": "@jupyter-widgets/controls",
            "_model_module_version": "1.5.0",
            "_model_name": "HTMLModel",
            "_view_count": null,
            "_view_module": "@jupyter-widgets/controls",
            "_view_module_version": "1.5.0",
            "_view_name": "HTMLView",
            "description": "",
            "description_tooltip": null,
            "layout": "IPY_MODEL_0a7971e59e464bebacf33afad144ace0",
            "placeholder": "​",
            "style": "IPY_MODEL_2095aa6bf95c415a927265647ae7338c",
            "value": "Batches: 100%"
          }
        },
        "7d48fe36742c40e28f443f0cb77667f0": {
          "model_module": "@jupyter-widgets/base",
          "model_module_version": "1.2.0",
          "model_name": "LayoutModel",
          "state": {
            "_model_module": "@jupyter-widgets/base",
            "_model_module_version": "1.2.0",
            "_model_name": "LayoutModel",
            "_view_count": null,
            "_view_module": "@jupyter-widgets/base",
            "_view_module_version": "1.2.0",
            "_view_name": "LayoutView",
            "align_content": null,
            "align_items": null,
            "align_self": null,
            "border": null,
            "bottom": null,
            "display": null,
            "flex": null,
            "flex_flow": null,
            "grid_area": null,
            "grid_auto_columns": null,
            "grid_auto_flow": null,
            "grid_auto_rows": null,
            "grid_column": null,
            "grid_gap": null,
            "grid_row": null,
            "grid_template_areas": null,
            "grid_template_columns": null,
            "grid_template_rows": null,
            "height": null,
            "justify_content": null,
            "justify_items": null,
            "left": null,
            "margin": null,
            "max_height": null,
            "max_width": null,
            "min_height": null,
            "min_width": null,
            "object_fit": null,
            "object_position": null,
            "order": null,
            "overflow": null,
            "overflow_x": null,
            "overflow_y": null,
            "padding": null,
            "right": null,
            "top": null,
            "visibility": null,
            "width": null
          }
        },
        "7d68fea4fa554c13b28765a525c943e3": {
          "model_module": "@jupyter-widgets/controls",
          "model_module_version": "1.5.0",
          "model_name": "DescriptionStyleModel",
          "state": {
            "_model_module": "@jupyter-widgets/controls",
            "_model_module_version": "1.5.0",
            "_model_name": "DescriptionStyleModel",
            "_view_count": null,
            "_view_module": "@jupyter-widgets/base",
            "_view_module_version": "1.2.0",
            "_view_name": "StyleView",
            "description_width": ""
          }
        },
        "7e23634e39fd44b69fe4d1f09ae8500c": {
          "model_module": "@jupyter-widgets/controls",
          "model_module_version": "1.5.0",
          "model_name": "HTMLModel",
          "state": {
            "_dom_classes": [],
            "_model_module": "@jupyter-widgets/controls",
            "_model_module_version": "1.5.0",
            "_model_name": "HTMLModel",
            "_view_count": null,
            "_view_module": "@jupyter-widgets/controls",
            "_view_module_version": "1.5.0",
            "_view_name": "HTMLView",
            "description": "",
            "description_tooltip": null,
            "layout": "IPY_MODEL_d1fa790ded9042de8e166d05e4e4073a",
            "placeholder": "​",
            "style": "IPY_MODEL_5c13970966fa46f5ae63a24395437c55",
            "value": " 2947/2947 [00:41&lt;00:00, 150.51it/s]"
          }
        },
        "7f4cd6554329422b83562dd066773e06": {
          "model_module": "@jupyter-widgets/base",
          "model_module_version": "1.2.0",
          "model_name": "LayoutModel",
          "state": {
            "_model_module": "@jupyter-widgets/base",
            "_model_module_version": "1.2.0",
            "_model_name": "LayoutModel",
            "_view_count": null,
            "_view_module": "@jupyter-widgets/base",
            "_view_module_version": "1.2.0",
            "_view_name": "LayoutView",
            "align_content": null,
            "align_items": null,
            "align_self": null,
            "border": null,
            "bottom": null,
            "display": null,
            "flex": null,
            "flex_flow": null,
            "grid_area": null,
            "grid_auto_columns": null,
            "grid_auto_flow": null,
            "grid_auto_rows": null,
            "grid_column": null,
            "grid_gap": null,
            "grid_row": null,
            "grid_template_areas": null,
            "grid_template_columns": null,
            "grid_template_rows": null,
            "height": null,
            "justify_content": null,
            "justify_items": null,
            "left": null,
            "margin": null,
            "max_height": null,
            "max_width": null,
            "min_height": null,
            "min_width": null,
            "object_fit": null,
            "object_position": null,
            "order": null,
            "overflow": null,
            "overflow_x": null,
            "overflow_y": null,
            "padding": null,
            "right": null,
            "top": null,
            "visibility": null,
            "width": null
          }
        },
        "8dd8c3981d77414cbb946869ffdabe4a": {
          "model_module": "@jupyter-widgets/controls",
          "model_module_version": "1.5.0",
          "model_name": "ProgressStyleModel",
          "state": {
            "_model_module": "@jupyter-widgets/controls",
            "_model_module_version": "1.5.0",
            "_model_name": "ProgressStyleModel",
            "_view_count": null,
            "_view_module": "@jupyter-widgets/base",
            "_view_module_version": "1.2.0",
            "_view_name": "StyleView",
            "bar_color": null,
            "description_width": ""
          }
        },
        "8e1d1c7307d742c0ba091ede0cc76970": {
          "model_module": "@jupyter-widgets/base",
          "model_module_version": "1.2.0",
          "model_name": "LayoutModel",
          "state": {
            "_model_module": "@jupyter-widgets/base",
            "_model_module_version": "1.2.0",
            "_model_name": "LayoutModel",
            "_view_count": null,
            "_view_module": "@jupyter-widgets/base",
            "_view_module_version": "1.2.0",
            "_view_name": "LayoutView",
            "align_content": null,
            "align_items": null,
            "align_self": null,
            "border": null,
            "bottom": null,
            "display": null,
            "flex": null,
            "flex_flow": null,
            "grid_area": null,
            "grid_auto_columns": null,
            "grid_auto_flow": null,
            "grid_auto_rows": null,
            "grid_column": null,
            "grid_gap": null,
            "grid_row": null,
            "grid_template_areas": null,
            "grid_template_columns": null,
            "grid_template_rows": null,
            "height": null,
            "justify_content": null,
            "justify_items": null,
            "left": null,
            "margin": null,
            "max_height": null,
            "max_width": null,
            "min_height": null,
            "min_width": null,
            "object_fit": null,
            "object_position": null,
            "order": null,
            "overflow": null,
            "overflow_x": null,
            "overflow_y": null,
            "padding": null,
            "right": null,
            "top": null,
            "visibility": null,
            "width": null
          }
        },
        "941ed47f31764403852b586c6b6bd4fb": {
          "model_module": "@jupyter-widgets/base",
          "model_module_version": "1.2.0",
          "model_name": "LayoutModel",
          "state": {
            "_model_module": "@jupyter-widgets/base",
            "_model_module_version": "1.2.0",
            "_model_name": "LayoutModel",
            "_view_count": null,
            "_view_module": "@jupyter-widgets/base",
            "_view_module_version": "1.2.0",
            "_view_name": "LayoutView",
            "align_content": null,
            "align_items": null,
            "align_self": null,
            "border": null,
            "bottom": null,
            "display": null,
            "flex": null,
            "flex_flow": null,
            "grid_area": null,
            "grid_auto_columns": null,
            "grid_auto_flow": null,
            "grid_auto_rows": null,
            "grid_column": null,
            "grid_gap": null,
            "grid_row": null,
            "grid_template_areas": null,
            "grid_template_columns": null,
            "grid_template_rows": null,
            "height": null,
            "justify_content": null,
            "justify_items": null,
            "left": null,
            "margin": null,
            "max_height": null,
            "max_width": null,
            "min_height": null,
            "min_width": null,
            "object_fit": null,
            "object_position": null,
            "order": null,
            "overflow": null,
            "overflow_x": null,
            "overflow_y": null,
            "padding": null,
            "right": null,
            "top": null,
            "visibility": null,
            "width": null
          }
        },
        "94a7a4b30bed4a7dab9a48d667312f04": {
          "model_module": "@jupyter-widgets/controls",
          "model_module_version": "1.5.0",
          "model_name": "DescriptionStyleModel",
          "state": {
            "_model_module": "@jupyter-widgets/controls",
            "_model_module_version": "1.5.0",
            "_model_name": "DescriptionStyleModel",
            "_view_count": null,
            "_view_module": "@jupyter-widgets/base",
            "_view_module_version": "1.2.0",
            "_view_name": "StyleView",
            "description_width": ""
          }
        },
        "97af29923f2d4979852892b67b554f42": {
          "model_module": "@jupyter-widgets/base",
          "model_module_version": "1.2.0",
          "model_name": "LayoutModel",
          "state": {
            "_model_module": "@jupyter-widgets/base",
            "_model_module_version": "1.2.0",
            "_model_name": "LayoutModel",
            "_view_count": null,
            "_view_module": "@jupyter-widgets/base",
            "_view_module_version": "1.2.0",
            "_view_name": "LayoutView",
            "align_content": null,
            "align_items": null,
            "align_self": null,
            "border": null,
            "bottom": null,
            "display": null,
            "flex": null,
            "flex_flow": null,
            "grid_area": null,
            "grid_auto_columns": null,
            "grid_auto_flow": null,
            "grid_auto_rows": null,
            "grid_column": null,
            "grid_gap": null,
            "grid_row": null,
            "grid_template_areas": null,
            "grid_template_columns": null,
            "grid_template_rows": null,
            "height": null,
            "justify_content": null,
            "justify_items": null,
            "left": null,
            "margin": null,
            "max_height": null,
            "max_width": null,
            "min_height": null,
            "min_width": null,
            "object_fit": null,
            "object_position": null,
            "order": null,
            "overflow": null,
            "overflow_x": null,
            "overflow_y": null,
            "padding": null,
            "right": null,
            "top": null,
            "visibility": null,
            "width": null
          }
        },
        "98c5e516ff7b4da0bf6deb85223444a9": {
          "model_module": "@jupyter-widgets/controls",
          "model_module_version": "1.5.0",
          "model_name": "DescriptionStyleModel",
          "state": {
            "_model_module": "@jupyter-widgets/controls",
            "_model_module_version": "1.5.0",
            "_model_name": "DescriptionStyleModel",
            "_view_count": null,
            "_view_module": "@jupyter-widgets/base",
            "_view_module_version": "1.2.0",
            "_view_name": "StyleView",
            "description_width": ""
          }
        },
        "993522e3e407467baf2448505fbcbd7e": {
          "model_module": "@jupyter-widgets/controls",
          "model_module_version": "1.5.0",
          "model_name": "ProgressStyleModel",
          "state": {
            "_model_module": "@jupyter-widgets/controls",
            "_model_module_version": "1.5.0",
            "_model_name": "ProgressStyleModel",
            "_view_count": null,
            "_view_module": "@jupyter-widgets/base",
            "_view_module_version": "1.2.0",
            "_view_name": "StyleView",
            "bar_color": null,
            "description_width": ""
          }
        },
        "9936234276024c0e822afc4a6b4208f5": {
          "model_module": "@jupyter-widgets/controls",
          "model_module_version": "1.5.0",
          "model_name": "FloatProgressModel",
          "state": {
            "_dom_classes": [],
            "_model_module": "@jupyter-widgets/controls",
            "_model_module_version": "1.5.0",
            "_model_name": "FloatProgressModel",
            "_view_count": null,
            "_view_module": "@jupyter-widgets/controls",
            "_view_module_version": "1.5.0",
            "_view_name": "ProgressView",
            "bar_style": "success",
            "description": "",
            "description_tooltip": null,
            "layout": "IPY_MODEL_506aaeda663b4a04bbee96c6ca4b6fd2",
            "max": 934,
            "min": 0,
            "orientation": "horizontal",
            "style": "IPY_MODEL_f03736df0b964d2cb045353536bca7d1",
            "value": 934
          }
        },
        "9cb1db35c0ef4f3480d44f396bfcb5bc": {
          "model_module": "@jupyter-widgets/base",
          "model_module_version": "1.2.0",
          "model_name": "LayoutModel",
          "state": {
            "_model_module": "@jupyter-widgets/base",
            "_model_module_version": "1.2.0",
            "_model_name": "LayoutModel",
            "_view_count": null,
            "_view_module": "@jupyter-widgets/base",
            "_view_module_version": "1.2.0",
            "_view_name": "LayoutView",
            "align_content": null,
            "align_items": null,
            "align_self": null,
            "border": null,
            "bottom": null,
            "display": null,
            "flex": null,
            "flex_flow": null,
            "grid_area": null,
            "grid_auto_columns": null,
            "grid_auto_flow": null,
            "grid_auto_rows": null,
            "grid_column": null,
            "grid_gap": null,
            "grid_row": null,
            "grid_template_areas": null,
            "grid_template_columns": null,
            "grid_template_rows": null,
            "height": null,
            "justify_content": null,
            "justify_items": null,
            "left": null,
            "margin": null,
            "max_height": null,
            "max_width": null,
            "min_height": null,
            "min_width": null,
            "object_fit": null,
            "object_position": null,
            "order": null,
            "overflow": null,
            "overflow_x": null,
            "overflow_y": null,
            "padding": null,
            "right": null,
            "top": null,
            "visibility": null,
            "width": null
          }
        },
        "9f1cc6ac31554df992510d745805c59b": {
          "model_module": "@jupyter-widgets/controls",
          "model_module_version": "1.5.0",
          "model_name": "HTMLModel",
          "state": {
            "_dom_classes": [],
            "_model_module": "@jupyter-widgets/controls",
            "_model_module_version": "1.5.0",
            "_model_name": "HTMLModel",
            "_view_count": null,
            "_view_module": "@jupyter-widgets/controls",
            "_view_module_version": "1.5.0",
            "_view_name": "HTMLView",
            "description": "",
            "description_tooltip": null,
            "layout": "IPY_MODEL_ca2c7b743275491c8a39c5037ac740da",
            "placeholder": "​",
            "style": "IPY_MODEL_192fa31e98d341ae872def39f97ce560",
            "value": "Batches: 100%"
          }
        },
        "a01828ec8f0f4dccaa9c9f7e7ae0b427": {
          "model_module": "@jupyter-widgets/controls",
          "model_module_version": "1.5.0",
          "model_name": "FloatProgressModel",
          "state": {
            "_dom_classes": [],
            "_model_module": "@jupyter-widgets/controls",
            "_model_module_version": "1.5.0",
            "_model_name": "FloatProgressModel",
            "_view_count": null,
            "_view_module": "@jupyter-widgets/controls",
            "_view_module_version": "1.5.0",
            "_view_name": "ProgressView",
            "bar_style": "success",
            "description": "",
            "description_tooltip": null,
            "layout": "IPY_MODEL_b03364c18e524e54ba691631c3f47c1a",
            "max": 815,
            "min": 0,
            "orientation": "horizontal",
            "style": "IPY_MODEL_4c5aa126e4274ee1a04b8173feabacd4",
            "value": 815
          }
        },
        "a1924c821a374bf5808df4fbcc5f5492": {
          "model_module": "@jupyter-widgets/base",
          "model_module_version": "1.2.0",
          "model_name": "LayoutModel",
          "state": {
            "_model_module": "@jupyter-widgets/base",
            "_model_module_version": "1.2.0",
            "_model_name": "LayoutModel",
            "_view_count": null,
            "_view_module": "@jupyter-widgets/base",
            "_view_module_version": "1.2.0",
            "_view_name": "LayoutView",
            "align_content": null,
            "align_items": null,
            "align_self": null,
            "border": null,
            "bottom": null,
            "display": null,
            "flex": null,
            "flex_flow": null,
            "grid_area": null,
            "grid_auto_columns": null,
            "grid_auto_flow": null,
            "grid_auto_rows": null,
            "grid_column": null,
            "grid_gap": null,
            "grid_row": null,
            "grid_template_areas": null,
            "grid_template_columns": null,
            "grid_template_rows": null,
            "height": null,
            "justify_content": null,
            "justify_items": null,
            "left": null,
            "margin": null,
            "max_height": null,
            "max_width": null,
            "min_height": null,
            "min_width": null,
            "object_fit": null,
            "object_position": null,
            "order": null,
            "overflow": null,
            "overflow_x": null,
            "overflow_y": null,
            "padding": null,
            "right": null,
            "top": null,
            "visibility": null,
            "width": null
          }
        },
        "a266e1e445ca4b0b85d1eb619fe6d57d": {
          "model_module": "@jupyter-widgets/base",
          "model_module_version": "1.2.0",
          "model_name": "LayoutModel",
          "state": {
            "_model_module": "@jupyter-widgets/base",
            "_model_module_version": "1.2.0",
            "_model_name": "LayoutModel",
            "_view_count": null,
            "_view_module": "@jupyter-widgets/base",
            "_view_module_version": "1.2.0",
            "_view_name": "LayoutView",
            "align_content": null,
            "align_items": null,
            "align_self": null,
            "border": null,
            "bottom": null,
            "display": null,
            "flex": null,
            "flex_flow": null,
            "grid_area": null,
            "grid_auto_columns": null,
            "grid_auto_flow": null,
            "grid_auto_rows": null,
            "grid_column": null,
            "grid_gap": null,
            "grid_row": null,
            "grid_template_areas": null,
            "grid_template_columns": null,
            "grid_template_rows": null,
            "height": null,
            "justify_content": null,
            "justify_items": null,
            "left": null,
            "margin": null,
            "max_height": null,
            "max_width": null,
            "min_height": null,
            "min_width": null,
            "object_fit": null,
            "object_position": null,
            "order": null,
            "overflow": null,
            "overflow_x": null,
            "overflow_y": null,
            "padding": null,
            "right": null,
            "top": null,
            "visibility": null,
            "width": null
          }
        },
        "a58c2d58bdfd4eb5a4e5001738ee6269": {
          "model_module": "@jupyter-widgets/controls",
          "model_module_version": "1.5.0",
          "model_name": "HTMLModel",
          "state": {
            "_dom_classes": [],
            "_model_module": "@jupyter-widgets/controls",
            "_model_module_version": "1.5.0",
            "_model_name": "HTMLModel",
            "_view_count": null,
            "_view_module": "@jupyter-widgets/controls",
            "_view_module_version": "1.5.0",
            "_view_name": "HTMLView",
            "description": "",
            "description_tooltip": null,
            "layout": "IPY_MODEL_1316239c97574f6ebc5df2d98ea507e2",
            "placeholder": "​",
            "style": "IPY_MODEL_6daf40565115471fba47505bd68b98a5",
            "value": "Batches: 100%"
          }
        },
        "a63501b4ff6f45a0a907d89efd89674d": {
          "model_module": "@jupyter-widgets/controls",
          "model_module_version": "1.5.0",
          "model_name": "HTMLModel",
          "state": {
            "_dom_classes": [],
            "_model_module": "@jupyter-widgets/controls",
            "_model_module_version": "1.5.0",
            "_model_name": "HTMLModel",
            "_view_count": null,
            "_view_module": "@jupyter-widgets/controls",
            "_view_module_version": "1.5.0",
            "_view_name": "HTMLView",
            "description": "",
            "description_tooltip": null,
            "layout": "IPY_MODEL_ac0a01e68cc6452e8ad0cc9c50e3b322",
            "placeholder": "​",
            "style": "IPY_MODEL_98c5e516ff7b4da0bf6deb85223444a9",
            "value": "Batches: 100%"
          }
        },
        "aba42b0d90554daa842dfe2433375875": {
          "model_module": "@jupyter-widgets/controls",
          "model_module_version": "1.5.0",
          "model_name": "FloatProgressModel",
          "state": {
            "_dom_classes": [],
            "_model_module": "@jupyter-widgets/controls",
            "_model_module_version": "1.5.0",
            "_model_name": "FloatProgressModel",
            "_view_count": null,
            "_view_module": "@jupyter-widgets/controls",
            "_view_module_version": "1.5.0",
            "_view_name": "ProgressView",
            "bar_style": "success",
            "description": "",
            "description_tooltip": null,
            "layout": "IPY_MODEL_50cf13e4385448afb320853257f9341a",
            "max": 1160,
            "min": 0,
            "orientation": "horizontal",
            "style": "IPY_MODEL_af93e8867f4b40509a2fb42d61394042",
            "value": 1160
          }
        },
        "ac0a01e68cc6452e8ad0cc9c50e3b322": {
          "model_module": "@jupyter-widgets/base",
          "model_module_version": "1.2.0",
          "model_name": "LayoutModel",
          "state": {
            "_model_module": "@jupyter-widgets/base",
            "_model_module_version": "1.2.0",
            "_model_name": "LayoutModel",
            "_view_count": null,
            "_view_module": "@jupyter-widgets/base",
            "_view_module_version": "1.2.0",
            "_view_name": "LayoutView",
            "align_content": null,
            "align_items": null,
            "align_self": null,
            "border": null,
            "bottom": null,
            "display": null,
            "flex": null,
            "flex_flow": null,
            "grid_area": null,
            "grid_auto_columns": null,
            "grid_auto_flow": null,
            "grid_auto_rows": null,
            "grid_column": null,
            "grid_gap": null,
            "grid_row": null,
            "grid_template_areas": null,
            "grid_template_columns": null,
            "grid_template_rows": null,
            "height": null,
            "justify_content": null,
            "justify_items": null,
            "left": null,
            "margin": null,
            "max_height": null,
            "max_width": null,
            "min_height": null,
            "min_width": null,
            "object_fit": null,
            "object_position": null,
            "order": null,
            "overflow": null,
            "overflow_x": null,
            "overflow_y": null,
            "padding": null,
            "right": null,
            "top": null,
            "visibility": null,
            "width": null
          }
        },
        "ac7031dca97248ff9be56ffaafa1fb34": {
          "model_module": "@jupyter-widgets/controls",
          "model_module_version": "1.5.0",
          "model_name": "HTMLModel",
          "state": {
            "_dom_classes": [],
            "_model_module": "@jupyter-widgets/controls",
            "_model_module_version": "1.5.0",
            "_model_name": "HTMLModel",
            "_view_count": null,
            "_view_module": "@jupyter-widgets/controls",
            "_view_module_version": "1.5.0",
            "_view_name": "HTMLView",
            "description": "",
            "description_tooltip": null,
            "layout": "IPY_MODEL_f5a40dde782745c787a7668a24717321",
            "placeholder": "​",
            "style": "IPY_MODEL_157e1950516c484ea70460afced71c45",
            "value": " 1202/1202 [00:18&lt;00:00, 136.04it/s]"
          }
        },
        "aec6dea49e8f490aa6c813699bbd47b6": {
          "model_module": "@jupyter-widgets/base",
          "model_module_version": "1.2.0",
          "model_name": "LayoutModel",
          "state": {
            "_model_module": "@jupyter-widgets/base",
            "_model_module_version": "1.2.0",
            "_model_name": "LayoutModel",
            "_view_count": null,
            "_view_module": "@jupyter-widgets/base",
            "_view_module_version": "1.2.0",
            "_view_name": "LayoutView",
            "align_content": null,
            "align_items": null,
            "align_self": null,
            "border": null,
            "bottom": null,
            "display": null,
            "flex": null,
            "flex_flow": null,
            "grid_area": null,
            "grid_auto_columns": null,
            "grid_auto_flow": null,
            "grid_auto_rows": null,
            "grid_column": null,
            "grid_gap": null,
            "grid_row": null,
            "grid_template_areas": null,
            "grid_template_columns": null,
            "grid_template_rows": null,
            "height": null,
            "justify_content": null,
            "justify_items": null,
            "left": null,
            "margin": null,
            "max_height": null,
            "max_width": null,
            "min_height": null,
            "min_width": null,
            "object_fit": null,
            "object_position": null,
            "order": null,
            "overflow": null,
            "overflow_x": null,
            "overflow_y": null,
            "padding": null,
            "right": null,
            "top": null,
            "visibility": null,
            "width": null
          }
        },
        "af93e8867f4b40509a2fb42d61394042": {
          "model_module": "@jupyter-widgets/controls",
          "model_module_version": "1.5.0",
          "model_name": "ProgressStyleModel",
          "state": {
            "_model_module": "@jupyter-widgets/controls",
            "_model_module_version": "1.5.0",
            "_model_name": "ProgressStyleModel",
            "_view_count": null,
            "_view_module": "@jupyter-widgets/base",
            "_view_module_version": "1.2.0",
            "_view_name": "StyleView",
            "bar_color": null,
            "description_width": ""
          }
        },
        "afccfa2a3aba42f1a89fd2f1f1c27575": {
          "model_module": "@jupyter-widgets/controls",
          "model_module_version": "1.5.0",
          "model_name": "ProgressStyleModel",
          "state": {
            "_model_module": "@jupyter-widgets/controls",
            "_model_module_version": "1.5.0",
            "_model_name": "ProgressStyleModel",
            "_view_count": null,
            "_view_module": "@jupyter-widgets/base",
            "_view_module_version": "1.2.0",
            "_view_name": "StyleView",
            "bar_color": null,
            "description_width": ""
          }
        },
        "b03364c18e524e54ba691631c3f47c1a": {
          "model_module": "@jupyter-widgets/base",
          "model_module_version": "1.2.0",
          "model_name": "LayoutModel",
          "state": {
            "_model_module": "@jupyter-widgets/base",
            "_model_module_version": "1.2.0",
            "_model_name": "LayoutModel",
            "_view_count": null,
            "_view_module": "@jupyter-widgets/base",
            "_view_module_version": "1.2.0",
            "_view_name": "LayoutView",
            "align_content": null,
            "align_items": null,
            "align_self": null,
            "border": null,
            "bottom": null,
            "display": null,
            "flex": null,
            "flex_flow": null,
            "grid_area": null,
            "grid_auto_columns": null,
            "grid_auto_flow": null,
            "grid_auto_rows": null,
            "grid_column": null,
            "grid_gap": null,
            "grid_row": null,
            "grid_template_areas": null,
            "grid_template_columns": null,
            "grid_template_rows": null,
            "height": null,
            "justify_content": null,
            "justify_items": null,
            "left": null,
            "margin": null,
            "max_height": null,
            "max_width": null,
            "min_height": null,
            "min_width": null,
            "object_fit": null,
            "object_position": null,
            "order": null,
            "overflow": null,
            "overflow_x": null,
            "overflow_y": null,
            "padding": null,
            "right": null,
            "top": null,
            "visibility": null,
            "width": null
          }
        },
        "b11ec13cbbcb46ce8b1f71fbb38414b8": {
          "model_module": "@jupyter-widgets/base",
          "model_module_version": "1.2.0",
          "model_name": "LayoutModel",
          "state": {
            "_model_module": "@jupyter-widgets/base",
            "_model_module_version": "1.2.0",
            "_model_name": "LayoutModel",
            "_view_count": null,
            "_view_module": "@jupyter-widgets/base",
            "_view_module_version": "1.2.0",
            "_view_name": "LayoutView",
            "align_content": null,
            "align_items": null,
            "align_self": null,
            "border": null,
            "bottom": null,
            "display": null,
            "flex": null,
            "flex_flow": null,
            "grid_area": null,
            "grid_auto_columns": null,
            "grid_auto_flow": null,
            "grid_auto_rows": null,
            "grid_column": null,
            "grid_gap": null,
            "grid_row": null,
            "grid_template_areas": null,
            "grid_template_columns": null,
            "grid_template_rows": null,
            "height": null,
            "justify_content": null,
            "justify_items": null,
            "left": null,
            "margin": null,
            "max_height": null,
            "max_width": null,
            "min_height": null,
            "min_width": null,
            "object_fit": null,
            "object_position": null,
            "order": null,
            "overflow": null,
            "overflow_x": null,
            "overflow_y": null,
            "padding": null,
            "right": null,
            "top": null,
            "visibility": null,
            "width": null
          }
        },
        "b1b7317865a94768aacb615aa825d405": {
          "model_module": "@jupyter-widgets/base",
          "model_module_version": "1.2.0",
          "model_name": "LayoutModel",
          "state": {
            "_model_module": "@jupyter-widgets/base",
            "_model_module_version": "1.2.0",
            "_model_name": "LayoutModel",
            "_view_count": null,
            "_view_module": "@jupyter-widgets/base",
            "_view_module_version": "1.2.0",
            "_view_name": "LayoutView",
            "align_content": null,
            "align_items": null,
            "align_self": null,
            "border": null,
            "bottom": null,
            "display": null,
            "flex": null,
            "flex_flow": null,
            "grid_area": null,
            "grid_auto_columns": null,
            "grid_auto_flow": null,
            "grid_auto_rows": null,
            "grid_column": null,
            "grid_gap": null,
            "grid_row": null,
            "grid_template_areas": null,
            "grid_template_columns": null,
            "grid_template_rows": null,
            "height": null,
            "justify_content": null,
            "justify_items": null,
            "left": null,
            "margin": null,
            "max_height": null,
            "max_width": null,
            "min_height": null,
            "min_width": null,
            "object_fit": null,
            "object_position": null,
            "order": null,
            "overflow": null,
            "overflow_x": null,
            "overflow_y": null,
            "padding": null,
            "right": null,
            "top": null,
            "visibility": null,
            "width": null
          }
        },
        "b3094e1bbe614827bac7c1b77f105b79": {
          "model_module": "@jupyter-widgets/base",
          "model_module_version": "1.2.0",
          "model_name": "LayoutModel",
          "state": {
            "_model_module": "@jupyter-widgets/base",
            "_model_module_version": "1.2.0",
            "_model_name": "LayoutModel",
            "_view_count": null,
            "_view_module": "@jupyter-widgets/base",
            "_view_module_version": "1.2.0",
            "_view_name": "LayoutView",
            "align_content": null,
            "align_items": null,
            "align_self": null,
            "border": null,
            "bottom": null,
            "display": null,
            "flex": null,
            "flex_flow": null,
            "grid_area": null,
            "grid_auto_columns": null,
            "grid_auto_flow": null,
            "grid_auto_rows": null,
            "grid_column": null,
            "grid_gap": null,
            "grid_row": null,
            "grid_template_areas": null,
            "grid_template_columns": null,
            "grid_template_rows": null,
            "height": null,
            "justify_content": null,
            "justify_items": null,
            "left": null,
            "margin": null,
            "max_height": null,
            "max_width": null,
            "min_height": null,
            "min_width": null,
            "object_fit": null,
            "object_position": null,
            "order": null,
            "overflow": null,
            "overflow_x": null,
            "overflow_y": null,
            "padding": null,
            "right": null,
            "top": null,
            "visibility": null,
            "width": null
          }
        },
        "b4a41e14394f4dd3b20b619b27daba48": {
          "model_module": "@jupyter-widgets/controls",
          "model_module_version": "1.5.0",
          "model_name": "HTMLModel",
          "state": {
            "_dom_classes": [],
            "_model_module": "@jupyter-widgets/controls",
            "_model_module_version": "1.5.0",
            "_model_name": "HTMLModel",
            "_view_count": null,
            "_view_module": "@jupyter-widgets/controls",
            "_view_module_version": "1.5.0",
            "_view_name": "HTMLView",
            "description": "",
            "description_tooltip": null,
            "layout": "IPY_MODEL_b3094e1bbe614827bac7c1b77f105b79",
            "placeholder": "​",
            "style": "IPY_MODEL_2d75e8ff443241959ac43d8c186208a9",
            "value": " 1330/1330 [00:20&lt;00:00, 137.41it/s]"
          }
        },
        "b6bdc7f8e1fb43e596c55e9fa690d8a5": {
          "model_module": "@jupyter-widgets/base",
          "model_module_version": "1.2.0",
          "model_name": "LayoutModel",
          "state": {
            "_model_module": "@jupyter-widgets/base",
            "_model_module_version": "1.2.0",
            "_model_name": "LayoutModel",
            "_view_count": null,
            "_view_module": "@jupyter-widgets/base",
            "_view_module_version": "1.2.0",
            "_view_name": "LayoutView",
            "align_content": null,
            "align_items": null,
            "align_self": null,
            "border": null,
            "bottom": null,
            "display": null,
            "flex": null,
            "flex_flow": null,
            "grid_area": null,
            "grid_auto_columns": null,
            "grid_auto_flow": null,
            "grid_auto_rows": null,
            "grid_column": null,
            "grid_gap": null,
            "grid_row": null,
            "grid_template_areas": null,
            "grid_template_columns": null,
            "grid_template_rows": null,
            "height": null,
            "justify_content": null,
            "justify_items": null,
            "left": null,
            "margin": null,
            "max_height": null,
            "max_width": null,
            "min_height": null,
            "min_width": null,
            "object_fit": null,
            "object_position": null,
            "order": null,
            "overflow": null,
            "overflow_x": null,
            "overflow_y": null,
            "padding": null,
            "right": null,
            "top": null,
            "visibility": null,
            "width": null
          }
        },
        "b8de0f8017ed4be0bbc66b0140c3780a": {
          "model_module": "@jupyter-widgets/base",
          "model_module_version": "1.2.0",
          "model_name": "LayoutModel",
          "state": {
            "_model_module": "@jupyter-widgets/base",
            "_model_module_version": "1.2.0",
            "_model_name": "LayoutModel",
            "_view_count": null,
            "_view_module": "@jupyter-widgets/base",
            "_view_module_version": "1.2.0",
            "_view_name": "LayoutView",
            "align_content": null,
            "align_items": null,
            "align_self": null,
            "border": null,
            "bottom": null,
            "display": null,
            "flex": null,
            "flex_flow": null,
            "grid_area": null,
            "grid_auto_columns": null,
            "grid_auto_flow": null,
            "grid_auto_rows": null,
            "grid_column": null,
            "grid_gap": null,
            "grid_row": null,
            "grid_template_areas": null,
            "grid_template_columns": null,
            "grid_template_rows": null,
            "height": null,
            "justify_content": null,
            "justify_items": null,
            "left": null,
            "margin": null,
            "max_height": null,
            "max_width": null,
            "min_height": null,
            "min_width": null,
            "object_fit": null,
            "object_position": null,
            "order": null,
            "overflow": null,
            "overflow_x": null,
            "overflow_y": null,
            "padding": null,
            "right": null,
            "top": null,
            "visibility": null,
            "width": null
          }
        },
        "bab943d4d998424389ca6b841177ea46": {
          "model_module": "@jupyter-widgets/base",
          "model_module_version": "1.2.0",
          "model_name": "LayoutModel",
          "state": {
            "_model_module": "@jupyter-widgets/base",
            "_model_module_version": "1.2.0",
            "_model_name": "LayoutModel",
            "_view_count": null,
            "_view_module": "@jupyter-widgets/base",
            "_view_module_version": "1.2.0",
            "_view_name": "LayoutView",
            "align_content": null,
            "align_items": null,
            "align_self": null,
            "border": null,
            "bottom": null,
            "display": null,
            "flex": null,
            "flex_flow": null,
            "grid_area": null,
            "grid_auto_columns": null,
            "grid_auto_flow": null,
            "grid_auto_rows": null,
            "grid_column": null,
            "grid_gap": null,
            "grid_row": null,
            "grid_template_areas": null,
            "grid_template_columns": null,
            "grid_template_rows": null,
            "height": null,
            "justify_content": null,
            "justify_items": null,
            "left": null,
            "margin": null,
            "max_height": null,
            "max_width": null,
            "min_height": null,
            "min_width": null,
            "object_fit": null,
            "object_position": null,
            "order": null,
            "overflow": null,
            "overflow_x": null,
            "overflow_y": null,
            "padding": null,
            "right": null,
            "top": null,
            "visibility": null,
            "width": null
          }
        },
        "bd1f2dacef094405a60fecfe325aaa7a": {
          "model_module": "@jupyter-widgets/base",
          "model_module_version": "1.2.0",
          "model_name": "LayoutModel",
          "state": {
            "_model_module": "@jupyter-widgets/base",
            "_model_module_version": "1.2.0",
            "_model_name": "LayoutModel",
            "_view_count": null,
            "_view_module": "@jupyter-widgets/base",
            "_view_module_version": "1.2.0",
            "_view_name": "LayoutView",
            "align_content": null,
            "align_items": null,
            "align_self": null,
            "border": null,
            "bottom": null,
            "display": null,
            "flex": null,
            "flex_flow": null,
            "grid_area": null,
            "grid_auto_columns": null,
            "grid_auto_flow": null,
            "grid_auto_rows": null,
            "grid_column": null,
            "grid_gap": null,
            "grid_row": null,
            "grid_template_areas": null,
            "grid_template_columns": null,
            "grid_template_rows": null,
            "height": null,
            "justify_content": null,
            "justify_items": null,
            "left": null,
            "margin": null,
            "max_height": null,
            "max_width": null,
            "min_height": null,
            "min_width": null,
            "object_fit": null,
            "object_position": null,
            "order": null,
            "overflow": null,
            "overflow_x": null,
            "overflow_y": null,
            "padding": null,
            "right": null,
            "top": null,
            "visibility": null,
            "width": null
          }
        },
        "be57f842d26e40fd89b6e4147b9cbf56": {
          "model_module": "@jupyter-widgets/controls",
          "model_module_version": "1.5.0",
          "model_name": "HTMLModel",
          "state": {
            "_dom_classes": [],
            "_model_module": "@jupyter-widgets/controls",
            "_model_module_version": "1.5.0",
            "_model_name": "HTMLModel",
            "_view_count": null,
            "_view_module": "@jupyter-widgets/controls",
            "_view_module_version": "1.5.0",
            "_view_name": "HTMLView",
            "description": "",
            "description_tooltip": null,
            "layout": "IPY_MODEL_ea3d21a38a2b4d86acf5ce7db21149c3",
            "placeholder": "​",
            "style": "IPY_MODEL_7d68fea4fa554c13b28765a525c943e3",
            "value": " 1521/1521 [00:22&lt;00:00, 142.14it/s]"
          }
        },
        "bf3aa8cdc90e449c88795929d02c144b": {
          "model_module": "@jupyter-widgets/controls",
          "model_module_version": "1.5.0",
          "model_name": "FloatProgressModel",
          "state": {
            "_dom_classes": [],
            "_model_module": "@jupyter-widgets/controls",
            "_model_module_version": "1.5.0",
            "_model_name": "FloatProgressModel",
            "_view_count": null,
            "_view_module": "@jupyter-widgets/controls",
            "_view_module_version": "1.5.0",
            "_view_name": "ProgressView",
            "bar_style": "success",
            "description": "",
            "description_tooltip": null,
            "layout": "IPY_MODEL_0dffee3604614697bcc669814d721a7b",
            "max": 1330,
            "min": 0,
            "orientation": "horizontal",
            "style": "IPY_MODEL_993522e3e407467baf2448505fbcbd7e",
            "value": 1330
          }
        },
        "bf3b759b6db347589770b03dcef6ce21": {
          "model_module": "@jupyter-widgets/base",
          "model_module_version": "1.2.0",
          "model_name": "LayoutModel",
          "state": {
            "_model_module": "@jupyter-widgets/base",
            "_model_module_version": "1.2.0",
            "_model_name": "LayoutModel",
            "_view_count": null,
            "_view_module": "@jupyter-widgets/base",
            "_view_module_version": "1.2.0",
            "_view_name": "LayoutView",
            "align_content": null,
            "align_items": null,
            "align_self": null,
            "border": null,
            "bottom": null,
            "display": null,
            "flex": null,
            "flex_flow": null,
            "grid_area": null,
            "grid_auto_columns": null,
            "grid_auto_flow": null,
            "grid_auto_rows": null,
            "grid_column": null,
            "grid_gap": null,
            "grid_row": null,
            "grid_template_areas": null,
            "grid_template_columns": null,
            "grid_template_rows": null,
            "height": null,
            "justify_content": null,
            "justify_items": null,
            "left": null,
            "margin": null,
            "max_height": null,
            "max_width": null,
            "min_height": null,
            "min_width": null,
            "object_fit": null,
            "object_position": null,
            "order": null,
            "overflow": null,
            "overflow_x": null,
            "overflow_y": null,
            "padding": null,
            "right": null,
            "top": null,
            "visibility": null,
            "width": null
          }
        },
        "bfe570b3aa624f50b032344a42e003e7": {
          "model_module": "@jupyter-widgets/base",
          "model_module_version": "1.2.0",
          "model_name": "LayoutModel",
          "state": {
            "_model_module": "@jupyter-widgets/base",
            "_model_module_version": "1.2.0",
            "_model_name": "LayoutModel",
            "_view_count": null,
            "_view_module": "@jupyter-widgets/base",
            "_view_module_version": "1.2.0",
            "_view_name": "LayoutView",
            "align_content": null,
            "align_items": null,
            "align_self": null,
            "border": null,
            "bottom": null,
            "display": null,
            "flex": null,
            "flex_flow": null,
            "grid_area": null,
            "grid_auto_columns": null,
            "grid_auto_flow": null,
            "grid_auto_rows": null,
            "grid_column": null,
            "grid_gap": null,
            "grid_row": null,
            "grid_template_areas": null,
            "grid_template_columns": null,
            "grid_template_rows": null,
            "height": null,
            "justify_content": null,
            "justify_items": null,
            "left": null,
            "margin": null,
            "max_height": null,
            "max_width": null,
            "min_height": null,
            "min_width": null,
            "object_fit": null,
            "object_position": null,
            "order": null,
            "overflow": null,
            "overflow_x": null,
            "overflow_y": null,
            "padding": null,
            "right": null,
            "top": null,
            "visibility": null,
            "width": null
          }
        },
        "c31a0426c89d4c73bda05a696d72b63e": {
          "model_module": "@jupyter-widgets/controls",
          "model_module_version": "1.5.0",
          "model_name": "HTMLModel",
          "state": {
            "_dom_classes": [],
            "_model_module": "@jupyter-widgets/controls",
            "_model_module_version": "1.5.0",
            "_model_name": "HTMLModel",
            "_view_count": null,
            "_view_module": "@jupyter-widgets/controls",
            "_view_module_version": "1.5.0",
            "_view_name": "HTMLView",
            "description": "",
            "description_tooltip": null,
            "layout": "IPY_MODEL_97af29923f2d4979852892b67b554f42",
            "placeholder": "​",
            "style": "IPY_MODEL_43cae231800c4265883cf0ffdadfcdd8",
            "value": " 1596/1596 [00:24&lt;00:00, 140.84it/s]"
          }
        },
        "ca2c7b743275491c8a39c5037ac740da": {
          "model_module": "@jupyter-widgets/base",
          "model_module_version": "1.2.0",
          "model_name": "LayoutModel",
          "state": {
            "_model_module": "@jupyter-widgets/base",
            "_model_module_version": "1.2.0",
            "_model_name": "LayoutModel",
            "_view_count": null,
            "_view_module": "@jupyter-widgets/base",
            "_view_module_version": "1.2.0",
            "_view_name": "LayoutView",
            "align_content": null,
            "align_items": null,
            "align_self": null,
            "border": null,
            "bottom": null,
            "display": null,
            "flex": null,
            "flex_flow": null,
            "grid_area": null,
            "grid_auto_columns": null,
            "grid_auto_flow": null,
            "grid_auto_rows": null,
            "grid_column": null,
            "grid_gap": null,
            "grid_row": null,
            "grid_template_areas": null,
            "grid_template_columns": null,
            "grid_template_rows": null,
            "height": null,
            "justify_content": null,
            "justify_items": null,
            "left": null,
            "margin": null,
            "max_height": null,
            "max_width": null,
            "min_height": null,
            "min_width": null,
            "object_fit": null,
            "object_position": null,
            "order": null,
            "overflow": null,
            "overflow_x": null,
            "overflow_y": null,
            "padding": null,
            "right": null,
            "top": null,
            "visibility": null,
            "width": null
          }
        },
        "cac71a7525d643bd99a01c0dfd8ef16a": {
          "model_module": "@jupyter-widgets/controls",
          "model_module_version": "1.5.0",
          "model_name": "DescriptionStyleModel",
          "state": {
            "_model_module": "@jupyter-widgets/controls",
            "_model_module_version": "1.5.0",
            "_model_name": "DescriptionStyleModel",
            "_view_count": null,
            "_view_module": "@jupyter-widgets/base",
            "_view_module_version": "1.2.0",
            "_view_name": "StyleView",
            "description_width": ""
          }
        },
        "cc08e294c86e450c8d366cfd699f10b5": {
          "model_module": "@jupyter-widgets/controls",
          "model_module_version": "1.5.0",
          "model_name": "HBoxModel",
          "state": {
            "_dom_classes": [],
            "_model_module": "@jupyter-widgets/controls",
            "_model_module_version": "1.5.0",
            "_model_name": "HBoxModel",
            "_view_count": null,
            "_view_module": "@jupyter-widgets/controls",
            "_view_module_version": "1.5.0",
            "_view_name": "HBoxView",
            "box_style": "",
            "children": [
              "IPY_MODEL_79ac7efd936f4db9ad930543d87b84d5",
              "IPY_MODEL_9936234276024c0e822afc4a6b4208f5",
              "IPY_MODEL_0d0f4e2292bf4867842d46e7ab2e42be"
            ],
            "layout": "IPY_MODEL_ffb8cc37564243bca75c12880a9791d3"
          }
        },
        "cec9823186fb4e7799b1c49b72c4eada": {
          "model_module": "@jupyter-widgets/controls",
          "model_module_version": "1.5.0",
          "model_name": "FloatProgressModel",
          "state": {
            "_dom_classes": [],
            "_model_module": "@jupyter-widgets/controls",
            "_model_module_version": "1.5.0",
            "_model_name": "FloatProgressModel",
            "_view_count": null,
            "_view_module": "@jupyter-widgets/controls",
            "_view_module_version": "1.5.0",
            "_view_name": "ProgressView",
            "bar_style": "success",
            "description": "",
            "description_tooltip": null,
            "layout": "IPY_MODEL_649433e82b6948bb9237d667b8acf5ed",
            "max": 1188,
            "min": 0,
            "orientation": "horizontal",
            "style": "IPY_MODEL_6bbdd38ebbb94859bc2c681669a520f5",
            "value": 1188
          }
        },
        "d12b822d8b2541f2a5e167818ce489f4": {
          "model_module": "@jupyter-widgets/controls",
          "model_module_version": "1.5.0",
          "model_name": "FloatProgressModel",
          "state": {
            "_dom_classes": [],
            "_model_module": "@jupyter-widgets/controls",
            "_model_module_version": "1.5.0",
            "_model_name": "FloatProgressModel",
            "_view_count": null,
            "_view_module": "@jupyter-widgets/controls",
            "_view_module_version": "1.5.0",
            "_view_name": "ProgressView",
            "bar_style": "success",
            "description": "",
            "description_tooltip": null,
            "layout": "IPY_MODEL_39402b25b2a540c1931829127d0abc00",
            "max": 1521,
            "min": 0,
            "orientation": "horizontal",
            "style": "IPY_MODEL_eb9d3346457f476cb14ca662a0bc0b6e",
            "value": 1521
          }
        },
        "d1fa790ded9042de8e166d05e4e4073a": {
          "model_module": "@jupyter-widgets/base",
          "model_module_version": "1.2.0",
          "model_name": "LayoutModel",
          "state": {
            "_model_module": "@jupyter-widgets/base",
            "_model_module_version": "1.2.0",
            "_model_name": "LayoutModel",
            "_view_count": null,
            "_view_module": "@jupyter-widgets/base",
            "_view_module_version": "1.2.0",
            "_view_name": "LayoutView",
            "align_content": null,
            "align_items": null,
            "align_self": null,
            "border": null,
            "bottom": null,
            "display": null,
            "flex": null,
            "flex_flow": null,
            "grid_area": null,
            "grid_auto_columns": null,
            "grid_auto_flow": null,
            "grid_auto_rows": null,
            "grid_column": null,
            "grid_gap": null,
            "grid_row": null,
            "grid_template_areas": null,
            "grid_template_columns": null,
            "grid_template_rows": null,
            "height": null,
            "justify_content": null,
            "justify_items": null,
            "left": null,
            "margin": null,
            "max_height": null,
            "max_width": null,
            "min_height": null,
            "min_width": null,
            "object_fit": null,
            "object_position": null,
            "order": null,
            "overflow": null,
            "overflow_x": null,
            "overflow_y": null,
            "padding": null,
            "right": null,
            "top": null,
            "visibility": null,
            "width": null
          }
        },
        "d2f01c2239c94261955d1147ecc7fc44": {
          "model_module": "@jupyter-widgets/base",
          "model_module_version": "1.2.0",
          "model_name": "LayoutModel",
          "state": {
            "_model_module": "@jupyter-widgets/base",
            "_model_module_version": "1.2.0",
            "_model_name": "LayoutModel",
            "_view_count": null,
            "_view_module": "@jupyter-widgets/base",
            "_view_module_version": "1.2.0",
            "_view_name": "LayoutView",
            "align_content": null,
            "align_items": null,
            "align_self": null,
            "border": null,
            "bottom": null,
            "display": null,
            "flex": null,
            "flex_flow": null,
            "grid_area": null,
            "grid_auto_columns": null,
            "grid_auto_flow": null,
            "grid_auto_rows": null,
            "grid_column": null,
            "grid_gap": null,
            "grid_row": null,
            "grid_template_areas": null,
            "grid_template_columns": null,
            "grid_template_rows": null,
            "height": null,
            "justify_content": null,
            "justify_items": null,
            "left": null,
            "margin": null,
            "max_height": null,
            "max_width": null,
            "min_height": null,
            "min_width": null,
            "object_fit": null,
            "object_position": null,
            "order": null,
            "overflow": null,
            "overflow_x": null,
            "overflow_y": null,
            "padding": null,
            "right": null,
            "top": null,
            "visibility": null,
            "width": null
          }
        },
        "d6193b4091c94bc9b19dc597c335a0e5": {
          "model_module": "@jupyter-widgets/controls",
          "model_module_version": "1.5.0",
          "model_name": "DescriptionStyleModel",
          "state": {
            "_model_module": "@jupyter-widgets/controls",
            "_model_module_version": "1.5.0",
            "_model_name": "DescriptionStyleModel",
            "_view_count": null,
            "_view_module": "@jupyter-widgets/base",
            "_view_module_version": "1.2.0",
            "_view_name": "StyleView",
            "description_width": ""
          }
        },
        "d95f264b677044928b02bb5735a1e0b3": {
          "model_module": "@jupyter-widgets/controls",
          "model_module_version": "1.5.0",
          "model_name": "DescriptionStyleModel",
          "state": {
            "_model_module": "@jupyter-widgets/controls",
            "_model_module_version": "1.5.0",
            "_model_name": "DescriptionStyleModel",
            "_view_count": null,
            "_view_module": "@jupyter-widgets/base",
            "_view_module_version": "1.2.0",
            "_view_name": "StyleView",
            "description_width": ""
          }
        },
        "e07b3c4d91ad41e38ae6c3d0892922db": {
          "model_module": "@jupyter-widgets/controls",
          "model_module_version": "1.5.0",
          "model_name": "FloatProgressModel",
          "state": {
            "_dom_classes": [],
            "_model_module": "@jupyter-widgets/controls",
            "_model_module_version": "1.5.0",
            "_model_name": "FloatProgressModel",
            "_view_count": null,
            "_view_module": "@jupyter-widgets/controls",
            "_view_module_version": "1.5.0",
            "_view_name": "ProgressView",
            "bar_style": "success",
            "description": "",
            "description_tooltip": null,
            "layout": "IPY_MODEL_7a8b8c1a5afe433b8fcc35f397f3a558",
            "max": 2947,
            "min": 0,
            "orientation": "horizontal",
            "style": "IPY_MODEL_57d603afa94c4e18950abeeb28d000a6",
            "value": 2947
          }
        },
        "e6d22ff474be41489316c01df33a69c0": {
          "model_module": "@jupyter-widgets/controls",
          "model_module_version": "1.5.0",
          "model_name": "FloatProgressModel",
          "state": {
            "_dom_classes": [],
            "_model_module": "@jupyter-widgets/controls",
            "_model_module_version": "1.5.0",
            "_model_name": "FloatProgressModel",
            "_view_count": null,
            "_view_module": "@jupyter-widgets/controls",
            "_view_module_version": "1.5.0",
            "_view_name": "ProgressView",
            "bar_style": "success",
            "description": "",
            "description_tooltip": null,
            "layout": "IPY_MODEL_bab943d4d998424389ca6b841177ea46",
            "max": 1724,
            "min": 0,
            "orientation": "horizontal",
            "style": "IPY_MODEL_8dd8c3981d77414cbb946869ffdabe4a",
            "value": 1724
          }
        },
        "e77d092c0f5147a2abcce2e02c348705": {
          "model_module": "@jupyter-widgets/base",
          "model_module_version": "1.2.0",
          "model_name": "LayoutModel",
          "state": {
            "_model_module": "@jupyter-widgets/base",
            "_model_module_version": "1.2.0",
            "_model_name": "LayoutModel",
            "_view_count": null,
            "_view_module": "@jupyter-widgets/base",
            "_view_module_version": "1.2.0",
            "_view_name": "LayoutView",
            "align_content": null,
            "align_items": null,
            "align_self": null,
            "border": null,
            "bottom": null,
            "display": null,
            "flex": null,
            "flex_flow": null,
            "grid_area": null,
            "grid_auto_columns": null,
            "grid_auto_flow": null,
            "grid_auto_rows": null,
            "grid_column": null,
            "grid_gap": null,
            "grid_row": null,
            "grid_template_areas": null,
            "grid_template_columns": null,
            "grid_template_rows": null,
            "height": null,
            "justify_content": null,
            "justify_items": null,
            "left": null,
            "margin": null,
            "max_height": null,
            "max_width": null,
            "min_height": null,
            "min_width": null,
            "object_fit": null,
            "object_position": null,
            "order": null,
            "overflow": null,
            "overflow_x": null,
            "overflow_y": null,
            "padding": null,
            "right": null,
            "top": null,
            "visibility": null,
            "width": null
          }
        },
        "ea3d21a38a2b4d86acf5ce7db21149c3": {
          "model_module": "@jupyter-widgets/base",
          "model_module_version": "1.2.0",
          "model_name": "LayoutModel",
          "state": {
            "_model_module": "@jupyter-widgets/base",
            "_model_module_version": "1.2.0",
            "_model_name": "LayoutModel",
            "_view_count": null,
            "_view_module": "@jupyter-widgets/base",
            "_view_module_version": "1.2.0",
            "_view_name": "LayoutView",
            "align_content": null,
            "align_items": null,
            "align_self": null,
            "border": null,
            "bottom": null,
            "display": null,
            "flex": null,
            "flex_flow": null,
            "grid_area": null,
            "grid_auto_columns": null,
            "grid_auto_flow": null,
            "grid_auto_rows": null,
            "grid_column": null,
            "grid_gap": null,
            "grid_row": null,
            "grid_template_areas": null,
            "grid_template_columns": null,
            "grid_template_rows": null,
            "height": null,
            "justify_content": null,
            "justify_items": null,
            "left": null,
            "margin": null,
            "max_height": null,
            "max_width": null,
            "min_height": null,
            "min_width": null,
            "object_fit": null,
            "object_position": null,
            "order": null,
            "overflow": null,
            "overflow_x": null,
            "overflow_y": null,
            "padding": null,
            "right": null,
            "top": null,
            "visibility": null,
            "width": null
          }
        },
        "eb9d3346457f476cb14ca662a0bc0b6e": {
          "model_module": "@jupyter-widgets/controls",
          "model_module_version": "1.5.0",
          "model_name": "ProgressStyleModel",
          "state": {
            "_model_module": "@jupyter-widgets/controls",
            "_model_module_version": "1.5.0",
            "_model_name": "ProgressStyleModel",
            "_view_count": null,
            "_view_module": "@jupyter-widgets/base",
            "_view_module_version": "1.2.0",
            "_view_name": "StyleView",
            "bar_color": null,
            "description_width": ""
          }
        },
        "ec3ffd864b954a9889211baec4e493db": {
          "model_module": "@jupyter-widgets/controls",
          "model_module_version": "1.5.0",
          "model_name": "HTMLModel",
          "state": {
            "_dom_classes": [],
            "_model_module": "@jupyter-widgets/controls",
            "_model_module_version": "1.5.0",
            "_model_name": "HTMLModel",
            "_view_count": null,
            "_view_module": "@jupyter-widgets/controls",
            "_view_module_version": "1.5.0",
            "_view_name": "HTMLView",
            "description": "",
            "description_tooltip": null,
            "layout": "IPY_MODEL_e77d092c0f5147a2abcce2e02c348705",
            "placeholder": "​",
            "style": "IPY_MODEL_3a577e126694458f9cd122532d958b23",
            "value": " 1724/1724 [00:26&lt;00:00, 142.69it/s]"
          }
        },
        "eed144af28eb4b16a4504bef0639ddb2": {
          "model_module": "@jupyter-widgets/controls",
          "model_module_version": "1.5.0",
          "model_name": "HTMLModel",
          "state": {
            "_dom_classes": [],
            "_model_module": "@jupyter-widgets/controls",
            "_model_module_version": "1.5.0",
            "_model_name": "HTMLModel",
            "_view_count": null,
            "_view_module": "@jupyter-widgets/controls",
            "_view_module_version": "1.5.0",
            "_view_name": "HTMLView",
            "description": "",
            "description_tooltip": null,
            "layout": "IPY_MODEL_0561df25d2d648e48ead0e837ee485e1",
            "placeholder": "​",
            "style": "IPY_MODEL_94a7a4b30bed4a7dab9a48d667312f04",
            "value": " 815/815 [00:13&lt;00:00, 64.29it/s]"
          }
        },
        "efd2f9dceab14dfa8d89995dd72ba93f": {
          "model_module": "@jupyter-widgets/controls",
          "model_module_version": "1.5.0",
          "model_name": "HTMLModel",
          "state": {
            "_dom_classes": [],
            "_model_module": "@jupyter-widgets/controls",
            "_model_module_version": "1.5.0",
            "_model_name": "HTMLModel",
            "_view_count": null,
            "_view_module": "@jupyter-widgets/controls",
            "_view_module_version": "1.5.0",
            "_view_name": "HTMLView",
            "description": "",
            "description_tooltip": null,
            "layout": "IPY_MODEL_03ef46af2d85446eaa87bd4825f77da7",
            "placeholder": "​",
            "style": "IPY_MODEL_3de892e93f1e4aed8672520566aecba0",
            "value": " 3398/3398 [00:49&lt;00:00, 105.87it/s]"
          }
        },
        "f03736df0b964d2cb045353536bca7d1": {
          "model_module": "@jupyter-widgets/controls",
          "model_module_version": "1.5.0",
          "model_name": "ProgressStyleModel",
          "state": {
            "_model_module": "@jupyter-widgets/controls",
            "_model_module_version": "1.5.0",
            "_model_name": "ProgressStyleModel",
            "_view_count": null,
            "_view_module": "@jupyter-widgets/base",
            "_view_module_version": "1.2.0",
            "_view_name": "StyleView",
            "bar_color": null,
            "description_width": ""
          }
        },
        "f187896ac03b4eb9a513b167e1ad76ed": {
          "model_module": "@jupyter-widgets/base",
          "model_module_version": "1.2.0",
          "model_name": "LayoutModel",
          "state": {
            "_model_module": "@jupyter-widgets/base",
            "_model_module_version": "1.2.0",
            "_model_name": "LayoutModel",
            "_view_count": null,
            "_view_module": "@jupyter-widgets/base",
            "_view_module_version": "1.2.0",
            "_view_name": "LayoutView",
            "align_content": null,
            "align_items": null,
            "align_self": null,
            "border": null,
            "bottom": null,
            "display": null,
            "flex": null,
            "flex_flow": null,
            "grid_area": null,
            "grid_auto_columns": null,
            "grid_auto_flow": null,
            "grid_auto_rows": null,
            "grid_column": null,
            "grid_gap": null,
            "grid_row": null,
            "grid_template_areas": null,
            "grid_template_columns": null,
            "grid_template_rows": null,
            "height": null,
            "justify_content": null,
            "justify_items": null,
            "left": null,
            "margin": null,
            "max_height": null,
            "max_width": null,
            "min_height": null,
            "min_width": null,
            "object_fit": null,
            "object_position": null,
            "order": null,
            "overflow": null,
            "overflow_x": null,
            "overflow_y": null,
            "padding": null,
            "right": null,
            "top": null,
            "visibility": null,
            "width": null
          }
        },
        "f2b9d40c949442b1968d04ba5d007e27": {
          "model_module": "@jupyter-widgets/base",
          "model_module_version": "1.2.0",
          "model_name": "LayoutModel",
          "state": {
            "_model_module": "@jupyter-widgets/base",
            "_model_module_version": "1.2.0",
            "_model_name": "LayoutModel",
            "_view_count": null,
            "_view_module": "@jupyter-widgets/base",
            "_view_module_version": "1.2.0",
            "_view_name": "LayoutView",
            "align_content": null,
            "align_items": null,
            "align_self": null,
            "border": null,
            "bottom": null,
            "display": null,
            "flex": null,
            "flex_flow": null,
            "grid_area": null,
            "grid_auto_columns": null,
            "grid_auto_flow": null,
            "grid_auto_rows": null,
            "grid_column": null,
            "grid_gap": null,
            "grid_row": null,
            "grid_template_areas": null,
            "grid_template_columns": null,
            "grid_template_rows": null,
            "height": null,
            "justify_content": null,
            "justify_items": null,
            "left": null,
            "margin": null,
            "max_height": null,
            "max_width": null,
            "min_height": null,
            "min_width": null,
            "object_fit": null,
            "object_position": null,
            "order": null,
            "overflow": null,
            "overflow_x": null,
            "overflow_y": null,
            "padding": null,
            "right": null,
            "top": null,
            "visibility": null,
            "width": null
          }
        },
        "f5a40dde782745c787a7668a24717321": {
          "model_module": "@jupyter-widgets/base",
          "model_module_version": "1.2.0",
          "model_name": "LayoutModel",
          "state": {
            "_model_module": "@jupyter-widgets/base",
            "_model_module_version": "1.2.0",
            "_model_name": "LayoutModel",
            "_view_count": null,
            "_view_module": "@jupyter-widgets/base",
            "_view_module_version": "1.2.0",
            "_view_name": "LayoutView",
            "align_content": null,
            "align_items": null,
            "align_self": null,
            "border": null,
            "bottom": null,
            "display": null,
            "flex": null,
            "flex_flow": null,
            "grid_area": null,
            "grid_auto_columns": null,
            "grid_auto_flow": null,
            "grid_auto_rows": null,
            "grid_column": null,
            "grid_gap": null,
            "grid_row": null,
            "grid_template_areas": null,
            "grid_template_columns": null,
            "grid_template_rows": null,
            "height": null,
            "justify_content": null,
            "justify_items": null,
            "left": null,
            "margin": null,
            "max_height": null,
            "max_width": null,
            "min_height": null,
            "min_width": null,
            "object_fit": null,
            "object_position": null,
            "order": null,
            "overflow": null,
            "overflow_x": null,
            "overflow_y": null,
            "padding": null,
            "right": null,
            "top": null,
            "visibility": null,
            "width": null
          }
        },
        "fcdb6140328d4b30a1f411d85f135484": {
          "model_module": "@jupyter-widgets/controls",
          "model_module_version": "1.5.0",
          "model_name": "HTMLModel",
          "state": {
            "_dom_classes": [],
            "_model_module": "@jupyter-widgets/controls",
            "_model_module_version": "1.5.0",
            "_model_name": "HTMLModel",
            "_view_count": null,
            "_view_module": "@jupyter-widgets/controls",
            "_view_module_version": "1.5.0",
            "_view_name": "HTMLView",
            "description": "",
            "description_tooltip": null,
            "layout": "IPY_MODEL_2272f62e510a469e8fa84753c1851797",
            "placeholder": "​",
            "style": "IPY_MODEL_67e87b6af2d844d88b20852bc9c748e8",
            "value": "Batches: 100%"
          }
        },
        "ffb8cc37564243bca75c12880a9791d3": {
          "model_module": "@jupyter-widgets/base",
          "model_module_version": "1.2.0",
          "model_name": "LayoutModel",
          "state": {
            "_model_module": "@jupyter-widgets/base",
            "_model_module_version": "1.2.0",
            "_model_name": "LayoutModel",
            "_view_count": null,
            "_view_module": "@jupyter-widgets/base",
            "_view_module_version": "1.2.0",
            "_view_name": "LayoutView",
            "align_content": null,
            "align_items": null,
            "align_self": null,
            "border": null,
            "bottom": null,
            "display": null,
            "flex": null,
            "flex_flow": null,
            "grid_area": null,
            "grid_auto_columns": null,
            "grid_auto_flow": null,
            "grid_auto_rows": null,
            "grid_column": null,
            "grid_gap": null,
            "grid_row": null,
            "grid_template_areas": null,
            "grid_template_columns": null,
            "grid_template_rows": null,
            "height": null,
            "justify_content": null,
            "justify_items": null,
            "left": null,
            "margin": null,
            "max_height": null,
            "max_width": null,
            "min_height": null,
            "min_width": null,
            "object_fit": null,
            "object_position": null,
            "order": null,
            "overflow": null,
            "overflow_x": null,
            "overflow_y": null,
            "padding": null,
            "right": null,
            "top": null,
            "visibility": null,
            "width": null
          }
        }
      }
    }
  },
  "nbformat": 4,
  "nbformat_minor": 0
}
