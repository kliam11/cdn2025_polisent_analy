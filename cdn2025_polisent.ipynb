{
  "nbformat": 4,
  "nbformat_minor": 0,
  "metadata": {
    "colab": {
      "provenance": [],
      "gpuType": "T4",
      "collapsed_sections": [
        "n5S3gGYuF8Cd",
        "eTW_3jg1E600",
        "-560HIP91dfl",
        "YjS1pyS2GR6Z",
        "aozA8aV8NLwc",
        "uQcUO0lpIlwW",
        "rAoMSYGDQ9jK",
        "O8iGNszThO1z"
      ]
    },
    "kernelspec": {
      "name": "python3",
      "display_name": "Python 3"
    },
    "language_info": {
      "name": "python"
    },
    "accelerator": "GPU"
  },
  "cells": [
    {
      "cell_type": "markdown",
      "source": [
        "# Env"
      ],
      "metadata": {
        "id": "TVKBhgF7FkGr"
      }
    },
    {
      "cell_type": "code",
      "source": [
        "!pip install pandas numpy matplotlib torch torchmetrics transformers scikit-learn nltk seaborn praw"
      ],
      "metadata": {
        "collapsed": true,
        "id": "-rmTYq9pHTON"
      },
      "execution_count": null,
      "outputs": []
    },
    {
      "cell_type": "code",
      "source": [
        "!pip uninstall tensorflow\n",
        "!pip install tensorflow==2.12.0"
      ],
      "metadata": {
        "id": "0UcQF2K7reCY"
      },
      "execution_count": null,
      "outputs": []
    },
    {
      "cell_type": "code",
      "source": [
        "import pandas as pd\n",
        "import numpy as np\n",
        "import matplotlib.pyplot as plt\n",
        "from google.colab import drive, files\n",
        "\n",
        "import torch\n",
        "import torch.nn as nn\n",
        "from torch.utils.data import DataLoader\n",
        "\n",
        "from transformers import BertModel, BertTokenizer\n",
        "\n",
        "from sklearn.svm import LinearSVC\n",
        "from sklearn.feature_extraction.text import TfidfVectorizer\n",
        "from sklearn.svm import SVC\n",
        "from sklearn.pipeline import make_pipeline\n",
        "from sklearn.metrics import accuracy_score, confusion_matrix, precision_score, recall_score, f1_score\n",
        "from sklearn.model_selection import train_test_split\n",
        "from sklearn.preprocessing import OneHotEncoder\n",
        "\n",
        "import tensorflow as tf\n",
        "from tensorflow.keras.preprocessing.text import Tokenizer\n",
        "from tensorflow.keras.preprocessing.sequence import pad_sequences\n",
        "from tensorflow.keras.models import Sequential\n",
        "from tensorflow.keras.layers import Embedding, LSTM, Dropout, Dense, BatchNormalization, Bidirectional, SpatialDropout1D\n",
        "from tensorflow.keras.callbacks import EarlyStopping\n",
        "from tensorflow.keras.regularizers import l2\n",
        "\n",
        "import seaborn as sns\n",
        "\n",
        "import praw\n",
        "import datetime\n",
        "import time\n",
        "import csv\n",
        "import requests\n",
        "import json\n",
        "import multiprocessing\n",
        "import os\n",
        "from dateutil.relativedelta import relativedelta\n",
        "\n",
        "import re\n",
        "import string\n",
        "import nltk\n",
        "from nltk.corpus import stopwords\n",
        "from nltk.stem import PorterStemmer\n",
        "\n",
        "from tqdm import tqdm\n",
        "\n",
        "import warnings\n",
        "warnings.filterwarnings(\"ignore\", category=UserWarning, module=\"praw\")"
      ],
      "metadata": {
        "id": "d2gWb4ujHKQB"
      },
      "execution_count": 1,
      "outputs": []
    },
    {
      "cell_type": "code",
      "source": [
        "TRAIN_PATH = '/content/drive/MyDrive/Colab Notebooks/train.tsv'\n",
        "LOC = '/content/drive/MyDrive/Colab Notebooks/'\n",
        "drive.mount('/content/drive')"
      ],
      "metadata": {
        "colab": {
          "base_uri": "https://localhost:8080/"
        },
        "id": "ASJ-w395P9ua",
        "outputId": "a02c3e41-4258-4e68-ccc8-59d8388cc106"
      },
      "execution_count": 14,
      "outputs": [
        {
          "output_type": "stream",
          "name": "stdout",
          "text": [
            "Drive already mounted at /content/drive; to attempt to forcibly remount, call drive.mount(\"/content/drive\", force_remount=True).\n"
          ]
        }
      ]
    },
    {
      "cell_type": "markdown",
      "source": [
        "# Collect Historical Reddit Data\n",
        "Using PullPushAPI to retrieve posts and PRAW for their comments from r/canada, r/OnGuardForThee and r/CanadaPolitics in the last year.\n"
      ],
      "metadata": {
        "id": "kvjcn2a__mgD"
      }
    },
    {
      "cell_type": "code",
      "source": [
        "def store_data(data, filename):\n",
        "  df = pd.DataFrame(data)\n",
        "  filepath = os.path.join(LOC, filename)\n",
        "  df.to_csv(filepath, sep='\\t', index=False, mode='a', header=not os.path.exists(filepath))"
      ],
      "metadata": {
        "id": "HIKv1IafL3hu"
      },
      "execution_count": 8,
      "outputs": []
    },
    {
      "cell_type": "markdown",
      "source": [
        "## Retrieve posts within last year"
      ],
      "metadata": {
        "id": "g6Kkl2kCsmu3"
      }
    },
    {
      "cell_type": "markdown",
      "source": [
        "### Collect"
      ],
      "metadata": {
        "id": "S0JHgeeCzGpv"
      }
    },
    {
      "cell_type": "code",
      "source": [
        "SUBREDDITS = ['canada', 'onguardforthee']\n",
        "SCORE = 500\n",
        "BEGIN_DATE_START = 1709251200\n",
        "BEGIN_DATE_SPAN = 1711843200\n",
        "END_DATE = 1740960000\n",
        "QUERIES= ['liberals', 'conservatives', 'ndp']\n",
        "SIZE = 100\n",
        "DELAY_SEC = 3\n",
        "DELAY_FATAL = 60\n",
        "FILENAME = 'posts.tsv'"
      ],
      "metadata": {
        "id": "HYW1yaNRbcYw"
      },
      "execution_count": 10,
      "outputs": []
    },
    {
      "cell_type": "code",
      "source": [
        "def get_posts(subreddit, score, start_date, end_date, query, size):\n",
        "    PULLPUSH_URL = (\n",
        "        f'https://api.pullpush.io/reddit/submission/search'\n",
        "        f'?html_decode=True&subreddit={subreddit}&score=%3E{score}'\n",
        "        f'&since={start_date}&until={end_date}&q={query}&size={size}'\n",
        "    )\n",
        "    response = requests.get(PULLPUSH_URL)\n",
        "\n",
        "    if response.status_code == 200:\n",
        "      return response.json()\n",
        "    else:\n",
        "      print(f'Request failed with status code {response.status_code}')\n",
        "      print(response.text)\n",
        "      return -1\n",
        "\n",
        "def parse_posts(data):\n",
        "  parsed = []\n",
        "  data = data[\"data\"]\n",
        "  for post in data:\n",
        "    parsed.append({\n",
        "      \"id\": post[\"id\"],\n",
        "      \"created_utc\": datetime.datetime.utcfromtimestamp(post[\"created_utc\"]).strftime('%Y-%m'),\n",
        "      \"subreddit\": post[\"subreddit\"],\n",
        "      \"title\": post[\"title\"],\n",
        "    })\n",
        "  return parsed\n",
        "\n",
        "def update_timestamp(timestamp):\n",
        "  dt = datetime.datetime.utcfromtimestamp(timestamp)\n",
        "  updated_dt = dt + relativedelta(months=1)\n",
        "  return int(updated_dt.timestamp())\n",
        "\n",
        "total_tasks = len(SUBREDDITS) * len(QUERIES)\n",
        "with tqdm(total=total_tasks, desc=\"Processing Subreddits and Queries\") as pbar:\n",
        "  current_date = BEGIN_DATE_START\n",
        "  curr_span = BEGIN_DATE_SPAN\n",
        "  while curr_span < END_DATE:\n",
        "    for subreddit in SUBREDDITS:\n",
        "      for query in QUERIES:\n",
        "        data = get_posts(subreddit, SCORE, current_date, curr_span, query, SIZE)\n",
        "        time.sleep(DELAY_SEC)\n",
        "        if data == -1:\n",
        "          print('Taking a 1 min break...')\n",
        "          time.sleep(DELAY_FATAL)\n",
        "          print('Trying again...')\n",
        "          data = get_posts(subreddit, SCORE, current_date, curr_span, query, SIZE)\n",
        "          if data == -1:\n",
        "            break\n",
        "        parsed = parse_posts(data)\n",
        "        store_data(parsed, FILENAME)\n",
        "    current_date = update_timestamp(current_date)\n",
        "    curr_span = update_timestamp(curr_span)\n",
        "    pbar.update(1)\n",
        "  print(\"Data collection completed.\")"
      ],
      "metadata": {
        "colab": {
          "base_uri": "https://localhost:8080/"
        },
        "id": "KFCeZmyl86Oz",
        "outputId": "8fa08a5b-5254-462a-ba45-c5f2f1951b71"
      },
      "execution_count": 11,
      "outputs": [
        {
          "output_type": "stream",
          "name": "stderr",
          "text": [
            "Processing Subreddits and Queries: 12it [04:51, 24.27s/it]"
          ]
        },
        {
          "output_type": "stream",
          "name": "stdout",
          "text": [
            "Data collection completed.\n"
          ]
        },
        {
          "output_type": "stream",
          "name": "stderr",
          "text": [
            "\n"
          ]
        }
      ]
    },
    {
      "cell_type": "markdown",
      "source": [
        "### Pre-clean\n",
        "Remove duplicate posts by ID. Posts with the same title in different subreddits are inherently unqiue."
      ],
      "metadata": {
        "id": "-iAIz-zgzJch"
      }
    },
    {
      "cell_type": "code",
      "source": [
        "filepath = os.path.join(LOC, FILENAME)\n",
        "df = pd.read_csv(filepath, sep='\\t')\n",
        "df_clean = df.drop_duplicates(subset=['id'])\n",
        "df_clean.to_csv(filepath, sep='\\t', index=False)"
      ],
      "metadata": {
        "id": "cADed_BSzrG7"
      },
      "execution_count": 15,
      "outputs": []
    },
    {
      "cell_type": "markdown",
      "source": [
        "## Retrieve comments for each post"
      ],
      "metadata": {
        "id": "RKIScQWdsrWB"
      }
    },
    {
      "cell_type": "code",
      "source": [
        "KEYWORDS = [\n",
        "    'justin trudeau', 'trudeau', 'pieere polievre', 'polievre', 'jagmeet singh', 'singh', 'elizabeth may',\n",
        "    'mark carney', 'carney'\n",
        "    'bloc quebecois', 'bloc', 'green party', 'greens', 'ndp', 'new democrats party'\n",
        "    'liberal party of canada', 'liberal party', 'liberals', 'lpc',\n",
        "    'conservative party of canada', 'conservative party', 'conservatives', 'cpc',\n",
        "    'election', 'polls', 'policy', 'policies', 'rating'\n",
        "]\n",
        "\n",
        "reddit = praw.Reddit(\n",
        "  client_id=\"wVcIHX1QOLw9KlL41lmc4Q\",\n",
        "  client_secret=\"cLN2rULYgw0pjOpt5_dxrK_d_8Uprw\",\n",
        "  user_agent=\"sentiment-analy by u/NecessaryAd803\",\n",
        ")"
      ],
      "metadata": {
        "colab": {
          "base_uri": "https://localhost:8080/"
        },
        "id": "IDHwYrmTPaV8",
        "outputId": "bef42606-0638-467c-b3fb-586e24386508"
      },
      "execution_count": 58,
      "outputs": [
        {
          "output_type": "stream",
          "name": "stdout",
          "text": [
            "Drive already mounted at /content/drive; to attempt to forcibly remount, call drive.mount(\"/content/drive\", force_remount=True).\n"
          ]
        }
      ]
    },
    {
      "cell_type": "markdown",
      "source": [
        "# Data Sanitization and Preperation\n",
        "Removes stopwords, handles special characters, and applies stemming and lemmatization. Partitions iMBD data into training and test sets. Encodes numerically to make use of in NN. Tokenizes text into meaninful units and pads for uniform input length."
      ],
      "metadata": {
        "id": "n5S3gGYuF8Cd"
      }
    },
    {
      "cell_type": "markdown",
      "source": [
        "## Cleaning"
      ],
      "metadata": {
        "id": "eTW_3jg1E600"
      }
    },
    {
      "cell_type": "code",
      "source": [
        "nltk.download('stopwords')\n",
        "\n",
        "def remove_stopwords(text):\n",
        "    stop_words = stopwords.words('english')\n",
        "    words = text.split()\n",
        "    filtered_sentence = ''\n",
        "    for word in words:\n",
        "        if word not in stop_words:\n",
        "            filtered_sentence = filtered_sentence + word + ' '\n",
        "    return filtered_sentence\n",
        "\n",
        "def normalize_text(text):\n",
        "    text = text.lower()\n",
        "    text = re.sub('https?://\\S+|www\\.\\S+', '', text)\n",
        "    text = re.sub('\\\\W', ' ', text)\n",
        "    text = re.sub('\\n', '', text)\n",
        "    text = re.sub(' +', ' ', text)\n",
        "    text = re.sub('^ ', '', text)\n",
        "    text = re.sub(' $', '', text)\n",
        "    return text\n",
        "\n",
        "def remove_punctuation(text):\n",
        "    table = str.maketrans('','',string.punctuation)\n",
        "    words = text.split()\n",
        "    filtered_sentence = ''\n",
        "    for word in words:\n",
        "        word = word.translate(table)\n",
        "        filtered_sentence = filtered_sentence + word + ' '\n",
        "    return filtered_sentence\n",
        "\n",
        "def stemming(text):\n",
        "    ps = PorterStemmer()\n",
        "    words = text.split()\n",
        "    filtered_sentence = ''\n",
        "    for word in words:\n",
        "        word = ps.stem(word)\n",
        "        filtered_sentence = filtered_sentence + word + ' '\n",
        "    return filtered_sentence\n",
        "\n",
        "def clean_text(text):\n",
        "    text = text.lower()\n",
        "    text = text.replace(',',' , ')\n",
        "    text = text.replace('.',' . ')\n",
        "    text = text.replace('/',' / ')\n",
        "    text = text.replace('@',' @ ')\n",
        "    text = text.replace('#',' # ')\n",
        "    text = text.replace('?',' ? ')\n",
        "    text = normalize_text(text)\n",
        "    text = remove_punctuation(text)\n",
        "    text = remove_stopwords(text)\n",
        "    text = stemming(text)\n",
        "    return text\n",
        "\n",
        "def clean(df):\n",
        "    tqdm.pandas(desc='Cleaning text')\n",
        "    df['text'] = df['text'].progress_apply(clean_text)\n",
        "    print(df.head())\n",
        "    return df"
      ],
      "metadata": {
        "colab": {
          "base_uri": "https://localhost:8080/"
        },
        "id": "jdIvrAl_F6p0",
        "outputId": "c76bdd62-8d89-414c-8bfd-b794d94c5549"
      },
      "execution_count": 8,
      "outputs": [
        {
          "output_type": "stream",
          "name": "stderr",
          "text": [
            "[nltk_data] Downloading package stopwords to /root/nltk_data...\n",
            "[nltk_data]   Unzipping corpora/stopwords.zip.\n"
          ]
        }
      ]
    },
    {
      "cell_type": "markdown",
      "source": [
        "## Splitting, Encoding, Tokenization\n",
        "For use by LSTM and BERT models."
      ],
      "metadata": {
        "id": "-560HIP91dfl"
      }
    },
    {
      "cell_type": "code",
      "source": [
        "VOCAB_SIZE = 10000\n",
        "MAX_LEN = 50\n",
        "trunc_t = 'post'\n",
        "pad_t = 'post'\n",
        "oov_tok = '<OOV>'"
      ],
      "metadata": {
        "id": "n983MzovF5o2"
      },
      "execution_count": 4,
      "outputs": []
    },
    {
      "cell_type": "code",
      "source": [
        "def lsvc_split_encode(df):\n",
        "  x = df['text']\n",
        "  y = df['sentiment']\n",
        "\n",
        "  x_train, x_test, y_train, y_test = train_test_split(x, y, test_size=0.2, random_state=42, shuffle=True)\n",
        "\n",
        "  return x_train, x_test, y_train, y_test\n",
        "\n",
        "def lstm_split_encode(df):\n",
        "  x = df['text']\n",
        "  y = df['sentiment']\n",
        "  one = OneHotEncoder()\n",
        "  y = one.fit_transform(np.asarray(y).reshape(-1,1)).toarray()\n",
        "\n",
        "  x_train, x_test, y_train, y_test = train_test_split(x, y, test_size=0.2, random_state=42, shuffle=True)\n",
        "\n",
        "  return x_train, x_test, y_train, y_test\n",
        "\n",
        "def lstm_tok_pad(x_train, x_test):\n",
        "  tokenizer = Tokenizer(num_words=VOCAB_SIZE, oov_token=oov_tok)\n",
        "  tokenizer.fit_on_texts(x_train)\n",
        "\n",
        "  x_train_seq = tokenizer.texts_to_sequences(x_train)\n",
        "  x_test_seq = tokenizer.texts_to_sequences(x_test)\n",
        "\n",
        "  x_train_pad = pad_sequences(x_train_seq, maxlen=MAX_LEN, padding=pad_t, truncating=trunc_t)\n",
        "  x_test_pad = pad_sequences(x_test_seq, maxlen=MAX_LEN, padding=pad_t, truncating=trunc_t)\n",
        "\n",
        "  return x_train_pad, x_test_pad\n",
        "\n",
        "def bert_tok_pad(X_train, y_train):\n",
        "  tokenizer = BertTokenizer.from_pretrained('bert-base-uncased')\n",
        "  inputs = tokenizer(\n",
        "      list(X_train),\n",
        "      padding=True,\n",
        "      truncation=True,\n",
        "      max_length=128,\n",
        "      return_tensors='pt'\n",
        "  )\n",
        "  input_ids = inputs['input_ids']\n",
        "  attention_mask = inputs['attention_mask']\n",
        "  labels = torch.tensor(y_train)\n",
        "\n",
        "  return input_ids, attention_mask, labels"
      ],
      "metadata": {
        "id": "oxbZoseH1iL9"
      },
      "execution_count": 9,
      "outputs": []
    },
    {
      "cell_type": "markdown",
      "source": [
        "# Define Sentiment Models\n",
        "We utilize LSVC, LSTM and BERT in comparison. LSVC acts as the base model in this case."
      ],
      "metadata": {
        "id": "YjS1pyS2GR6Z"
      }
    },
    {
      "cell_type": "markdown",
      "source": [
        "## LSVC"
      ],
      "metadata": {
        "id": "aozA8aV8NLwc"
      }
    },
    {
      "cell_type": "code",
      "source": [
        "def LSVCModel(x_train, y_train):\n",
        "  vectorizer = TfidfVectorizer()\n",
        "  lsvc_model = LinearSVC()\n",
        "  model_pipeline = make_pipeline(vectorizer, lsvc_model)\n",
        "  model_pipeline.fit(x_train, y_train)\n",
        "  return model_pipeline"
      ],
      "metadata": {
        "id": "P8tBtleZNK1A"
      },
      "execution_count": 9,
      "outputs": []
    },
    {
      "cell_type": "markdown",
      "source": [
        "## RNN Model (LSTM)"
      ],
      "metadata": {
        "id": "uQcUO0lpIlwW"
      }
    },
    {
      "source": [
        "def LSTMModel():\n",
        "  model = Sequential()\n",
        "\n",
        "  model.add(Embedding(VOCAB_SIZE, 32, input_length = MAX_LEN))\n",
        "  model.add(LSTM(64))\n",
        "  model.add(Dropout(0.5))\n",
        "  model.add(Dense(3, activation='softmax'))\n",
        "\n",
        "  model.compile(optimizer = 'adam', loss = 'categorical_crossentropy', metrics = ['accuracy'])\n",
        "\n",
        "  early_stopping = EarlyStopping(monitor='val_loss', patience=3, restore_best_weights=True)\n",
        "\n",
        "  return model, early_stopping"
      ],
      "cell_type": "code",
      "metadata": {
        "id": "m9wByBY_2C0q"
      },
      "execution_count": 68,
      "outputs": []
    },
    {
      "cell_type": "markdown",
      "source": [
        "# Training / Eval"
      ],
      "metadata": {
        "id": "8E6yo48xDnPL"
      }
    },
    {
      "cell_type": "code",
      "source": [
        "df = pd.read_csv(TRAIN_PATH, sep='\\t')\n",
        "df.columns = [\"sentiment\", \"text\"]\n",
        "df = clean(df)"
      ],
      "metadata": {
        "colab": {
          "base_uri": "https://localhost:8080/"
        },
        "id": "grR6Xx6mGCxc",
        "outputId": "b652e4f4-3349-4d0b-c065-71b876bca1d2"
      },
      "execution_count": 10,
      "outputs": [
        {
          "output_type": "stream",
          "name": "stdout",
          "text": [
            "Drive already mounted at /content/drive; to attempt to forcibly remount, call drive.mount(\"/content/drive\", force_remount=True).\n"
          ]
        },
        {
          "output_type": "stream",
          "name": "stderr",
          "text": [
            "Cleaning text: 100%|██████████| 32745/32745 [01:53<00:00, 288.90it/s]\n"
          ]
        },
        {
          "output_type": "stream",
          "name": "stdout",
          "text": [
            "   sentiment                                               text\n",
            "0          1  realli slow catch movi like rocket fast enough...\n",
            "1          1  controversi movi high rate prais understand wa...\n",
            "2          1  movi tricki stori good actor done great act movi \n",
            "3          0  believ movi receiv award long slow move predic...\n",
            "4          2  usual debat wether godfath goodfella better mf...\n"
          ]
        }
      ]
    },
    {
      "cell_type": "markdown",
      "source": [
        "## LSVC"
      ],
      "metadata": {
        "id": "rAoMSYGDQ9jK"
      }
    },
    {
      "cell_type": "code",
      "source": [
        "x_train, x_test, y_train, y_test = lsvc_split_encode(df)\n",
        "model = LSVCModel(x_train, y_train)"
      ],
      "metadata": {
        "id": "AOOUWJXnQ_9V"
      },
      "execution_count": 42,
      "outputs": []
    },
    {
      "cell_type": "code",
      "source": [
        "y_pred = model.predict(x_test)\n",
        "cm = confusion_matrix(y_test, y_pred)\n",
        "\n",
        "plt.figure(figsize=(8, 6))\n",
        "sns.heatmap(cm, annot=True, fmt='d', cmap='Blues',\n",
        "            xticklabels=['Negative', 'Neutral', 'Positive'],\n",
        "            yticklabels=['Negative', 'Neutral', 'Positive'])\n",
        "plt.xlabel('Predicted Label')\n",
        "plt.ylabel('True Label')\n",
        "plt.title('Confusion Matrix')\n",
        "plt.show()\n",
        "\n",
        "accuracy = accuracy_score(y_test, y_pred)\n",
        "precision = precision_score(y_test, y_pred, average='weighted')\n",
        "recall = recall_score(y_test, y_pred, average='weighted')\n",
        "f1 = f1_score(y_test, y_pred, average='weighted')\n",
        "\n",
        "print(f\"Accuracy: {accuracy:.4f}\")\n",
        "print(f\"Precision: {precision:.4f}\")\n",
        "print(f\"Recall: {recall:.4f}\")\n",
        "print(f\"F1-Score: {f1:.4f}\")"
      ],
      "metadata": {
        "colab": {
          "base_uri": "https://localhost:8080/",
          "height": 629
        },
        "id": "TokVl4beXBk0",
        "outputId": "a08b7717-a610-4da0-b2aa-d626fb438251"
      },
      "execution_count": 43,
      "outputs": [
        {
          "output_type": "display_data",
          "data": {
            "text/plain": [
              "<Figure size 800x600 with 2 Axes>"
            ],
            "image/png": "[encoded data removed]"
          },
          "metadata": {}
        },
        {
          "output_type": "stream",
          "name": "stdout",
          "text": [
            "Accuracy: 0.6183\n",
            "Precision: 0.6131\n",
            "Recall: 0.6183\n",
            "F1-Score: 0.6149\n"
          ]
        }
      ]
    },
    {
      "cell_type": "markdown",
      "source": [
        "## LSTM"
      ],
      "metadata": {
        "id": "tCi7jRe4FZh4"
      }
    },
    {
      "source": [
        "x_train, x_test, y_train, y_test = lstm_split_encode(df)\n",
        "x_train, x_test = lstm_tok_pad(x_train, x_test)\n",
        "\n",
        "x_train = np.array(x_train)\n",
        "x_test = np.array(x_test)\n",
        "y_train = np.array(y_train)\n",
        "y_test = np.array(y_test)\n",
        "\n",
        "lstm = LSTMModel()\n",
        "print(model.summary())\n",
        "\n",
        "model = lstm[0]\n",
        "early_stopping = lstm[1]\n",
        "history = model.fit(x_train,y_train,epochs=15,batch_size=32,validation_split=0.1,callbacks=[early_stopping])"
      ],
      "cell_type": "code",
      "metadata": {
        "colab": {
          "base_uri": "https://localhost:8080/",
          "height": 494
        },
        "id": "Xy7wJSDjqd6c",
        "outputId": "346a045f-beb4-4920-81f2-a80fa0bf6bea"
      },
      "execution_count": 69,
      "outputs": [
        {
          "output_type": "stream",
          "name": "stderr",
          "text": [
            "/usr/local/lib/python3.11/dist-packages/keras/src/layers/core/embedding.py:90: UserWarning: Argument `input_length` is deprecated. Just remove it.\n",
            "  warnings.warn(\n"
          ]
        },
        {
          "output_type": "display_data",
          "data": {
            "text/plain": [
              "\u001b[1mModel: \"sequential_19\"\u001b[0m\n"
            ],
            "text/html": [
              "<pre style=\"white-space:pre;overflow-x:auto;line-height:normal;font-family:Menlo,'DejaVu Sans Mono',consolas,'Courier New',monospace\"><span style=\"font-weight: bold\">Model: \"sequential_19\"</span>\n",
              "</pre>\n"
            ]
          },
          "metadata": {}
        },
        {
          "output_type": "display_data",
          "data": {
            "text/plain": [
              "┏━━━━━━━━━━━━━━━━━━━━━━━━━━━━━━━━━━━━━━┳━━━━━━━━━━━━━━━━━━━━━━━━━━━━━┳━━━━━━━━━━━━━━━━━┓\n",
              "┃\u001b[1m \u001b[0m\u001b[1mLayer (type)                        \u001b[0m\u001b[1m \u001b[0m┃\u001b[1m \u001b[0m\u001b[1mOutput Shape               \u001b[0m\u001b[1m \u001b[0m┃\u001b[1m \u001b[0m\u001b[1m        Param #\u001b[0m\u001b[1m \u001b[0m┃\n",
              "┡━━━━━━━━━━━━━━━━━━━━━━━━━━━━━━━━━━━━━━╇━━━━━━━━━━━━━━━━━━━━━━━━━━━━━╇━━━━━━━━━━━━━━━━━┩\n",
              "│ embedding_18 (\u001b[38;5;33mEmbedding\u001b[0m)             │ (\u001b[38;5;45mNone\u001b[0m, \u001b[38;5;34m50\u001b[0m, \u001b[38;5;34m32\u001b[0m)              │         \u001b[38;5;34m320,000\u001b[0m │\n",
              "├──────────────────────────────────────┼─────────────────────────────┼─────────────────┤\n",
              "│ lstm_22 (\u001b[38;5;33mLSTM\u001b[0m)                       │ (\u001b[38;5;45mNone\u001b[0m, \u001b[38;5;34m64\u001b[0m)                  │          \u001b[38;5;34m24,832\u001b[0m │\n",
              "├──────────────────────────────────────┼─────────────────────────────┼─────────────────┤\n",
              "│ dropout_15 (\u001b[38;5;33mDropout\u001b[0m)                 │ (\u001b[38;5;45mNone\u001b[0m, \u001b[38;5;34m64\u001b[0m)                  │               \u001b[38;5;34m0\u001b[0m │\n",
              "├──────────────────────────────────────┼─────────────────────────────┼─────────────────┤\n",
              "│ dense_18 (\u001b[38;5;33mDense\u001b[0m)                     │ (\u001b[38;5;45mNone\u001b[0m, \u001b[38;5;34m3\u001b[0m)                   │             \u001b[38;5;34m195\u001b[0m │\n",
              "└──────────────────────────────────────┴─────────────────────────────┴─────────────────┘\n"
            ],
            "text/html": [
              "<pre style=\"white-space:pre;overflow-x:auto;line-height:normal;font-family:Menlo,'DejaVu Sans Mono',consolas,'Courier New',monospace\">┏━━━━━━━━━━━━━━━━━━━━━━━━━━━━━━━━━━━━━━┳━━━━━━━━━━━━━━━━━━━━━━━━━━━━━┳━━━━━━━━━━━━━━━━━┓\n",
              "┃<span style=\"font-weight: bold\"> Layer (type)                         </span>┃<span style=\"font-weight: bold\"> Output Shape                </span>┃<span style=\"font-weight: bold\">         Param # </span>┃\n",
              "┡━━━━━━━━━━━━━━━━━━━━━━━━━━━━━━━━━━━━━━╇━━━━━━━━━━━━━━━━━━━━━━━━━━━━━╇━━━━━━━━━━━━━━━━━┩\n",
              "│ embedding_18 (<span style=\"color: #0087ff; text-decoration-color: #0087ff\">Embedding</span>)             │ (<span style=\"color: #00d7ff; text-decoration-color: #00d7ff\">None</span>, <span style=\"color: #00af00; text-decoration-color: #00af00\">50</span>, <span style=\"color: #00af00; text-decoration-color: #00af00\">32</span>)              │         <span style=\"color: #00af00; text-decoration-color: #00af00\">320,000</span> │\n",
              "├──────────────────────────────────────┼─────────────────────────────┼─────────────────┤\n",
              "│ lstm_22 (<span style=\"color: #0087ff; text-decoration-color: #0087ff\">LSTM</span>)                       │ (<span style=\"color: #00d7ff; text-decoration-color: #00d7ff\">None</span>, <span style=\"color: #00af00; text-decoration-color: #00af00\">64</span>)                  │          <span style=\"color: #00af00; text-decoration-color: #00af00\">24,832</span> │\n",
              "├──────────────────────────────────────┼─────────────────────────────┼─────────────────┤\n",
              "│ dropout_15 (<span style=\"color: #0087ff; text-decoration-color: #0087ff\">Dropout</span>)                 │ (<span style=\"color: #00d7ff; text-decoration-color: #00d7ff\">None</span>, <span style=\"color: #00af00; text-decoration-color: #00af00\">64</span>)                  │               <span style=\"color: #00af00; text-decoration-color: #00af00\">0</span> │\n",
              "├──────────────────────────────────────┼─────────────────────────────┼─────────────────┤\n",
              "│ dense_18 (<span style=\"color: #0087ff; text-decoration-color: #0087ff\">Dense</span>)                     │ (<span style=\"color: #00d7ff; text-decoration-color: #00d7ff\">None</span>, <span style=\"color: #00af00; text-decoration-color: #00af00\">3</span>)                   │             <span style=\"color: #00af00; text-decoration-color: #00af00\">195</span> │\n",
              "└──────────────────────────────────────┴─────────────────────────────┴─────────────────┘\n",
              "</pre>\n"
            ]
          },
          "metadata": {}
        },
        {
          "output_type": "display_data",
          "data": {
            "text/plain": [
              "\u001b[1m Total params: \u001b[0m\u001b[38;5;34m1,035,083\u001b[0m (3.95 MB)\n"
            ],
            "text/html": [
              "<pre style=\"white-space:pre;overflow-x:auto;line-height:normal;font-family:Menlo,'DejaVu Sans Mono',consolas,'Courier New',monospace\"><span style=\"font-weight: bold\"> Total params: </span><span style=\"color: #00af00; text-decoration-color: #00af00\">1,035,083</span> (3.95 MB)\n",
              "</pre>\n"
            ]
          },
          "metadata": {}
        },
        {
          "output_type": "display_data",
          "data": {
            "text/plain": [
              "\u001b[1m Trainable params: \u001b[0m\u001b[38;5;34m345,027\u001b[0m (1.32 MB)\n"
            ],
            "text/html": [
              "<pre style=\"white-space:pre;overflow-x:auto;line-height:normal;font-family:Menlo,'DejaVu Sans Mono',consolas,'Courier New',monospace\"><span style=\"font-weight: bold\"> Trainable params: </span><span style=\"color: #00af00; text-decoration-color: #00af00\">345,027</span> (1.32 MB)\n",
              "</pre>\n"
            ]
          },
          "metadata": {}
        },
        {
          "output_type": "display_data",
          "data": {
            "text/plain": [
              "\u001b[1m Non-trainable params: \u001b[0m\u001b[38;5;34m0\u001b[0m (0.00 B)\n"
            ],
            "text/html": [
              "<pre style=\"white-space:pre;overflow-x:auto;line-height:normal;font-family:Menlo,'DejaVu Sans Mono',consolas,'Courier New',monospace\"><span style=\"font-weight: bold\"> Non-trainable params: </span><span style=\"color: #00af00; text-decoration-color: #00af00\">0</span> (0.00 B)\n",
              "</pre>\n"
            ]
          },
          "metadata": {}
        },
        {
          "output_type": "display_data",
          "data": {
            "text/plain": [
              "\u001b[1m Optimizer params: \u001b[0m\u001b[38;5;34m690,056\u001b[0m (2.63 MB)\n"
            ],
            "text/html": [
              "<pre style=\"white-space:pre;overflow-x:auto;line-height:normal;font-family:Menlo,'DejaVu Sans Mono',consolas,'Courier New',monospace\"><span style=\"font-weight: bold\"> Optimizer params: </span><span style=\"color: #00af00; text-decoration-color: #00af00\">690,056</span> (2.63 MB)\n",
              "</pre>\n"
            ]
          },
          "metadata": {}
        },
        {
          "output_type": "stream",
          "name": "stdout",
          "text": [
            "None\n",
            "Epoch 1/15\n",
            "\u001b[1m737/737\u001b[0m \u001b[32m━━━━━━━━━━━━━━━━━━━━\u001b[0m\u001b[37m\u001b[0m \u001b[1m8s\u001b[0m 8ms/step - accuracy: 0.4153 - loss: 1.0408 - val_accuracy: 0.5683 - val_loss: 0.8754\n",
            "Epoch 2/15\n",
            "\u001b[1m737/737\u001b[0m \u001b[32m━━━━━━━━━━━━━━━━━━━━\u001b[0m\u001b[37m\u001b[0m \u001b[1m5s\u001b[0m 6ms/step - accuracy: 0.6022 - loss: 0.8421 - val_accuracy: 0.5863 - val_loss: 0.8646\n",
            "Epoch 3/15\n",
            "\u001b[1m737/737\u001b[0m \u001b[32m━━━━━━━━━━━━━━━━━━━━\u001b[0m\u001b[37m\u001b[0m \u001b[1m6s\u001b[0m 8ms/step - accuracy: 0.6714 - loss: 0.7424 - val_accuracy: 0.5763 - val_loss: 0.9036\n",
            "Epoch 4/15\n",
            "\u001b[1m737/737\u001b[0m \u001b[32m━━━━━━━━━━━━━━━━━━━━\u001b[0m\u001b[37m\u001b[0m \u001b[1m5s\u001b[0m 7ms/step - accuracy: 0.7322 - loss: 0.6360 - val_accuracy: 0.5615 - val_loss: 0.9527\n",
            "Epoch 5/15\n",
            "\u001b[1m737/737\u001b[0m \u001b[32m━━━━━━━━━━━━━━━━━━━━\u001b[0m\u001b[37m\u001b[0m \u001b[1m5s\u001b[0m 6ms/step - accuracy: 0.7757 - loss: 0.5489 - val_accuracy: 0.5618 - val_loss: 1.0617\n"
          ]
        }
      ]
    },
    {
      "cell_type": "code",
      "source": [
        "score = model.evaluate(np.asarray(x_test),np.asarray(y_test))\n",
        "y_pred_probs = model.predict(x_test)\n",
        "y_pred = np.argmax(y_pred_probs, axis=1)\n",
        "y_test_labels = np.argmax(y_test, axis=1)\n",
        "cm = confusion_matrix(y_test_labels, y_pred)\n",
        "\n",
        "plt.figure(figsize=(8, 6))\n",
        "sns.heatmap(cm, annot=True, fmt='d', cmap='Blues',\n",
        "            xticklabels=['Negative', 'Neutral', 'Positive'],\n",
        "            yticklabels=['Negative', 'Neutral', 'Positive'])\n",
        "plt.xlabel('Predicted Label')\n",
        "plt.ylabel('True Label')\n",
        "plt.title('Confusion Matrix')\n",
        "plt.show()\n",
        "\n",
        "accuracy = accuracy_score(y_test_labels, y_pred)\n",
        "precision = precision_score(y_test_labels, y_pred, average='weighted')\n",
        "recall = recall_score(y_test_labels, y_pred, average='weighted')\n",
        "f1 = f1_score(y_test_labels, y_pred, average='weighted')\n",
        "\n",
        "print(f\"Accuracy: {accuracy:.4f}\")\n",
        "print(f\"Precision: {precision:.4f}\")\n",
        "print(f\"Recall: {recall:.4f}\")\n",
        "print(f\"F1-Score: {f1:.4f}\")"
      ],
      "metadata": {
        "colab": {
          "base_uri": "https://localhost:8080/",
          "height": 662
        },
        "id": "kzLdAAwkXOpd",
        "outputId": "1537c6d6-45c3-4bed-bfcc-2ab93481d18e"
      },
      "execution_count": 67,
      "outputs": [
        {
          "output_type": "stream",
          "name": "stdout",
          "text": [
            "\u001b[1m205/205\u001b[0m \u001b[32m━━━━━━━━━━━━━━━━━━━━\u001b[0m\u001b[37m\u001b[0m \u001b[1m1s\u001b[0m 6ms/step - accuracy: 0.6087 - loss: 0.8523\n",
            "\u001b[1m205/205\u001b[0m \u001b[32m━━━━━━━━━━━━━━━━━━━━\u001b[0m\u001b[37m\u001b[0m \u001b[1m1s\u001b[0m 3ms/step\n"
          ]
        },
        {
          "output_type": "display_data",
          "data": {
            "text/plain": [
              "<Figure size 800x600 with 2 Axes>"
            ],
            "image/png": "[encoded data removed]"
          },
          "metadata": {}
        },
        {
          "output_type": "stream",
          "name": "stdout",
          "text": [
            "Accuracy: 0.5949\n",
            "Precision: 0.5815\n",
            "Recall: 0.5949\n",
            "F1-Score: 0.5821\n"
          ]
        }
      ]
    },
    {
      "cell_type": "markdown",
      "source": [
        "# Experiment"
      ],
      "metadata": {
        "id": "8m63SU2BRDMm"
      }
    },
    {
      "cell_type": "markdown",
      "source": [
        "# Results"
      ],
      "metadata": {
        "id": "O8iGNszThO1z"
      }
    },
    {
      "cell_type": "markdown",
      "source": [
        "### Timeline Analysis of Sentiment"
      ],
      "metadata": {
        "id": "XDwX-jC8hRyx"
      }
    },
    {
      "cell_type": "code",
      "source": [],
      "metadata": {
        "id": "WQFZvsRvhb3M"
      },
      "execution_count": null,
      "outputs": []
    },
    {
      "cell_type": "markdown",
      "source": [
        "### Word Cloud and Timeline Analysis of Topics"
      ],
      "metadata": {
        "id": "3NBi12xvhWY0"
      }
    },
    {
      "cell_type": "code",
      "source": [],
      "metadata": {
        "id": "05tlRkoShjc7"
      },
      "execution_count": null,
      "outputs": []
    }
  ]
}